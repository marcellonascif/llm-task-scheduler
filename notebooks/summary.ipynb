{
 "cells": [
  {
   "cell_type": "markdown",
   "id": "379d5361",
   "metadata": {},
   "source": [
    "# Pré processamento da coluna SUMMARY"
   ]
  },
  {
   "cell_type": "code",
   "execution_count": 1,
   "id": "29fcfc92",
   "metadata": {},
   "outputs": [],
   "source": [
    "import pandas as pd\n",
    "import string"
   ]
  },
  {
   "cell_type": "code",
   "execution_count": 2,
   "id": "8fed6f22",
   "metadata": {},
   "outputs": [
    {
     "name": "stdout",
     "output_type": "stream",
     "text": [
      "CSV carregado com engine C! 4463 linhas encontradas.\n"
     ]
    }
   ],
   "source": [
    "try:\n",
    "    df = pd.read_csv(\n",
    "        '../data/new_tasks.csv',\n",
    "        encoding='utf-8',\n",
    "        sep=\",\",\n",
    "    )\n",
    "    print(f\"CSV carregado com engine C! {len(df)} linhas encontradas.\")\n",
    "\n",
    "except Exception as e:\n",
    "    print(f\"Erro ao ler CSV: {e}\")"
   ]
  },
  {
   "cell_type": "code",
   "execution_count": 3,
   "id": "0a06b66e",
   "metadata": {},
   "outputs": [
    {
     "name": "stdout",
     "output_type": "stream",
     "text": [
      "=== INFORMAÇÕES BÁSICAS DO DATASET ===\n",
      "Shape: (4463, 6)\n",
      "Colunas: ['SUMMARY', 'DTSTART', 'DTEND', 'CALENDAR', 'DURATION', 'CREATED']\n",
      "Tipos de dados:\n",
      "SUMMARY      object\n",
      "DTSTART      object\n",
      "DTEND        object\n",
      "CALENDAR     object\n",
      "DURATION    float64\n",
      "CREATED      object\n",
      "dtype: object\n",
      "\n",
      "Resumo da coluna SUMMARY:\n",
      "  - Tipo de dado: object\n",
      "  - Valores únicos: 372\n",
      "  - Valores nulos: 0\n",
      "  - Primeiros 5 valores:\n",
      "0     🍳\n",
      "1     🧋\n",
      "2    🍽️\n",
      "3     🥪\n",
      "4     🍌\n",
      "Name: SUMMARY, dtype: object\n"
     ]
    }
   ],
   "source": [
    "# Verificar informações básicas do dataset\n",
    "print(\"=== INFORMAÇÕES BÁSICAS DO DATASET ===\")\n",
    "print(f\"Shape: {df.shape}\")\n",
    "print(f\"Colunas: {df.columns.tolist()}\")\n",
    "print(f\"Tipos de dados:\\n{df.dtypes}\")\n",
    "\n",
    "# Informações apenas da coluna SUMMARY\n",
    "print(f\"\\nResumo da coluna SUMMARY:\")\n",
    "print(f\"  - Tipo de dado: {df['SUMMARY'].dtype}\")\n",
    "print(f\"  - Valores únicos: {df['SUMMARY'].nunique()}\")\n",
    "print(f\"  - Valores nulos: {df['SUMMARY'].isnull().sum()}\")\n",
    "print(f\"  - Primeiros 5 valores:\\n{df['SUMMARY'].head()}\")"
   ]
  },
  {
   "cell_type": "markdown",
   "id": "f16a371f",
   "metadata": {},
   "source": [
    "### Análise"
   ]
  },
  {
   "cell_type": "code",
   "execution_count": 4,
   "id": "2cd70207",
   "metadata": {},
   "outputs": [
    {
     "name": "stdout",
     "output_type": "stream",
     "text": [
      "=== ANÁlISE DA COLUNA SUMMARY ===\n",
      "Quantidade de valores únicos: 372\n",
      "Valores únicos exportados para ../data/title_unique.csv\n"
     ]
    }
   ],
   "source": [
    "print(\"=== ANÁlISE DA COLUNA SUMMARY ===\")\n",
    "\n",
    "print(f\"Quantidade de valores únicos: {df['SUMMARY'].nunique()}\")\n",
    "# print(f\"Valores únicos: {df['SUMMARY'].unique()}\")\n",
    "\n",
    "# Exportar valores únicos da coluna SUMMARY para uma tabela CSV e usar uma LLM para clusterizar informacoes parecidas\n",
    "unique_summary = df[['SUMMARY', 'CALENDAR']].drop_duplicates().rename(columns={'SUMMARY': 'TITLE'})\n",
    "unique_summary = unique_summary.sort_values(by='TITLE').reset_index(drop=True)\n",
    "unique_summary.to_csv('../data/title_calendar_unique.csv', index=False, encoding='utf-8')\n",
    "print(\"Valores únicos exportados para ../data/title_unique.csv\")\n"
   ]
  },
  {
   "cell_type": "markdown",
   "id": "03bbf7f2",
   "metadata": {},
   "source": [
    "### Corrigindo os valores que estão com EMOJI"
   ]
  },
  {
   "cell_type": "code",
   "execution_count": 5,
   "id": "c1aa3804",
   "metadata": {},
   "outputs": [
    {
     "name": "stdout",
     "output_type": "stream",
     "text": [
      "0     🍳\n",
      "1     🧋\n",
      "2    🍽️\n",
      "3     🥪\n",
      "4     🍌\n",
      "5    🍽️\n",
      "6     🍳\n",
      "7     🧋\n",
      "Name: SUMMARY, dtype: object\n",
      "0      cafe da manha\n",
      "1    lanche da manha\n",
      "2             almoco\n",
      "3    lanche da tarde\n",
      "4         pre-treino\n",
      "5             jantar\n",
      "6      cafe da manha\n",
      "7    lanche da manha\n",
      "Name: SUMMARY, dtype: object\n"
     ]
    }
   ],
   "source": [
    "print(df['SUMMARY'].head(8))\n",
    "\n",
    "# 🧋: lanche da manha\n",
    "# 🍽️ e antes das 18:00: almoco\n",
    "# 🥪: lanche da tarde\n",
    "# 🍌: pre-treino\n",
    "# 🍽️ e exatamente ou depois das 18:00: jantar\n",
    "\n",
    "df.loc[df['SUMMARY'] == '🍳', 'SUMMARY'] = 'cafe da manha'\n",
    "df.loc[df['SUMMARY'] == '🧋', 'SUMMARY'] = 'lanche da manha'\n",
    "# Almoço: emoji 🍽️ e começa antes das 18h\n",
    "df.loc[(df['SUMMARY'] == '🍽️') & (pd.to_datetime(df['DTSTART']).dt.hour < 18), 'SUMMARY'] = 'almoco'\n",
    "df.loc[df['SUMMARY'] == '🥪', 'SUMMARY'] = 'lanche da tarde'\n",
    "df.loc[df['SUMMARY'] == '🍌', 'SUMMARY'] = 'pre-treino'\n",
    "df.loc[(df['SUMMARY'] == '🍽️') & (pd.to_datetime(df['DTSTART']).dt.hour >= 18), 'SUMMARY'] = 'jantar'\n",
    "\n",
    "print(df['SUMMARY'].head(8))\n"
   ]
  },
  {
   "cell_type": "markdown",
   "id": "3dbda371",
   "metadata": {},
   "source": [
    "## Limpando"
   ]
  },
  {
   "cell_type": "code",
   "execution_count": 6,
   "id": "3ddcfa37",
   "metadata": {},
   "outputs": [
    {
     "name": "stdout",
     "output_type": "stream",
     "text": [
      "=== Avaliação da coluna SUMMARY antes da normalização ===\n",
      "Valores únicos: 373\n",
      "Exemplos aleatórios: ['Pulo Big Jump', 'INF1301 - Relatório Plano de Ação', 'Zion', 'Niver Giovanna Lopes', 'Avaliação 4 Álgebra']\n",
      "\n",
      "=== Avaliação da coluna SUMMARY_NORM depois da normalização ===\n",
      "Valores únicos: 369\n",
      "Exemplos aleatórios: ['Pulo Big Jump', 'INF1301 - Relatório Plano de Ação', 'Zion', 'Niver Giovanna Lopes', 'Avaliação 4 Álgebra']\n"
     ]
    }
   ],
   "source": [
    "def normalize_text(text):\n",
    "    if pd.isnull(text):\n",
    "        return \"\"\n",
    "    # Lowercase\n",
    "    text = text.lower()\n",
    "    # Remove accents\n",
    "    # text = unicodedata.normalize('NFKD', text).encode('ASCII', 'ignore').decode('utf-8')\n",
    "    # Remove punctuation\n",
    "    text = text.translate(str.maketrans('', '', string.punctuation))\n",
    "    # Remove extra spaces\n",
    "    text = ' '.join(text.split())\n",
    "    return text\n",
    "\n",
    "# Avaliação antes da normalização\n",
    "print(\"=== Avaliação da coluna SUMMARY antes da normalização ===\")\n",
    "print(f\"Valores únicos: {df['SUMMARY'].nunique()}\")\n",
    "print(f\"Exemplos aleatórios: {df['SUMMARY'].drop_duplicates().sample(5, random_state=42).tolist()}\")\n",
    "\n",
    "df['SUMMARY_NORM'] = df['SUMMARY'].apply(normalize_text)\n",
    "\n",
    "# Avaliação depois da normalização\n",
    "print(\"\\n=== Avaliação da coluna SUMMARY_NORM depois da normalização ===\")\n",
    "print(f\"Valores únicos: {df['SUMMARY_NORM'].nunique()}\")\n",
    "print(f\"Exemplos aleatórios: {df['SUMMARY'].drop_duplicates().sample(5, random_state=42).tolist()}\")\n"
   ]
  },
  {
   "cell_type": "markdown",
   "id": "a6e8396b",
   "metadata": {},
   "source": [
    "### Dropando valores que não são necessários"
   ]
  },
  {
   "cell_type": "code",
   "execution_count": 7,
   "id": "7afa404f",
   "metadata": {},
   "outputs": [
    {
     "name": "stdout",
     "output_type": "stream",
     "text": [
      "Numero de linhas antes de retirar RescueTime: 4463\n",
      "Numero de linhas depois de retirar RescueTime: 4418\n"
     ]
    }
   ],
   "source": [
    "print('Numero de linhas antes de retirar RescueTime:', len(df))\n",
    "df = df[df['CALENDAR'] != 'RescueTime']\n",
    "print('Numero de linhas depois de retirar RescueTime:', len(df))"
   ]
  },
  {
   "cell_type": "code",
   "execution_count": 8,
   "id": "88ade517",
   "metadata": {},
   "outputs": [
    {
     "name": "stdout",
     "output_type": "stream",
     "text": [
      "Número de linhas antes de retirar o Rotina:  4418\n",
      "Número de linhas depois de retirar o Rotina:  4372\n"
     ]
    }
   ],
   "source": [
    "print('Número de linhas antes de retirar o Rotina: ', len(df))\n",
    "df = df[df['CALENDAR'] != 'Rotina']\n",
    "print('Número de linhas depois de retirar o Rotina: ', len(df))"
   ]
  },
  {
   "cell_type": "code",
   "execution_count": 9,
   "id": "2210e6fe",
   "metadata": {},
   "outputs": [
    {
     "name": "stdout",
     "output_type": "stream",
     "text": [
      "Número de linhas antes de retirar Parabéns!:  4372\n",
      "Número de linhas depois de retirar Parabéns!:  4348\n"
     ]
    }
   ],
   "source": [
    "print('Número de linhas antes de retirar Parabéns!: ', len(df))\n",
    "df = df[df['SUMMARY'] != 'Parabéns!']\n",
    "print('Número de linhas depois de retirar Parabéns!: ', len(df))"
   ]
  },
  {
   "cell_type": "markdown",
   "id": "f2b76e0d",
   "metadata": {},
   "source": [
    "### Tratando valores da coluna SUMMARY que possuem dois valores na coluna CALENDAR"
   ]
  },
  {
   "cell_type": "code",
   "execution_count": 10,
   "id": "f2b23e31",
   "metadata": {},
   "outputs": [
    {
     "name": "stdout",
     "output_type": "stream",
     "text": [
      "=== TRATANDO Duplicatas da coluna SUMMARY ===\n",
      "Valores de CALENDAR para \"Academia\": ['Exercícios']\n",
      "Valores de CALENDAR para \"Aldeia\": ['Social']\n",
      "Valores de CALENDAR para \"Alessandra\": ['Saúde']\n",
      "Valores de CALENDAR para \"Aula\": ['PUC']\n",
      "Valores de CALENDAR para \"BD: T2 G2\": ['Exames']\n",
      "Valores de CALENDAR para \"BIRUSAMBA DE VERÃO\": ['Social']\n",
      "Valores de CALENDAR para \"De-Para\": ['PUC']\n",
      "Valores de CALENDAR para \"Muay Thai\": ['Exercícios']\n",
      "Valores de CALENDAR para \"Psicóloga\": ['Saúde']\n",
      "Valores de CALENDAR para \"SO: P1\": ['Exames']\n",
      "Valores de CALENDAR para \"Itaipava\": ['Social']\n"
     ]
    }
   ],
   "source": [
    "# Coluna SUMMARY possui 30 valores que tem duas variações em 'CALENDAR'\n",
    "print(\"=== TRATANDO Duplicatas da coluna SUMMARY ===\")\n",
    "df['CALENDAR'] = df['CALENDAR'].replace('PUC 👻', 'PUC')\n",
    "\n",
    "# Corrigindo os valores duplicados de 'Academia'\n",
    "df.loc[(df['SUMMARY'] == 'Academia') & (df['CALENDAR'] == 'Pessoal'), 'CALENDAR'] = 'Exercícios' # 2\n",
    "print(f'Valores de CALENDAR para \"Academia\": {df.loc[df['SUMMARY'] == 'Academia', 'CALENDAR'].unique()}')\n",
    "\n",
    "# Corrigindo os valores duplicados de 'Aldeia'\n",
    "df.loc[(df['SUMMARY'] == 'Aldeia') & (df['CALENDAR'] == 'Pessoal'), 'CALENDAR'] = 'Social' # 2\n",
    "print(f'Valores de CALENDAR para \"Aldeia\": {df.loc[df['SUMMARY'] == 'Aldeia', 'CALENDAR'].unique()}')\n",
    "\n",
    "# Corrigindo os valores duplicados de 'Alessandra'\n",
    "df.loc[(df['SUMMARY'] == 'Alessandra') & (df['CALENDAR'] == 'Compromisso'), 'CALENDAR'] = 'Saúde' # 2\n",
    "print(f'Valores de CALENDAR para \"Alessandra\": {df.loc[df[\"SUMMARY\"] == \"Alessandra\", \"CALENDAR\"].unique()}')\n",
    "\n",
    "# Corrigindo os valores duplicados de 'Aula'\n",
    "df.loc[(df['SUMMARY'] == 'Aula') & (df['CALENDAR'] == 'Pessoal'), 'CALENDAR'] = 'PUC' # 2\n",
    "print(f'Valores de CALENDAR para \"Aula\": {df.loc[df['SUMMARY'] == 'Aula', 'CALENDAR'].unique()}')\n",
    "\n",
    "# Corrigindo os valores duplicados de 'BD: T2 G2'\n",
    "df.loc[(df['SUMMARY'] == 'BD: T2 G2') & (df['CALENDAR'] == 'PUC'), 'CALENDAR'] = 'Exames' # 2\n",
    "print(f'Valores de CALENDAR para \"BD: T2 G2\": {df.loc[df['SUMMARY'] == 'BD: T2 G2', 'CALENDAR'].unique()}')\n",
    "\n",
    "# Corrigindo os valores duplicados de 'BIRUSAMBA DE VERÃO'\n",
    "df.loc[(df['SUMMARY'] == 'BIRUSAMBA DE VERÃO'), 'CALENDAR'] = 'Social' # 2\n",
    "print(f'Valores de CALENDAR para \"BIRUSAMBA DE VERÃO\": {df.loc[df['SUMMARY'] == 'BIRUSAMBA DE VERÃO', 'CALENDAR'].unique()}')\n",
    "\n",
    "# Corrigindo os valores duplicados de De-Para\n",
    "df.loc[(df['SUMMARY'] == 'De-Para') & (df['CALENDAR'] == 'Exames'), 'CALENDAR'] = 'PUC' # 2\n",
    "print(f'Valores de CALENDAR para \"De-Para\": {df.loc[df[\"SUMMARY\"] == \"De-Para\", \"CALENDAR\"].unique()}')\n",
    "\n",
    "# Corrigindo os valores duplicados de 'Muay Thai'\n",
    "df.loc[(df['SUMMARY'] == 'Muay Thai') & (df['CALENDAR'] == 'Pessoal'), 'CALENDAR'] = 'Exercícios' # 2\n",
    "print(f'Valores de CALENDAR para \"Muay Thai\": {df.loc[df[\"SUMMARY\"] == \"Muay Thai\", \"CALENDAR\"].unique()}')\n",
    "\n",
    "# Corrigindo valores duplicados de 'Psicóloga'\n",
    "df.loc[(df['SUMMARY'] == 'Psicóloga') & (df['CALENDAR'] == 'Compromisso'), 'CALENDAR'] = 'Saúde' # 2\n",
    "print(f'Valores de CALENDAR para \"Psicóloga\": {df.loc[df[\"SUMMARY\"] == \"Psicóloga\", \"CALENDAR\"].unique()}')\n",
    "\n",
    "# Corrigindo valores duplicados de 'SO: P1' # 2\n",
    "df.loc[(df['SUMMARY'] == 'SO: P1') & (df['CALENDAR'] == 'PUC'), 'CALENDAR'] = 'Exames' # 2\n",
    "print(f'Valores de CALENDAR para \"SO: P1\": {df.loc[df[\"SUMMARY\"] == \"SO: P1\", \"CALENDAR\"].unique()}')\n",
    "\n",
    "# Corrigindo valores duplicados de 'Itaipava'\n",
    "df.loc[(df['SUMMARY'] == 'Itaipava') & (df['CALENDAR'] == 'Pessoal'), 'CALENDAR'] = 'Social' # 2\n",
    "print(f'Valores de CALENDAR para \"Itaipava\": {df.loc[df[\"SUMMARY\"] == \"Itaipava\", \"CALENDAR\"].unique()}')"
   ]
  },
  {
   "cell_type": "code",
   "execution_count": 11,
   "id": "2b8fc837",
   "metadata": {},
   "outputs": [
    {
     "name": "stdout",
     "output_type": "stream",
     "text": [
      "=== ENCONTRO DE DUPLICATAS DA COLUNA SUMMARY ===\n",
      "Quantidade de duplicatas encontradas: 0\n",
      "Duplicatas encontradas:\n",
      "Empty DataFrame\n",
      "Columns: [SUMMARY, CALENDAR]\n",
      "Index: []\n"
     ]
    }
   ],
   "source": [
    "print(\"=== ENCONTRO DE DUPLICATAS DA COLUNA SUMMARY ===\")\n",
    "duplicates = df[df.duplicated(subset='SUMMARY', keep=False)]\n",
    "# Seleciona duplicatas de SUMMARY que aparecem em mais de um CALENDAR\n",
    "duplicates_sum_cal = (\n",
    "    duplicates[['SUMMARY', 'CALENDAR']]\n",
    "    .drop_duplicates()\n",
    "    .groupby('SUMMARY')\n",
    "    .filter(lambda x: x['CALENDAR'].nunique() > 1)\n",
    "    .sort_values(by=['SUMMARY', 'CALENDAR'], ascending=[True, True])\n",
    ")\n",
    "print(f\"Quantidade de duplicatas encontradas: {duplicates_sum_cal.shape[0]}\")\n",
    "print(f\"Duplicatas encontradas:\\n{duplicates_sum_cal}\")"
   ]
  },
  {
   "cell_type": "markdown",
   "id": "13d1c931",
   "metadata": {},
   "source": [
    "## Verificando valores parecidos"
   ]
  },
  {
   "cell_type": "markdown",
   "id": "cab2cf2b",
   "metadata": {},
   "source": [
    "### Passando o valor 'Alessandra' da coluna SUMMARY para 'Psicóloga'"
   ]
  },
  {
   "cell_type": "code",
   "execution_count": 12,
   "id": "6c0224af",
   "metadata": {},
   "outputs": [
    {
     "name": "stdout",
     "output_type": "stream",
     "text": [
      "Quantidade de valores únicos antes da unificação: 327\n",
      "=== TROCANDO DE \"Alessandra\" para \"Psiquiatra\" ===\n",
      "Quantidade de valores únicos depois da unificação: 326\n",
      "\n",
      "Valores que começam com 'psi' antes da unificação: ['Psiquiatra' 'Psicóloga' 'Psicólogo']\n",
      "=== TROCANDO DE \"Psicóloga\" para \"Psicólogo\" ===\n",
      "Valores que começam com 'psi' depois da unificação: ['Psiquiatra' 'Psicólogo']\n"
     ]
    }
   ],
   "source": [
    "print(f\"Quantidade de valores únicos antes da unificação: {df['SUMMARY'].nunique()}\")\n",
    "\n",
    "print('=== TROCANDO DE \"Alessandra\" para \"Psiquiatra\" ===')\n",
    "df.loc[df['SUMMARY'] == 'Alessandra', 'SUMMARY'] = 'Psiquiatra'\n",
    "\n",
    "print(f\"Quantidade de valores únicos depois da unificação: {df['SUMMARY'].nunique()}\")\n",
    "\n",
    "\n",
    "psi_values = df[df['SUMMARY'].str.lower().str.startswith('psi', na=False)]['SUMMARY'].unique()\n",
    "print(f\"\\nValores que começam com 'psi' antes da unificação: {psi_values}\")\n",
    "\n",
    "print('=== TROCANDO DE \"Psicóloga\" para \"Psicólogo\" ===')\n",
    "df.loc[df['SUMMARY'] == 'Psicóloga', 'SUMMARY'] = 'Psicólogo'\n",
    "\n",
    "psi_values = df[df['SUMMARY'].str.lower().str.startswith('psi', na=False)]['SUMMARY'].unique()\n",
    "print(f\"Valores que começam com 'psi' depois da unificação: {psi_values}\")\n"
   ]
  },
  {
   "cell_type": "markdown",
   "id": "6c3288d3",
   "metadata": {},
   "source": [
    "## Melhorando valores com INF, MAT ou ADM no inicio"
   ]
  },
  {
   "cell_type": "markdown",
   "id": "e95ec778",
   "metadata": {},
   "source": [
    "### Verificando todos os valores que possuem inf, mat ou adm no inicio"
   ]
  },
  {
   "cell_type": "code",
   "execution_count": 13,
   "id": "577e1cc4",
   "metadata": {},
   "outputs": [
    {
     "name": "stdout",
     "output_type": "stream",
     "text": [
      "=== Avaliando valores que começam com \"inf\", \"mat\" ou \"adm\"\n",
      "Quantidade de valores únicos: 33\n",
      "Valores:\n",
      "SUMMARY\n",
      "INF1410 - Gerenc Proj Inf                     39\n",
      "INF1608 - Análise Numérica                    38\n",
      "ADM1019 - Intr. Finanças                      38\n",
      "INF1629 - P. Eng. de Software                 38\n",
      "MAT4162 - Cálculo II                          38\n",
      "INF1771 - IA                                  36\n",
      "INF1307 - Games                               36\n",
      "INF1316 - SO                                  36\n",
      "INF1403 - IHC                                 35\n",
      "INF1022 - ALS                                 35\n",
      "INF1350 - Prog Sis Reat                       34\n",
      "INF1027 - Teste e Medição de Software         33\n",
      "INF1036 - Prob Comp                           32\n",
      "INF1640 - Redes de Computadores               31\n",
      "INF1631 - Estruturas Discretas                31\n",
      "INF1636 - Programação Orientada à Objetos     31\n",
      "INF1028 - Projeto e Construção de Sistemas    30\n",
      "INF1721 - AA                                  30\n",
      "INF1032 - Ciência de Dados                    29\n",
      "INF1010 - EDA                                 23\n",
      "INF1314 - Startup IA                          19\n",
      "INF1383 - Bancos de Dados                     19\n",
      "INF1338 - LLM                                 18\n",
      "MAT1260 - ÁLGEBRA LINEAR 1                     8\n",
      "INF1018 - SOFTWARE BÁSICO                      8\n",
      "INF1301 - PROGRAMAÇÃO MODULAR                  6\n",
      "INF1022 - Analisadores Léx. e Sint.            4\n",
      "Matrícula PUC                                  4\n",
      "MAT1162 - CÁLCULO A VÁRIAS VARIÁVEIS I         3\n",
      "INF2471 - Prob Comp                            2\n",
      "INF1301 - Relatório Plano de Ação              1\n",
      "INF1018 - MONITORIA                            1\n",
      "INF1920 - Aula Expositiva                      1\n",
      "Name: count, dtype: int64\n"
     ]
    }
   ],
   "source": [
    "print('=== Avaliando valores que começam com \"inf\", \"mat\" ou \"adm\"')\n",
    "\n",
    "inf_mat_values = df.loc[\n",
    "    df['SUMMARY'].str.lower().str.startswith('adm', na=False) |\n",
    "    df['SUMMARY'].str.lower().str.startswith('inf', na=False) |\n",
    "    df['SUMMARY'].str.lower().str.startswith('mat', na=False),\n",
    "    'SUMMARY'\n",
    "]\n",
    "print(f'Quantidade de valores únicos: {inf_mat_values.nunique()}')\n",
    "\n",
    "print(f'Valores:\\n{inf_mat_values.value_counts()}')"
   ]
  },
  {
   "cell_type": "markdown",
   "id": "0ae17424",
   "metadata": {},
   "source": [
    "### Retirando INF2471 - Prob Comp"
   ]
  },
  {
   "cell_type": "code",
   "execution_count": 14,
   "id": "afda6568",
   "metadata": {},
   "outputs": [
    {
     "name": "stdout",
     "output_type": "stream",
     "text": [
      "Número de linhas antes de retirar INF2471 - Prob Comp:  4348\n",
      "Número de linhas depois de retirar INF2471 - Prob Comp:  4346\n"
     ]
    }
   ],
   "source": [
    "print('Número de linhas antes de retirar INF2471 - Prob Comp: ', len(df))\n",
    "df = df[df['SUMMARY'] != 'INF2471 - Prob Comp']\n",
    "print('Número de linhas depois de retirar INF2471 - Prob Comp: ', len(df))\n"
   ]
  },
  {
   "cell_type": "markdown",
   "id": "d15c9bcf",
   "metadata": {},
   "source": [
    "### Retirando MAT1162 - CALCULO A VARIAS VARIAVEIS I"
   ]
  },
  {
   "cell_type": "code",
   "execution_count": 15,
   "id": "767d54de",
   "metadata": {},
   "outputs": [
    {
     "name": "stdout",
     "output_type": "stream",
     "text": [
      "Número de linhas antes de retirar MAT1162 - CÁLCULO A VÁRIAS VARIÁVEIS I:  4346\n",
      "Número de linhas depois de retirar MAT1162 - CÁLCULO A VÁRIAS VARIÁVEIS I:  4343\n"
     ]
    }
   ],
   "source": [
    "print('Número de linhas antes de retirar MAT1162 - CÁLCULO A VÁRIAS VARIÁVEIS I: ', len(df))\n",
    "df = df[df['SUMMARY'] != 'MAT1162 - CÁLCULO A VÁRIAS VARIÁVEIS I']\n",
    "print('Número de linhas depois de retirar MAT1162 - CÁLCULO A VÁRIAS VARIÁVEIS I: ', len(df))"
   ]
  },
  {
   "cell_type": "code",
   "execution_count": 16,
   "id": "c98bce17",
   "metadata": {},
   "outputs": [
    {
     "name": "stdout",
     "output_type": "stream",
     "text": [
      "✅ Expansão de abreviações concluída - tudo em minúsculo!\n"
     ]
    }
   ],
   "source": [
    "# Corrigir primeiro código que já estava sendo tratado\n",
    "df.loc[df['SUMMARY'] == 'INF1410 - Gerenc Proj Inf', 'SUMMARY'] = 'inf1410 - gerencia de projetos de informatica'\n",
    "\n",
    "# INF1629 - P. Eng. de Software\n",
    "df.loc[df['SUMMARY'] == 'INF1629 - P. Eng. de Software', 'SUMMARY'] = 'inf1629 - principios de engenharia de software'\n",
    "\n",
    "# INF1314 - Startup IA\n",
    "df.loc[df['SUMMARY'] == 'INF1314 - Startup IA', 'SUMMARY'] = 'inf1314 - gerando startup com inteligencia artificial'\n",
    "\n",
    "# INF1771 - IA\n",
    "df.loc[df['SUMMARY'] == 'INF1771 - IA', 'SUMMARY'] = 'inf1771 - inteligencia artificial'\n",
    "\n",
    "# INF1307 - Games\n",
    "df.loc[df['SUMMARY'] == 'INF1307 - Games', 'SUMMARY'] = 'inf1307 - desenvolvimento de jogos'\n",
    "\n",
    "# INF1316 - SO\n",
    "df.loc[df['SUMMARY'] == 'INF1316 - SO', 'SUMMARY'] = 'inf1316 - sistemas operacionais'\n",
    "\n",
    "# INF1403 - IHC\n",
    "df.loc[df['SUMMARY'] == 'INF1403 - IHC', 'SUMMARY'] = 'inf1403 - interacao humano computador'\n",
    "\n",
    "# INF1022 - ALS\n",
    "df.loc[df['SUMMARY'] == 'INF1022 - ALS', 'SUMMARY'] = 'inf1022 - algebra linear e sistemas'\n",
    "\n",
    "# INF1350 - Prog Sis Reat\n",
    "df.loc[df['SUMMARY'] == 'INF1350 - Prog Sis Reat', 'SUMMARY'] = 'inf1350 - programacao de sistemas reativos'\n",
    "\n",
    "# INF1036 - Prob Comp\n",
    "df.loc[df['SUMMARY'] == 'INF1036 - Prob Comp', 'SUMMARY'] = 'inf1036 - probabilidade computacional'\n",
    "\n",
    "# INF1721 - AA\n",
    "df.loc[df['SUMMARY'] == 'INF1721 - AA', 'SUMMARY'] = 'inf1721 - analise de algoritmos'\n",
    "\n",
    "# INF1010 - EDA\n",
    "df.loc[df['SUMMARY'] == 'INF1010 - EDA', 'SUMMARY'] = 'inf1010 - estruturas de dados avançadas'\n",
    "\n",
    "# INF1338 - LLM\n",
    "df.loc[df['SUMMARY'] == 'INF1338 - LLM', 'SUMMARY'] = 'inf1338 - large language models'\n",
    "\n",
    "# INF1022 - Analisadores Léx. e Sint.\n",
    "df.loc[df['SUMMARY'] == 'INF1022 - Analisadores Léx. e Sint.', 'SUMMARY'] = 'inf1022 - analisadores lexicos e sintaticos'\n",
    "\n",
    "# INF2471 - Prob Comp\n",
    "df.loc[df['SUMMARY'] == 'INF2471 - Prob Comp', 'SUMMARY'] = 'inf2471 - probabilidade computacional'\n",
    "\n",
    "print('✅ Expansão de abreviações concluída - tudo em minúsculo!')"
   ]
  },
  {
   "cell_type": "markdown",
   "id": "2b60e317",
   "metadata": {},
   "source": [
    "### Verificando novamente os valores com INF, MAT ou ADM no inicio"
   ]
  },
  {
   "cell_type": "code",
   "execution_count": 17,
   "id": "4ca40727",
   "metadata": {},
   "outputs": [
    {
     "name": "stdout",
     "output_type": "stream",
     "text": [
      "=== Avaliando valores que começam com \"inf\", \"mat\" ou \"adm\"\n",
      "Quantidade de valores únicos: 31\n",
      "Valores:\n",
      "SUMMARY\n",
      "inf1410 - gerencia de projetos de informatica            39\n",
      "INF1608 - Análise Numérica                               38\n",
      "ADM1019 - Intr. Finanças                                 38\n",
      "inf1629 - principios de engenharia de software           38\n",
      "MAT4162 - Cálculo II                                     38\n",
      "inf1771 - inteligencia artificial                        36\n",
      "inf1316 - sistemas operacionais                          36\n",
      "inf1307 - desenvolvimento de jogos                       36\n",
      "inf1022 - algebra linear e sistemas                      35\n",
      "inf1403 - interacao humano computador                    35\n",
      "inf1350 - programacao de sistemas reativos               34\n",
      "INF1027 - Teste e Medição de Software                    33\n",
      "inf1036 - probabilidade computacional                    32\n",
      "INF1636 - Programação Orientada à Objetos                31\n",
      "INF1640 - Redes de Computadores                          31\n",
      "INF1631 - Estruturas Discretas                           31\n",
      "INF1028 - Projeto e Construção de Sistemas               30\n",
      "inf1721 - analise de algoritmos                          30\n",
      "INF1032 - Ciência de Dados                               29\n",
      "inf1010 - estruturas de dados avançadas                  23\n",
      "inf1314 - gerando startup com inteligencia artificial    19\n",
      "INF1383 - Bancos de Dados                                19\n",
      "inf1338 - large language models                          18\n",
      "MAT1260 - ÁLGEBRA LINEAR 1                                8\n",
      "INF1018 - SOFTWARE BÁSICO                                 8\n",
      "INF1301 - PROGRAMAÇÃO MODULAR                             6\n",
      "Matrícula PUC                                             4\n",
      "inf1022 - analisadores lexicos e sintaticos               4\n",
      "INF1301 - Relatório Plano de Ação                         1\n",
      "INF1018 - MONITORIA                                       1\n",
      "INF1920 - Aula Expositiva                                 1\n",
      "Name: count, dtype: int64\n"
     ]
    }
   ],
   "source": [
    "print('=== Avaliando valores que começam com \"inf\", \"mat\" ou \"adm\"')\n",
    "\n",
    "inf_mat_values = df.loc[\n",
    "    df['SUMMARY'].str.lower().str.startswith('adm', na=False) |\n",
    "    df['SUMMARY'].str.lower().str.startswith('inf', na=False) |\n",
    "    df['SUMMARY'].str.lower().str.startswith('mat', na=False),\n",
    "    'SUMMARY'\n",
    "]\n",
    "print(f'Quantidade de valores únicos: {inf_mat_values.nunique()}')\n",
    "\n",
    "print(f'Valores:\\n{inf_mat_values.value_counts()}')"
   ]
  },
  {
   "cell_type": "markdown",
   "id": "47ababe5",
   "metadata": {},
   "source": [
    "# Exportar DataFrame completo para CSV"
   ]
  },
  {
   "cell_type": "code",
   "execution_count": 18,
   "id": "5a4b3e16",
   "metadata": {},
   "outputs": [
    {
     "name": "stdout",
     "output_type": "stream",
     "text": [
      "=== SALVANDO DATASET PROCESSADO ===\n",
      "✅ Dataset processado salvo em: ../data/tasks_summary.csv\n",
      "\n",
      "=== ESTATÍSTICAS FINAIS ===\n",
      "Total de registros: 4343\n",
      "Categorias únicas: 11\n"
     ]
    }
   ],
   "source": [
    "# # Salvar dataset processado\n",
    "print(\"=== SALVANDO DATASET PROCESSADO ===\")\n",
    "\n",
    "# Salvar como CSV processado\n",
    "output_path = '../data/tasks_summary.csv'\n",
    "df.to_csv(output_path, index=False, encoding='utf-8')\n",
    "print(f\"✅ Dataset processado salvo em: {output_path}\")\n",
    "\n",
    "# Estatísticas finais\n",
    "print(f\"\\n=== ESTATÍSTICAS FINAIS ===\")\n",
    "print(f\"Total de registros: {len(df)}\")\n",
    "print(f\"Categorias únicas: {df['CALENDAR'].nunique()}\")\n"
   ]
  }
 ],
 "metadata": {
  "kernelspec": {
   "display_name": "llm-task-scheduler-py3.13",
   "language": "python",
   "name": "python3"
  },
  "language_info": {
   "codemirror_mode": {
    "name": "ipython",
    "version": 3
   },
   "file_extension": ".py",
   "mimetype": "text/x-python",
   "name": "python",
   "nbconvert_exporter": "python",
   "pygments_lexer": "ipython3",
   "version": "3.13.3"
  }
 },
 "nbformat": 4,
 "nbformat_minor": 5
}
