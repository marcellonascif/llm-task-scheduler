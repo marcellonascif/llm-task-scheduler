{
 "cells": [
  {
   "cell_type": "markdown",
   "id": "379d5361",
   "metadata": {},
   "source": [
    "# Pré processamento da coluna SUMMARY"
   ]
  },
  {
   "cell_type": "code",
   "execution_count": 118,
   "id": "29fcfc92",
   "metadata": {},
   "outputs": [],
   "source": [
    "import pandas as pd\n",
    "import unicodedata\n",
    "import string"
   ]
  },
  {
   "cell_type": "code",
   "execution_count": 119,
   "id": "8fed6f22",
   "metadata": {},
   "outputs": [
    {
     "name": "stdout",
     "output_type": "stream",
     "text": [
      "CSV carregado com engine C! 7232 linhas encontradas.\n"
     ]
    }
   ],
   "source": [
    "try:\n",
    "    df = pd.read_csv(\n",
    "        '../data/tasks.csv',\n",
    "        encoding='utf-8',\n",
    "        sep=\",\",\n",
    "        quotechar='\"',\n",
    "        on_bad_lines='skip',      # ignora linhas corrompidas\n",
    "        dtype=str,               # carrega tudo como string, depois ajusta\n",
    "        engine='c'          # usa engine python que é mais tolerante\n",
    "    )\n",
    "    print(f\"CSV carregado com engine C! {len(df)} linhas encontradas.\")\n",
    "\n",
    "except Exception as e:\n",
    "    print(f\"Erro ao ler CSV: {e}\")"
   ]
  },
  {
   "cell_type": "code",
   "execution_count": 120,
   "id": "0a06b66e",
   "metadata": {},
   "outputs": [
    {
     "name": "stdout",
     "output_type": "stream",
     "text": [
      "=== INFORMAÇÕES BÁSICAS DO DATASET ===\n",
      "Shape: (7232, 17)\n",
      "\n",
      "Resumo da coluna SUMMARY:\n",
      "  - Tipo de dado: object\n",
      "  - Valores únicos: 376\n",
      "  - Valores nulos: 0\n",
      "  - Primeiros 5 valores:\n",
      "0     🍳\n",
      "1     🧋\n",
      "2    🍽️\n",
      "3     🥪\n",
      "4     🍌\n",
      "Name: SUMMARY, dtype: object\n"
     ]
    }
   ],
   "source": [
    "# Verificar informações básicas do dataset\n",
    "print(\"=== INFORMAÇÕES BÁSICAS DO DATASET ===\")\n",
    "print(f\"Shape: {df.shape}\")\n",
    "# Informações apenas da coluna SUMMARY\n",
    "print(f\"\\nResumo da coluna SUMMARY:\")\n",
    "print(f\"  - Tipo de dado: {df['SUMMARY'].dtype}\")\n",
    "print(f\"  - Valores únicos: {df['SUMMARY'].nunique()}\")\n",
    "print(f\"  - Valores nulos: {df['SUMMARY'].isnull().sum()}\")\n",
    "print(f\"  - Primeiros 5 valores:\\n{df['SUMMARY'].head()}\")"
   ]
  },
  {
   "cell_type": "markdown",
   "id": "f16a371f",
   "metadata": {},
   "source": [
    "### Análise"
   ]
  },
  {
   "cell_type": "code",
   "execution_count": 121,
   "id": "2cd70207",
   "metadata": {},
   "outputs": [
    {
     "name": "stdout",
     "output_type": "stream",
     "text": [
      "=== ANÁlISE DA COLUNA SUMMARY ===\n",
      "Quantidade de valores únicos: 376\n",
      "Valores únicos exportados para ../data/title_unique.csv\n"
     ]
    }
   ],
   "source": [
    "print(\"=== ANÁlISE DA COLUNA SUMMARY ===\")\n",
    "\n",
    "print(f\"Quantidade de valores únicos: {df['SUMMARY'].nunique()}\")\n",
    "# print(f\"Valores únicos: {df['SUMMARY'].unique()}\")\n",
    "\n",
    "# Exportar valores únicos da coluna SUMMARY para uma tabela CSV e usar uma LLM para clusterizar informacoes parecidas\n",
    "unique_summary = df[['SUMMARY', 'CALENDAR']].drop_duplicates().rename(columns={'SUMMARY': 'TITLE'})\n",
    "unique_summary = unique_summary.sort_values(by='TITLE').reset_index(drop=True)\n",
    "unique_summary.to_csv('../data/title_calendar_unique.csv', index=False, encoding='utf-8')\n",
    "print(\"Valores únicos exportados para ../data/title_unique.csv\")\n"
   ]
  },
  {
   "cell_type": "markdown",
   "id": "3dbda371",
   "metadata": {},
   "source": [
    "## Limpando"
   ]
  },
  {
   "cell_type": "code",
   "execution_count": 122,
   "id": "3ddcfa37",
   "metadata": {},
   "outputs": [
    {
     "name": "stdout",
     "output_type": "stream",
     "text": [
      "=== Avaliação da coluna SUMMARY antes da normalização ===\n",
      "Valores únicos: 376\n",
      "Exemplos: ['🍳', '🧋', '🍽️', '🥪', '🍌', 'INF1410 - Gerenc Proj Inf', 'INF1608 - Análise Numérica', 'ADM1019 - Intr. Finanças', 'INF1629 - P. Eng. de Software', 'Parabéns!']\n",
      "\n",
      "=== Avaliação da coluna SUMMARY_NORM depois da normalização ===\n",
      "Valores únicos: 372\n",
      "Exemplos: ['🍳', '🧋', '🍽️', '🥪', '🍌', 'inf1410 gerenc proj inf', 'inf1608 análise numérica', 'adm1019 intr finanças', 'inf1629 p eng de software', 'parabéns']\n"
     ]
    }
   ],
   "source": [
    "# Avaliação antes da normalização\n",
    "print(\"=== Avaliação da coluna SUMMARY antes da normalização ===\")\n",
    "print(f\"Valores únicos: {df['SUMMARY'].nunique()}\")\n",
    "print(f\"Exemplos: {df['SUMMARY'].drop_duplicates().head(10).tolist()}\")\n",
    "\n",
    "def normalize_text(text):\n",
    "    if pd.isnull(text):\n",
    "        return \"\"\n",
    "    # Lowercase\n",
    "    text = text.lower()\n",
    "    # Remove accents\n",
    "    # text = unicodedata.normalize('NFKD', text).encode('ASCII', 'ignore').decode('utf-8')\n",
    "    # Remove punctuation\n",
    "    text = text.translate(str.maketrans('', '', string.punctuation))\n",
    "    # Remove extra spaces\n",
    "    text = ' '.join(text.split())\n",
    "    return text\n",
    "\n",
    "df['SUMMARY_NORM'] = df['SUMMARY'].apply(normalize_text)\n",
    "\n",
    "# Avaliação depois da normalização\n",
    "print(\"\\n=== Avaliação da coluna SUMMARY_NORM depois da normalização ===\")\n",
    "print(f\"Valores únicos: {df['SUMMARY_NORM'].nunique()}\")\n",
    "print(f\"Exemplos: {df['SUMMARY_NORM'].drop_duplicates().head(10).tolist()}\")"
   ]
  },
  {
   "cell_type": "markdown",
   "id": "f2b76e0d",
   "metadata": {},
   "source": [
    "### Tratando valores da coluna SUMMARY que possuem dois valores na coluna CALENDAR"
   ]
  },
  {
   "cell_type": "code",
   "execution_count": 123,
   "id": "f2b23e31",
   "metadata": {},
   "outputs": [
    {
     "name": "stdout",
     "output_type": "stream",
     "text": [
      "=== TRATANDO Duplicatas da coluna SUMMARY ===\n",
      "Valores de CALENDAR para \"Academia\": ['Exercícios']\n",
      "Valores de CALENDAR para \"Aldeia\": ['Social']\n",
      "Valores de CALENDAR para \"Alessandra\": ['Saúde']\n",
      "Valores de CALENDAR para \"Aula\": ['PUC']\n",
      "Valores de CALENDAR para \"BD: T2 G2\": ['Exames']\n",
      "Valores de CALENDAR para \"BIRUSAMBA DE VERÃO\": ['Social']\n",
      "Valores de CALENDAR para \"De-Para\": ['PUC']\n",
      "Valores de CALENDAR para \"Muay Thai\": ['Exercícios']\n",
      "Valores de CALENDAR para \"Psicóloga\": ['Saúde']\n",
      "Valores de CALENDAR para \"SO: P1\": ['Exames']\n"
     ]
    }
   ],
   "source": [
    "# Coluna SUMMARY possui 30 valores que tem duas variações em 'CALENDAR'\n",
    "print(\"=== TRATANDO Duplicatas da coluna SUMMARY ===\")\n",
    "df['CALENDAR'] = df['CALENDAR'].replace('PUC 👻', 'PUC')\n",
    "\n",
    "# Corrigindo os valores duplicados de 'Academia'\n",
    "df.loc[(df['SUMMARY'] == 'Academia') & (df['CALENDAR'] == 'Pessoal'), 'CALENDAR'] = 'Exercícios' # 2\n",
    "print(f'Valores de CALENDAR para \"Academia\": {df.loc[df['SUMMARY'] == 'Academia', 'CALENDAR'].unique()}')\n",
    "\n",
    "# Corrigindo os valores duplicados de 'Aldeia'\n",
    "df.loc[(df['SUMMARY'] == 'Aldeia') & (df['CALENDAR'] == 'Pessoal'), 'CALENDAR'] = 'Social' # 2\n",
    "print(f'Valores de CALENDAR para \"Aldeia\": {df.loc[df['SUMMARY'] == 'Aldeia', 'CALENDAR'].unique()}')\n",
    "\n",
    "# Corrigindo os valores duplicados de 'Alessandra'\n",
    "df.loc[(df['SUMMARY'] == 'Alessandra') & (df['CALENDAR'] == 'Compromisso'), 'CALENDAR'] = 'Saúde' # 2\n",
    "print(f'Valores de CALENDAR para \"Alessandra\": {df.loc[df[\"SUMMARY\"] == \"Alessandra\", \"CALENDAR\"].unique()}')\n",
    "\n",
    "# Corrigindo os valores duplicados de 'Aula'\n",
    "df.loc[(df['SUMMARY'] == 'Aula') & (df['CALENDAR'] == 'Pessoal'), 'CALENDAR'] = 'PUC' # 2\n",
    "print(f'Valores de CALENDAR para \"Aula\": {df.loc[df['SUMMARY'] == 'Aula', 'CALENDAR'].unique()}')\n",
    "\n",
    "# Corrigindo os valores duplicados de 'BD: T2 G2'\n",
    "df.loc[(df['SUMMARY'] == 'BD: T2 G2') & (df['CALENDAR'] == 'PUC'), 'CALENDAR'] = 'Exames' # 2\n",
    "print(f'Valores de CALENDAR para \"BD: T2 G2\": {df.loc[df['SUMMARY'] == 'BD: T2 G2', 'CALENDAR'].unique()}')\n",
    "\n",
    "# Corrigindo os valores duplicados de 'BIRUSAMBA DE VERÃO'\n",
    "df.loc[(df['SUMMARY'] == 'BIRUSAMBA DE VERÃO'), 'CALENDAR'] = 'Social' # 2\n",
    "print(f'Valores de CALENDAR para \"BIRUSAMBA DE VERÃO\": {df.loc[df['SUMMARY'] == 'BIRUSAMBA DE VERÃO', 'CALENDAR'].unique()}')\n",
    "\n",
    "# Corrigindo os valores duplicados de De-Para\n",
    "df.loc[(df['SUMMARY'] == 'De-Para') & (df['CALENDAR'] == 'Exames'), 'CALENDAR'] = 'PUC' # 2\n",
    "print(f'Valores de CALENDAR para \"De-Para\": {df.loc[df[\"SUMMARY\"] == \"De-Para\", \"CALENDAR\"].unique()}')\n",
    "\n",
    "# Corrigindo os valores duplicados de 'Muay Thai'\n",
    "df.loc[(df['SUMMARY'] == 'Muay Thai') & (df['CALENDAR'] == 'Pessoal'), 'CALENDAR'] = 'Exercícios' # 2\n",
    "print(f'Valores de CALENDAR para \"Muay Thai\": {df.loc[df[\"SUMMARY\"] == \"Muay Thai\", \"CALENDAR\"].unique()}')\n",
    "\n",
    "# Corrigindo valores duplicados de 'Psicóloga'\n",
    "df.loc[(df['SUMMARY'] == 'Psicóloga') & (df['CALENDAR'] == 'Compromisso'), 'CALENDAR'] = 'Saúde' # 2\n",
    "print(f'Valores de CALENDAR para \"Psicóloga\": {df.loc[df[\"SUMMARY\"] == \"Psicóloga\", \"CALENDAR\"].unique()}')\n",
    "\n",
    "# Corrigindo valores duplicados de 'SO: P1' # 2\n",
    "df.loc[(df['SUMMARY'] == 'SO: P1') & (df['CALENDAR'] == 'PUC'), 'CALENDAR'] = 'Exames' # 2\n",
    "print(f'Valores de CALENDAR para \"SO: P1\": {df.loc[df[\"SUMMARY\"] == \"SO: P1\", \"CALENDAR\"].unique()}')"
   ]
  },
  {
   "cell_type": "code",
   "execution_count": 124,
   "id": "2b8fc837",
   "metadata": {},
   "outputs": [
    {
     "name": "stdout",
     "output_type": "stream",
     "text": [
      "=== ENCONTRO DE DUPLICATAS DA COLUNA SUMMARY ===\n",
      "Quantidade de duplicatas encontradas: 2\n",
      "Duplicatas encontradas:\n",
      "       SUMMARY CALENDAR\n",
      "4566  Itaipava  Pessoal\n",
      "5951  Itaipava   Social\n"
     ]
    }
   ],
   "source": [
    "print(\"=== ENCONTRO DE DUPLICATAS DA COLUNA SUMMARY ===\")\n",
    "duplicates = df[df.duplicated(subset='SUMMARY', keep=False)]\n",
    "# Seleciona duplicatas de SUMMARY que aparecem em mais de um CALENDAR\n",
    "duplicates_sum_cal = (\n",
    "    duplicates[['SUMMARY', 'CALENDAR']]\n",
    "    .drop_duplicates()\n",
    "    .groupby('SUMMARY')\n",
    "    .filter(lambda x: x['CALENDAR'].nunique() > 1)\n",
    "    .sort_values(by=['SUMMARY', 'CALENDAR'], ascending=[True, True])\n",
    ")\n",
    "print(f\"Quantidade de duplicatas encontradas: {duplicates_sum_cal.shape[0]}\")\n",
    "print(f\"Duplicatas encontradas:\\n{duplicates_sum_cal}\")"
   ]
  },
  {
   "cell_type": "markdown",
   "id": "13d1c931",
   "metadata": {},
   "source": [
    "## Verificando valores parecidos"
   ]
  },
  {
   "cell_type": "markdown",
   "id": "cab2cf2b",
   "metadata": {},
   "source": [
    "### Passando o valor 'Alessandra' da coluna SUMMARY para 'Psicóloga'"
   ]
  },
  {
   "cell_type": "code",
   "execution_count": 125,
   "id": "6c0224af",
   "metadata": {},
   "outputs": [
    {
     "name": "stdout",
     "output_type": "stream",
     "text": [
      "Quantidade de valores únicos antes da unificação:\n",
      "Valores únicos antes da unificação: 376\n",
      "=== TROCANDO DE \"Alessandra\" para \"Psiquiatra\" ===\n",
      "Quantidade de valores únicos antes da unificação:\n",
      "Valores únicos antes da unificação: 375\n",
      "Valores que começam com 'psi' antes da unificação: ['Psiquiatra' 'Psicóloga' 'Psicólogo']\n",
      "=== TROCANDO DE \"Psicóloga\" para \"Psicólogo\" ===\n",
      "Valores que começam com 'psi' depois da unificação: ['Psiquiatra' 'Psicólogo']\n"
     ]
    }
   ],
   "source": [
    "print('Quantidade de valores únicos antes da unificação:')\n",
    "print(f\"Valores únicos antes da unificação: {df['SUMMARY'].nunique()}\")\n",
    "\n",
    "print('=== TROCANDO DE \"Alessandra\" para \"Psiquiatra\" ===')\n",
    "df.loc[df['SUMMARY'] == 'Alessandra', 'SUMMARY'] = 'Psiquiatra'\n",
    "\n",
    "print('Quantidade de valores únicos antes da unificação:')\n",
    "print(f\"Valores únicos antes da unificação: {df['SUMMARY'].nunique()}\")\n",
    "\n",
    "\n",
    "psi_values = df[df['SUMMARY'].str.lower().str.startswith('psi', na=False)]['SUMMARY'].unique()\n",
    "print(f\"Valores que começam com 'psi' antes da unificação: {psi_values}\")\n",
    "\n",
    "print('=== TROCANDO DE \"Psicóloga\" para \"Psicólogo\" ===')\n",
    "df.loc[df['SUMMARY'] == 'Psicóloga', 'SUMMARY'] = 'Psicólogo'\n",
    "\n",
    "psi_values = df[df['SUMMARY'].str.lower().str.startswith('psi', na=False)]['SUMMARY'].unique()\n",
    "print(f\"Valores que começam com 'psi' depois da unificação: {psi_values}\")\n"
   ]
  },
  {
   "cell_type": "markdown",
   "id": "47ababe5",
   "metadata": {},
   "source": [
    "# Exportar DataFrame completo para CSV"
   ]
  },
  {
   "cell_type": "code",
   "execution_count": 126,
   "id": "5a4b3e16",
   "metadata": {},
   "outputs": [
    {
     "name": "stdout",
     "output_type": "stream",
     "text": [
      "=== SALVANDO DATASET PROCESSADO ===\n",
      "✅ Dataset processado salvo em: ../data/tasks_processed.csv\n",
      "\n",
      "=== ESTATÍSTICAS FINAIS ===\n",
      "Total de registros: 7232\n",
      "Categorias únicas: 13\n"
     ]
    }
   ],
   "source": [
    "# # Salvar dataset processado\n",
    "print(\"=== SALVANDO DATASET PROCESSADO ===\")\n",
    "\n",
    "# Salvar como CSV processado\n",
    "output_path = '../data/tasks_processed.csv'\n",
    "df.to_csv(output_path, index=False, encoding='utf-8')\n",
    "print(f\"✅ Dataset processado salvo em: {output_path}\")\n",
    "\n",
    "# Estatísticas finais\n",
    "print(f\"\\n=== ESTATÍSTICAS FINAIS ===\")\n",
    "print(f\"Total de registros: {len(df)}\")\n",
    "print(f\"Categorias únicas: {df['CALENDAR'].nunique()}\")\n"
   ]
  }
 ],
 "metadata": {
  "kernelspec": {
   "display_name": "llm-task-scheduler-py3.13",
   "language": "python",
   "name": "python3"
  },
  "language_info": {
   "codemirror_mode": {
    "name": "ipython",
    "version": 3
   },
   "file_extension": ".py",
   "mimetype": "text/x-python",
   "name": "python",
   "nbconvert_exporter": "python",
   "pygments_lexer": "ipython3",
   "version": "3.13.3"
  }
 },
 "nbformat": 4,
 "nbformat_minor": 5
}
