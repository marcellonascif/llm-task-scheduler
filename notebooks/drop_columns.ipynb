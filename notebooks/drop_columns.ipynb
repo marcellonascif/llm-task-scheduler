{
 "cells": [
  {
   "cell_type": "markdown",
   "id": "e54e97a6",
   "metadata": {},
   "source": [
    "# Dropar colunas que nao vou usar"
   ]
  },
  {
   "cell_type": "code",
   "execution_count": 8,
   "id": "de6260b6",
   "metadata": {},
   "outputs": [],
   "source": [
    "import pandas as pd"
   ]
  },
  {
   "cell_type": "code",
   "execution_count": 9,
   "id": "50bde787",
   "metadata": {},
   "outputs": [
    {
     "name": "stdout",
     "output_type": "stream",
     "text": [
      "CSV carregado com engine C! 7232 linhas encontradas.\n"
     ]
    }
   ],
   "source": [
    "try:\n",
    "    df = pd.read_csv(\n",
    "        '../data/tasks.csv',\n",
    "        encoding='utf-8',\n",
    "        sep=\",\",\n",
    "        quotechar='\"',\n",
    "        on_bad_lines='skip',      # ignora linhas corrompidas\n",
    "        dtype=str,               # carrega tudo como string, depois ajusta\n",
    "        engine='c'          # usa engine python que é mais tolerante\n",
    "    )\n",
    "    print(f\"CSV carregado com engine C! {len(df)} linhas encontradas.\")\n",
    "\n",
    "except Exception as e:\n",
    "    print(f\"Erro ao ler CSV: {e}\")"
   ]
  },
  {
   "cell_type": "code",
   "execution_count": 10,
   "id": "43f6e8c3",
   "metadata": {},
   "outputs": [
    {
     "name": "stdout",
     "output_type": "stream",
     "text": [
      "Valores nulos por coluna:\n",
      "SUMMARY                             0\n",
      "DTSTART                             0\n",
      "DTEND                               2\n",
      "DUE                              7232\n",
      "NOTES                            6657\n",
      "ATTENDEE                         7193\n",
      "LOCATION                         5457\n",
      "PRIORITY                         7232\n",
      "URL                              7232\n",
      "CALENDAR                            0\n",
      "UID                              7232\n",
      "ORGANIZER                        7204\n",
      "CATEGORIES                       7232\n",
      "DURATION                            2\n",
      "REPLACES RECURRENT EVENT FROM    7145\n",
      "CANCELLED                        7047\n",
      "CREATED                             0\n",
      "dtype: int64\n"
     ]
    }
   ],
   "source": [
    "# Análise básica de valores nulos por coluna\n",
    "null_counts = df.isnull().sum()\n",
    "print(\"Valores nulos por coluna:\")\n",
    "print(null_counts)"
   ]
  },
  {
   "cell_type": "code",
   "execution_count": 11,
   "id": "cff59888",
   "metadata": {
    "vscode": {
     "languageId": "javascript"
    }
   },
   "outputs": [
    {
     "data": {
      "application/vnd.microsoft.datawrangler.viewer.v0+json": {
       "columns": [
        {
         "name": "index",
         "rawType": "int64",
         "type": "integer"
        },
        {
         "name": "SUMMARY",
         "rawType": "object",
         "type": "string"
        },
        {
         "name": "DTSTART",
         "rawType": "object",
         "type": "string"
        },
        {
         "name": "DTEND",
         "rawType": "object",
         "type": "string"
        },
        {
         "name": "CALENDAR",
         "rawType": "object",
         "type": "string"
        },
        {
         "name": "DURATION",
         "rawType": "object",
         "type": "string"
        }
       ],
       "ref": "12b2b50f-3c42-4fa2-9af4-37c5823bc79c",
       "rows": [
        [
         "0",
         "🍳",
         "07/01/2025 08:00",
         "07/01/2025 08:20",
         "Alimentação",
         "0.33333333333333"
        ],
        [
         "1",
         "🧋",
         "07/01/2025 10:00",
         "07/01/2025 10:05",
         "Alimentação",
         "0.083333333333333"
        ],
        [
         "2",
         "🍽️",
         "07/01/2025 12:30",
         "07/01/2025 13:00",
         "Alimentação",
         "0.5"
        ],
        [
         "3",
         "🥪",
         "07/01/2025 16:00",
         "07/01/2025 16:15",
         "Alimentação",
         "0.25"
        ],
        [
         "4",
         "🍌",
         "07/01/2025 18:00",
         "07/01/2025 18:05",
         "Alimentação",
         "0.083333333333333"
        ]
       ],
       "shape": {
        "columns": 5,
        "rows": 5
       }
      },
      "text/html": [
       "<div>\n",
       "<style scoped>\n",
       "    .dataframe tbody tr th:only-of-type {\n",
       "        vertical-align: middle;\n",
       "    }\n",
       "\n",
       "    .dataframe tbody tr th {\n",
       "        vertical-align: top;\n",
       "    }\n",
       "\n",
       "    .dataframe thead th {\n",
       "        text-align: right;\n",
       "    }\n",
       "</style>\n",
       "<table border=\"1\" class=\"dataframe\">\n",
       "  <thead>\n",
       "    <tr style=\"text-align: right;\">\n",
       "      <th></th>\n",
       "      <th>SUMMARY</th>\n",
       "      <th>DTSTART</th>\n",
       "      <th>DTEND</th>\n",
       "      <th>CALENDAR</th>\n",
       "      <th>DURATION</th>\n",
       "    </tr>\n",
       "  </thead>\n",
       "  <tbody>\n",
       "    <tr>\n",
       "      <th>0</th>\n",
       "      <td>🍳</td>\n",
       "      <td>07/01/2025 08:00</td>\n",
       "      <td>07/01/2025 08:20</td>\n",
       "      <td>Alimentação</td>\n",
       "      <td>0.33333333333333</td>\n",
       "    </tr>\n",
       "    <tr>\n",
       "      <th>1</th>\n",
       "      <td>🧋</td>\n",
       "      <td>07/01/2025 10:00</td>\n",
       "      <td>07/01/2025 10:05</td>\n",
       "      <td>Alimentação</td>\n",
       "      <td>0.083333333333333</td>\n",
       "    </tr>\n",
       "    <tr>\n",
       "      <th>2</th>\n",
       "      <td>🍽️</td>\n",
       "      <td>07/01/2025 12:30</td>\n",
       "      <td>07/01/2025 13:00</td>\n",
       "      <td>Alimentação</td>\n",
       "      <td>0.5</td>\n",
       "    </tr>\n",
       "    <tr>\n",
       "      <th>3</th>\n",
       "      <td>🥪</td>\n",
       "      <td>07/01/2025 16:00</td>\n",
       "      <td>07/01/2025 16:15</td>\n",
       "      <td>Alimentação</td>\n",
       "      <td>0.25</td>\n",
       "    </tr>\n",
       "    <tr>\n",
       "      <th>4</th>\n",
       "      <td>🍌</td>\n",
       "      <td>07/01/2025 18:00</td>\n",
       "      <td>07/01/2025 18:05</td>\n",
       "      <td>Alimentação</td>\n",
       "      <td>0.083333333333333</td>\n",
       "    </tr>\n",
       "  </tbody>\n",
       "</table>\n",
       "</div>"
      ],
      "text/plain": [
       "  SUMMARY           DTSTART             DTEND     CALENDAR           DURATION\n",
       "0       🍳  07/01/2025 08:00  07/01/2025 08:20  Alimentação   0.33333333333333\n",
       "1       🧋  07/01/2025 10:00  07/01/2025 10:05  Alimentação  0.083333333333333\n",
       "2      🍽️  07/01/2025 12:30  07/01/2025 13:00  Alimentação                0.5\n",
       "3       🥪  07/01/2025 16:00  07/01/2025 16:15  Alimentação               0.25\n",
       "4       🍌  07/01/2025 18:00  07/01/2025 18:05  Alimentação  0.083333333333333"
      ]
     },
     "execution_count": 11,
     "metadata": {},
     "output_type": "execute_result"
    }
   ],
   "source": [
    "cols_to_drop = [\n",
    "    'DUE', 'NOTES', 'ATTENDEE', 'LOCATION', 'PRIORITY', 'URL', 'UID',\n",
    "    'ORGANIZER', 'CATEGORIES', 'REPLACES RECURRENT EVENT FROM',\n",
    "    'CANCELLED', 'CREATED'\n",
    "]\n",
    "df = df.drop(columns=cols_to_drop)\n",
    "df.head()"
   ]
  },
  {
   "cell_type": "code",
   "execution_count": 12,
   "id": "602de6fc",
   "metadata": {
    "vscode": {
     "languageId": "javascript"
    }
   },
   "outputs": [
    {
     "name": "stdout",
     "output_type": "stream",
     "text": [
      "SUMMARY que estão passando do limite de data:\n",
      "['🍳' '🧋' '🍽️' '🥪' '🍌' 'INF1410 - Gerenc Proj Inf'\n",
      " 'INF1608 - Análise Numérica' 'ADM1019 - Intr. Finanças'\n",
      " 'INF1629 - P. Eng. de Software' 'Parabéns!' 'Psicólogo' 'Dr Bruno'\n",
      " 'Academia' 'Morgan Jay' 'Aniversário da minha irmã'\n",
      " 'MAT4162 - Cálculo II' 'INF1314 - Startup IA' 'Formatura Lu' 'M3']\n",
      "Número de linhas antes o filtro de datas: 7232\n",
      "Número de linhas após o filtro de datas: 4464\n"
     ]
    }
   ],
   "source": [
    "# Converter as colunas DTSTART e DTEND para datetime\n",
    "df['DTSTART'] = pd.to_datetime(df['DTSTART'], format='%d/%m/%Y %H:%M', errors='coerce')\n",
    "df['DTEND'] = pd.to_datetime(df['DTEND'], format='%d/%m/%Y %H:%M', errors='coerce')\n",
    "\n",
    "# Definir o limite máximo como o último dia de julho de 2025\n",
    "limite = pd.Timestamp('2025-07-18 23:59:59')\n",
    "\n",
    "# Mostrar todos os SUMMARY que estão passando do limite antes de filtrar\n",
    "summary_passando_limite = df[(pd.to_datetime(df['DTSTART'], errors='coerce') > limite) | (pd.to_datetime(df['DTEND'], errors='coerce') > limite)]\n",
    "print(\"SUMMARY que estão passando do limite de data:\")\n",
    "print(summary_passando_limite['SUMMARY'].unique())\n",
    "\n",
    "print(f\"Número de linhas antes o filtro de datas: {len(df)}\")\n",
    "\n",
    "# Filtrar linhas onde ambas as datas são menores ou iguais ao limite\n",
    "df = df[(df['DTSTART'] <= limite) & (df['DTEND'] <= limite)]\n",
    "\n",
    "print(f\"Número de linhas após o filtro de datas: {len(df)}\")"
   ]
  },
  {
   "cell_type": "code",
   "execution_count": 13,
   "id": "487317ce",
   "metadata": {},
   "outputs": [],
   "source": [
    "df.to_csv('../data/new_tasks.csv', index=False, encoding='utf-8')"
   ]
  }
 ],
 "metadata": {
  "kernelspec": {
   "display_name": "llm-task-scheduler-py3.13",
   "language": "python",
   "name": "python3"
  },
  "language_info": {
   "codemirror_mode": {
    "name": "ipython",
    "version": 3
   },
   "file_extension": ".py",
   "mimetype": "text/x-python",
   "name": "python",
   "nbconvert_exporter": "python",
   "pygments_lexer": "ipython3",
   "version": "3.13.3"
  }
 },
 "nbformat": 4,
 "nbformat_minor": 5
}
