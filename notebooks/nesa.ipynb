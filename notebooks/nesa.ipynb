{
 "cells": [
  {
   "cell_type": "markdown",
   "id": "2b587dc4",
   "metadata": {},
   "source": [
    "# NESA - Rede Neural"
   ]
  },
  {
   "cell_type": "code",
   "execution_count": null,
   "id": "b616a2ab",
   "metadata": {},
   "outputs": [],
   "source": [
    "import pandas as pd"
   ]
  },
  {
   "cell_type": "code",
   "execution_count": null,
   "id": "420eeb44",
   "metadata": {},
   "outputs": [],
   "source": [
    "class Event:\n",
    "    def __init__(self, title, start_at, duration, created_at):\n",
    "        self.title = title\n",
    "        self.start_at = start_at\n",
    "        self.duration = duration\n",
    "        self.created_at = created_at"
   ]
  }
 ],
 "metadata": {
  "kernelspec": {
   "display_name": "llm-task-scheduler-py3.13",
   "language": "python",
   "name": "python3"
  },
  "language_info": {
   "name": "python",
   "version": "3.13.3"
  }
 },
 "nbformat": 4,
 "nbformat_minor": 5
}
