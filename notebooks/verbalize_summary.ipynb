{
 "cells": [
  {
   "cell_type": "code",
   "execution_count": 31,
   "id": "7b36d4ba",
   "metadata": {},
   "outputs": [],
   "source": [
    "import os\n",
    "import yaml\n",
    "import pandas as pd\n",
    "from tqdm import tqdm\n",
    "from openai import OpenAI\n",
    "\n",
    "tqdm.pandas()"
   ]
  },
  {
   "cell_type": "code",
   "execution_count": 32,
   "id": "8319e975",
   "metadata": {},
   "outputs": [
    {
     "name": "stdout",
     "output_type": "stream",
     "text": [
      "=== CARREGANDO TUPLAS ÚNICAS ===\n",
      "Shape: (320, 2)\n",
      "Colunas: ['SUMMARY', 'CALENDAR']\n",
      "Primeiras 5 linhas:\n",
      "           SUMMARY     CALENDAR\n",
      "0    cafe da manha  Alimentação\n",
      "1  lanche da manha  Alimentação\n",
      "2           almoco  Alimentação\n",
      "3  lanche da tarde  Alimentação\n",
      "4       pre-treino  Alimentação\n",
      "✅ Coluna VERBALIZED adicionada\n",
      "\n",
      "Tuplas ainda não verbalizadas: 320\n",
      "Total de tuplas: 320\n",
      "Calendários únicos: ['Alimentação', 'PUC', 'Pessoal', 'Saúde', 'Compromisso', 'Exames', 'Social', 'Games', 'Exercícios', 'Trabalho', 'Viagens']\n"
     ]
    }
   ],
   "source": [
    "# Carregar o CSV com tuplas únicas já processadas\n",
    "csv_path = '../data/summary_calendar_unique.csv'\n",
    "df = pd.read_csv(csv_path, encoding='utf-8')\n",
    "\n",
    "# Renomear coluna TITLE para SUMMARY se necessário\n",
    "if 'TITLE' in df.columns:\n",
    "    df = df.rename(columns={'TITLE': 'SUMMARY'})\n",
    "\n",
    "print(f\"=== CARREGANDO TUPLAS ÚNICAS ===\")\n",
    "print(f\"Shape: {df.shape}\")\n",
    "print(f\"Colunas: {df.columns.tolist()}\")\n",
    "print(f\"Primeiras 5 linhas:\")\n",
    "print(df.head())\n",
    "\n",
    "# Adicionar coluna VERBALIZED se não existir\n",
    "if 'VERBALIZED' not in df.columns:\n",
    "    df['VERBALIZED'] = None\n",
    "    print(\"✅ Coluna VERBALIZED adicionada\")\n",
    "\n",
    "print(f\"\\nTuplas ainda não verbalizadas: {df['VERBALIZED'].isnull().sum()}\")\n",
    "print(f\"Total de tuplas: {len(df)}\")\n",
    "\n",
    "# Obter lista de calendários únicos para uso posterior\n",
    "calendar_unique_list = df['CALENDAR'].unique().tolist()\n",
    "print(f\"Calendários únicos: {calendar_unique_list}\")"
   ]
  },
  {
   "cell_type": "code",
   "execution_count": 33,
   "id": "4b0f38e9",
   "metadata": {},
   "outputs": [
    {
     "name": "stdout",
     "output_type": "stream",
     "text": [
      "Modelo: openai/gpt-4o\n",
      "Parâmetros do modelo: {'max_tokens': 2048, 'temperature': 0.4, 'top_p': 0.8}\n",
      "Temperatura: 0.4\n",
      "Máximo de tokens: 2048\n",
      "Mensagens:\n",
      "System: Você é um assistente que recebe entradas com dois campos:\n",
      "- título: string (título de uma tarefa)\n",
      "- calendário: string (tipo de calendário, ex.: {{calendars}})\n",
      "\n",
      "Sua tarefa:\n",
      "1. Verifique se o campo título já está verbalizado, ou seja, se começa com um sujeito + verbo conjugado (por exemplo “Eu preciso…”, “Agendar…”, “Revisar…”).\n",
      "   - Se **sim**, retorne exatamente o valor de `título`, **sem** acrescentar ou alterar nada.\n",
      "2. Se **não**, gere uma frase completa em português que:\n",
      "   - Comece com ”Fazer” ou outro verbo adequado ao sentido da tarefa.\n",
      "   - Você pode transformar substantivos em verbos também, como \"gravação\" para \"gravar\", \"comemoração\" para \"comemorar\"\n",
      "   - Preserve o sentido original do título.\n",
      "   - Nunca invente ações para serem feitas. Se a ação não estiver clara na mensagem com o calendário, retorne o titulo original\n",
      "   - Para momentos de comida como almoço, café da manhã, colocar almoçar, tomar café, lanchar, entre outros\n",
      "\n",
      "**Formato de saída**:\n",
      "{\n",
      "  \"task\": \"frase completa ou título original\",\n",
      "  \"type\": \"generated\" | \"original\"\n",
      "}\n",
      "\n",
      "User: Verbalize \"{{summary}}\" do calendário \"{{calendar}}\"\n"
     ]
    }
   ],
   "source": [
    "yaml_path = '../verbalizer.prompt.yml'\n",
    "with open(yaml_path, 'r') as file:\n",
    "    verbalizer_config = yaml.safe_load(file)\n",
    "\n",
    "# Acessar partes específicas do YAML\n",
    "messages = verbalizer_config.get('messages', [])\n",
    "model = verbalizer_config.get('model', '')\n",
    "model_params = verbalizer_config.get('modelParameters', {})\n",
    "temperature = verbalizer_config.get('modelParameters').get('temperature')\n",
    "max_tokens = verbalizer_config.get('modelParameters').get('max_tokens')\n",
    "\n",
    "\n",
    "print(f\"Modelo: {model}\")\n",
    "print(f\"Parâmetros do modelo: {model_params}\")\n",
    "print(f'Temperatura: {temperature}')\n",
    "print(f'Máximo de tokens: {max_tokens}')\n",
    "\n",
    "# Exemplo de como acessar o conteúdo das mensagens\n",
    "print('Mensagens:')\n",
    "print(f'System: {messages[0].get(\"content\", \"\")}')\n",
    "print(f'User: {messages[1].get(\"content\", \"\")}')"
   ]
  },
  {
   "cell_type": "code",
   "execution_count": null,
   "id": "9d3680db",
   "metadata": {},
   "outputs": [
    {
     "name": "stderr",
     "output_type": "stream",
     "text": [
      "  1%|          | 2/320 [00:01<03:30,  1.51it/s]"
     ]
    },
    {
     "name": "stdout",
     "output_type": "stream",
     "text": [
      "Resultado verbalizado: ```json\n",
      "{\n",
      "  \"task\": \"Tomar café da manhã\",\n",
      "  \"type\": \"generated\"\n",
      "}\n",
      "```\n"
     ]
    },
    {
     "name": "stderr",
     "output_type": "stream",
     "text": [
      "  1%|          | 3/320 [00:02<05:34,  1.06s/it]"
     ]
    },
    {
     "name": "stdout",
     "output_type": "stream",
     "text": [
      "Resultado verbalizado: ```json\n",
      "{\n",
      "  \"task\": \"Lanchar de manhã\",\n",
      "  \"type\": \"generated\"\n",
      "}\n",
      "```\n"
     ]
    },
    {
     "name": "stderr",
     "output_type": "stream",
     "text": [
      "  1%|▏         | 4/320 [00:04<06:20,  1.21s/it]"
     ]
    },
    {
     "name": "stdout",
     "output_type": "stream",
     "text": [
      "Resultado verbalizado: ```json\n",
      "{\n",
      "  \"task\": \"Almoçar\",\n",
      "  \"type\": \"generated\"\n",
      "}\n",
      "```\n"
     ]
    },
    {
     "name": "stderr",
     "output_type": "stream",
     "text": [
      "  2%|▏         | 5/320 [00:06<07:24,  1.41s/it]"
     ]
    },
    {
     "name": "stdout",
     "output_type": "stream",
     "text": [
      "Resultado verbalizado: ```json\n",
      "{\n",
      "  \"task\": \"Lanchar à tarde\",\n",
      "  \"type\": \"generated\"\n",
      "}\n",
      "```\n"
     ]
    },
    {
     "name": "stderr",
     "output_type": "stream",
     "text": [
      "  2%|▏         | 6/320 [00:08<08:22,  1.60s/it]"
     ]
    },
    {
     "name": "stdout",
     "output_type": "stream",
     "text": [
      "Resultado verbalizado: ```json\n",
      "{\n",
      "  \"task\": \"Tomar o pré-treino\",\n",
      "  \"type\": \"generated\"\n",
      "}\n",
      "```\n"
     ]
    },
    {
     "name": "stderr",
     "output_type": "stream",
     "text": [
      "  2%|▏         | 7/320 [00:09<08:29,  1.63s/it]"
     ]
    },
    {
     "name": "stdout",
     "output_type": "stream",
     "text": [
      "Resultado verbalizado: ```json\n",
      "{\n",
      "  \"task\": \"Jantar\",\n",
      "  \"type\": \"generated\"\n",
      "}\n",
      "```\n"
     ]
    },
    {
     "name": "stderr",
     "output_type": "stream",
     "text": [
      "  2%|▎         | 8/320 [00:12<10:26,  2.01s/it]"
     ]
    },
    {
     "name": "stdout",
     "output_type": "stream",
     "text": [
      "Resultado verbalizado: ```json\n",
      "{\n",
      "  \"task\": \"Estudar a disciplina INF1410 - Gerência de Projetos de Informática\",\n",
      "  \"type\": \"generated\"\n",
      "}\n",
      "```\n"
     ]
    },
    {
     "name": "stderr",
     "output_type": "stream",
     "text": [
      "  3%|▎         | 9/320 [00:14<10:18,  1.99s/it]"
     ]
    },
    {
     "name": "stdout",
     "output_type": "stream",
     "text": [
      "Resultado verbalizado: ```json\n",
      "{\n",
      "  \"task\": \"Estudar inf1608 - Análise Numérica\",\n",
      "  \"type\": \"generated\"\n",
      "}\n",
      "```\n"
     ]
    },
    {
     "name": "stderr",
     "output_type": "stream",
     "text": [
      "  3%|▎         | 10/320 [00:16<10:02,  1.94s/it]"
     ]
    },
    {
     "name": "stdout",
     "output_type": "stream",
     "text": [
      "Resultado verbalizado: ```json\n",
      "{\n",
      "  \"task\": \"Estudar adm1019 - introdução a finanças\",\n",
      "  \"type\": \"generated\"\n",
      "}\n",
      "```\n"
     ]
    },
    {
     "name": "stderr",
     "output_type": "stream",
     "text": [
      "  3%|▎         | 11/320 [00:18<10:10,  1.98s/it]"
     ]
    },
    {
     "name": "stdout",
     "output_type": "stream",
     "text": [
      "Resultado verbalizado: ```json\n",
      "{\n",
      "  \"task\": \"Estudar INF1629 - Princípios de Engenharia de Software\",\n",
      "  \"type\": \"generated\"\n",
      "}\n",
      "```\n"
     ]
    },
    {
     "name": "stderr",
     "output_type": "stream",
     "text": [
      "  4%|▍         | 12/320 [00:20<09:55,  1.93s/it]"
     ]
    },
    {
     "name": "stdout",
     "output_type": "stream",
     "text": [
      "Resultado verbalizado: ```json\n",
      "{\n",
      "  \"task\": \"Dar parabéns\",\n",
      "  \"type\": \"generated\"\n",
      "}\n",
      "```\n"
     ]
    },
    {
     "name": "stderr",
     "output_type": "stream",
     "text": [
      "  4%|▍         | 13/320 [00:21<09:13,  1.80s/it]"
     ]
    },
    {
     "name": "stdout",
     "output_type": "stream",
     "text": [
      "Resultado verbalizado: ```json\n",
      "{\n",
      "  \"task\": \"Consultar o psiquiatra\",\n",
      "  \"type\": \"generated\"\n",
      "}\n",
      "```\n"
     ]
    },
    {
     "name": "stderr",
     "output_type": "stream",
     "text": [
      "  4%|▍         | 14/320 [00:25<12:27,  2.44s/it]"
     ]
    },
    {
     "name": "stdout",
     "output_type": "stream",
     "text": [
      "Resultado verbalizado: ```json\n",
      "{\n",
      "  \"task\": \"rm\",\n",
      "  \"type\": \"original\"\n",
      "}\n",
      "```\n"
     ]
    },
    {
     "name": "stderr",
     "output_type": "stream",
     "text": [
      "  5%|▍         | 15/320 [00:27<10:55,  2.15s/it]"
     ]
    },
    {
     "name": "stdout",
     "output_type": "stream",
     "text": [
      "Resultado verbalizado: ```json\n",
      "{\n",
      "  \"task\": \"p3\",\n",
      "  \"type\": \"original\"\n",
      "}\n",
      "```\n"
     ]
    },
    {
     "name": "stderr",
     "output_type": "stream",
     "text": [
      "  5%|▌         | 16/320 [00:28<09:46,  1.93s/it]"
     ]
    },
    {
     "name": "stdout",
     "output_type": "stream",
     "text": [
      "Resultado verbalizado: ```json\n",
      "{\n",
      "  \"task\": \"Consultar o psicólogo\",\n",
      "  \"type\": \"generated\"\n",
      "}\n",
      "```\n"
     ]
    },
    {
     "name": "stderr",
     "output_type": "stream",
     "text": [
      "  5%|▌         | 17/320 [00:30<09:12,  1.82s/it]"
     ]
    },
    {
     "name": "stdout",
     "output_type": "stream",
     "text": [
      "Resultado verbalizado: ```json\n",
      "{\n",
      "  \"task\": \"zion\",\n",
      "  \"type\": \"original\"\n",
      "}\n",
      "```\n"
     ]
    },
    {
     "name": "stderr",
     "output_type": "stream",
     "text": [
      "  6%|▌         | 18/320 [00:31<08:57,  1.78s/it]"
     ]
    },
    {
     "name": "stdout",
     "output_type": "stream",
     "text": [
      "Resultado verbalizado: ```json\n",
      "{\n",
      "  \"task\": \"Fazer autoescola\",\n",
      "  \"type\": \"generated\"\n",
      "}\n",
      "```\n"
     ]
    },
    {
     "name": "stderr",
     "output_type": "stream",
     "text": [
      "  6%|▌         | 19/320 [00:33<08:24,  1.68s/it]"
     ]
    },
    {
     "name": "stdout",
     "output_type": "stream",
     "text": [
      "Resultado verbalizado: ```json\n",
      "{\n",
      "  \"task\": \"Fazer aula de violão\",\n",
      "  \"type\": \"generated\"\n",
      "}\n",
      "```\n"
     ]
    },
    {
     "name": "stderr",
     "output_type": "stream",
     "text": [
      "  6%|▋         | 20/320 [00:35<08:57,  1.79s/it]"
     ]
    },
    {
     "name": "stdout",
     "output_type": "stream",
     "text": [
      "Resultado verbalizado: ```json\n",
      "{\n",
      "  \"task\": \"Fazer o corte de cabelo\",\n",
      "  \"type\": \"generated\"\n",
      "}\n",
      "```\n"
     ]
    },
    {
     "name": "stderr",
     "output_type": "stream",
     "text": [
      "  7%|▋         | 21/320 [00:36<08:27,  1.70s/it]"
     ]
    },
    {
     "name": "stdout",
     "output_type": "stream",
     "text": [
      "Resultado verbalizado: ```json\n",
      "{\n",
      "  \"task\": \"Fazer aula de música\",\n",
      "  \"type\": \"generated\"\n",
      "}\n",
      "```\n"
     ]
    },
    {
     "name": "stderr",
     "output_type": "stream",
     "text": [
      "  7%|▋         | 22/320 [00:38<08:12,  1.65s/it]"
     ]
    },
    {
     "name": "stdout",
     "output_type": "stream",
     "text": [
      "Resultado verbalizado: ```json\n",
      "{\n",
      "  \"task\": \"Ir ao centro\",\n",
      "  \"type\": \"generated\"\n",
      "}\n",
      "```\n"
     ]
    },
    {
     "name": "stderr",
     "output_type": "stream",
     "text": [
      "  7%|▋         | 23/320 [00:40<08:22,  1.69s/it]"
     ]
    },
    {
     "name": "stdout",
     "output_type": "stream",
     "text": [
      "Resultado verbalizado: ```json\n",
      "{\n",
      "  \"task\": \"Conversar na PUC\",\n",
      "  \"type\": \"generated\"\n",
      "}\n",
      "```\n"
     ]
    },
    {
     "name": "stderr",
     "output_type": "stream",
     "text": [
      "  8%|▊         | 24/320 [00:41<08:24,  1.71s/it]"
     ]
    },
    {
     "name": "stdout",
     "output_type": "stream",
     "text": [
      "Resultado verbalizado: ```json\n",
      "{\n",
      "  \"task\": \"Fazer a prova prática da auto escola\",\n",
      "  \"type\": \"generated\"\n",
      "}\n",
      "```\n"
     ]
    },
    {
     "name": "stderr",
     "output_type": "stream",
     "text": [
      "  8%|▊         | 25/320 [00:43<07:50,  1.59s/it]"
     ]
    },
    {
     "name": "stdout",
     "output_type": "stream",
     "text": [
      "Resultado verbalizado: ```json\n",
      "{\n",
      "  \"task\": \"Ir ao Detran\",\n",
      "  \"type\": \"generated\"\n",
      "}\n",
      "```\n"
     ]
    },
    {
     "name": "stderr",
     "output_type": "stream",
     "text": [
      "  8%|▊         | 26/320 [00:44<07:48,  1.59s/it]"
     ]
    },
    {
     "name": "stdout",
     "output_type": "stream",
     "text": [
      "Resultado verbalizado: ```json\n",
      "{\n",
      "  \"task\": \"Fazer aula de canto\",\n",
      "  \"type\": \"generated\"\n",
      "}\n",
      "```\n"
     ]
    },
    {
     "name": "stderr",
     "output_type": "stream",
     "text": [
      "  8%|▊         | 27/320 [00:46<08:26,  1.73s/it]"
     ]
    },
    {
     "name": "stdout",
     "output_type": "stream",
     "text": [
      "Resultado verbalizado: ```json\n",
      "{\n",
      "  \"task\": \"Fazer aula de guitarra\",\n",
      "  \"type\": \"generated\"\n",
      "}\n",
      "```\n"
     ]
    },
    {
     "name": "stderr",
     "output_type": "stream",
     "text": [
      "  9%|▉         | 28/320 [00:48<08:39,  1.78s/it]"
     ]
    },
    {
     "name": "stdout",
     "output_type": "stream",
     "text": [
      "Resultado verbalizado: ```json\n",
      "{\n",
      "  \"task\": \"Fazer a graduação de Muay Thai\",\n",
      "  \"type\": \"generated\"\n",
      "}\n",
      "```\n"
     ]
    },
    {
     "name": "stderr",
     "output_type": "stream",
     "text": [
      "  9%|▉         | 29/320 [00:50<08:33,  1.77s/it]"
     ]
    },
    {
     "name": "stdout",
     "output_type": "stream",
     "text": [
      "Resultado verbalizado: ```json\n",
      "{\n",
      "  \"task\": \"Visitar a rede\",\n",
      "  \"type\": \"generated\"\n",
      "}\n",
      "```\n"
     ]
    },
    {
     "name": "stderr",
     "output_type": "stream",
     "text": [
      "  9%|▉         | 30/320 [00:52<09:24,  1.95s/it]"
     ]
    },
    {
     "name": "stdout",
     "output_type": "stream",
     "text": [
      "Resultado verbalizado: ```json\n",
      "{\n",
      "  \"task\": \"mago da musica link\",\n",
      "  \"type\": \"original\"\n",
      "}\n",
      "```\n"
     ]
    },
    {
     "name": "stderr",
     "output_type": "stream",
     "text": [
      " 10%|▉         | 31/320 [00:54<09:16,  1.92s/it]"
     ]
    },
    {
     "name": "stdout",
     "output_type": "stream",
     "text": [
      "Resultado verbalizado: ```json\n",
      "{\n",
      "  \"task\": \"Conversar com Pedro\",\n",
      "  \"type\": \"generated\"\n",
      "}\n",
      "```\n"
     ]
    },
    {
     "name": "stderr",
     "output_type": "stream",
     "text": [
      " 10%|█         | 32/320 [00:56<09:28,  1.97s/it]"
     ]
    },
    {
     "name": "stdout",
     "output_type": "stream",
     "text": [
      "Resultado verbalizado: ```json\n",
      "{\n",
      "  \"task\": \"Fazer a prova de álgebra 2\",\n",
      "  \"type\": \"generated\"\n",
      "}\n",
      "```\n"
     ]
    },
    {
     "name": "stderr",
     "output_type": "stream",
     "text": [
      " 10%|█         | 33/320 [00:58<09:17,  1.94s/it]"
     ]
    },
    {
     "name": "stdout",
     "output_type": "stream",
     "text": [
      "Resultado verbalizado: ```json\n",
      "{\n",
      "  \"task\": \"Fazer a prova da auto escola\",\n",
      "  \"type\": \"generated\"\n",
      "}\n",
      "```\n"
     ]
    },
    {
     "name": "stderr",
     "output_type": "stream",
     "text": [
      " 11%|█         | 34/320 [01:00<09:25,  1.98s/it]"
     ]
    },
    {
     "name": "stdout",
     "output_type": "stream",
     "text": [
      "Resultado verbalizado: ```json\n",
      "{\n",
      "  \"task\": \"Preparar o relatório do plano de ação de inf1301\",\n",
      "  \"type\": \"generated\"\n",
      "}\n",
      "```\n"
     ]
    },
    {
     "name": "stderr",
     "output_type": "stream",
     "text": [
      " 11%|█         | 35/320 [01:02<09:19,  1.96s/it]"
     ]
    },
    {
     "name": "stdout",
     "output_type": "stream",
     "text": [
      "Resultado verbalizado: ```json\n",
      "{\n",
      "  \"task\": \"Fazer a prova 1 de INF1018\",\n",
      "  \"type\": \"generated\"\n",
      "}\n",
      "```\n"
     ]
    },
    {
     "name": "stderr",
     "output_type": "stream",
     "text": [
      " 11%|█▏        | 36/320 [01:04<08:59,  1.90s/it]"
     ]
    },
    {
     "name": "stdout",
     "output_type": "stream",
     "text": [
      "Resultado verbalizado: ```json\n",
      "{\n",
      "  \"task\": \"Fazer a P1 de Programação Modular\",\n",
      "  \"type\": \"generated\"\n",
      "}\n",
      "```\n"
     ]
    },
    {
     "name": "stderr",
     "output_type": "stream",
     "text": [
      " 12%|█▏        | 37/320 [01:05<08:17,  1.76s/it]"
     ]
    },
    {
     "name": "stdout",
     "output_type": "stream",
     "text": [
      "Resultado verbalizado: ```json\n",
      "{\n",
      "  \"task\": \"Entregar trabalho inf1018\",\n",
      "  \"type\": \"generated\"\n",
      "}\n",
      "```\n"
     ]
    },
    {
     "name": "stderr",
     "output_type": "stream",
     "text": [
      " 12%|█▏        | 38/320 [01:07<08:14,  1.75s/it]"
     ]
    },
    {
     "name": "stdout",
     "output_type": "stream",
     "text": [
      "Resultado verbalizado: ```json\n",
      "{\n",
      "  \"task\": \"Fazer a prova de álgebra 3\",\n",
      "  \"type\": \"generated\"\n",
      "}\n",
      "```\n"
     ]
    },
    {
     "name": "stderr",
     "output_type": "stream",
     "text": [
      " 12%|█▏        | 39/320 [01:09<07:43,  1.65s/it]"
     ]
    },
    {
     "name": "stdout",
     "output_type": "stream",
     "text": [
      "Resultado verbalizado: ```json\n",
      "{\n",
      "  \"task\": \"Fazer a prova de álgebra 4\",\n",
      "  \"type\": \"generated\"\n",
      "}\n",
      "```\n"
     ]
    },
    {
     "name": "stderr",
     "output_type": "stream",
     "text": [
      " 12%|█▎        | 40/320 [01:11<09:24,  2.02s/it]"
     ]
    },
    {
     "name": "stdout",
     "output_type": "stream",
     "text": [
      "Resultado verbalizado: ```json\n",
      "{\n",
      "  \"task\": \"Fazer a p2 de inf1018\",\n",
      "  \"type\": \"generated\"\n",
      "}\n",
      "```\n"
     ]
    },
    {
     "name": "stderr",
     "output_type": "stream",
     "text": [
      " 13%|█▎        | 41/320 [01:13<08:34,  1.84s/it]"
     ]
    },
    {
     "name": "stdout",
     "output_type": "stream",
     "text": [
      "Resultado verbalizado: ```json\n",
      "{\n",
      "  \"task\": \"Fazer a P2 de Álgebra\",\n",
      "  \"type\": \"generated\"\n",
      "}\n",
      "```\n"
     ]
    },
    {
     "name": "stderr",
     "output_type": "stream",
     "text": [
      " 13%|█▎        | 42/320 [01:15<09:10,  1.98s/it]"
     ]
    },
    {
     "name": "stdout",
     "output_type": "stream",
     "text": [
      "Resultado verbalizado: ```json\n",
      "{\n",
      "  \"task\": \"Fazer o trabalho de INF1018\",\n",
      "  \"type\": \"generated\"\n",
      "}\n",
      "```\n"
     ]
    },
    {
     "name": "stderr",
     "output_type": "stream",
     "text": [
      " 13%|█▎        | 43/320 [01:17<08:37,  1.87s/it]"
     ]
    },
    {
     "name": "stdout",
     "output_type": "stream",
     "text": [
      "Resultado verbalizado: ```json\n",
      "{\n",
      "  \"task\": \"Fazer a prova 3 de álgebra\",\n",
      "  \"type\": \"generated\"\n",
      "}\n",
      "```\n"
     ]
    },
    {
     "name": "stderr",
     "output_type": "stream",
     "text": [
      " 14%|█▍        | 44/320 [01:19<08:41,  1.89s/it]"
     ]
    },
    {
     "name": "stdout",
     "output_type": "stream",
     "text": [
      "Resultado verbalizado: ```json\n",
      "{\n",
      "  \"task\": \"Fazer a P2 de Programação Modular\",\n",
      "  \"type\": \"generated\"\n",
      "}\n",
      "```\n"
     ]
    },
    {
     "name": "stderr",
     "output_type": "stream",
     "text": [
      " 14%|█▍        | 45/320 [01:20<08:10,  1.79s/it]"
     ]
    },
    {
     "name": "stdout",
     "output_type": "stream",
     "text": [
      "Resultado verbalizado: ```json\n",
      "{\n",
      "  \"task\": \"Fazer a avaliação 1 de álgebra\",\n",
      "  \"type\": \"generated\"\n",
      "}\n",
      "```\n"
     ]
    },
    {
     "name": "stderr",
     "output_type": "stream",
     "text": [
      " 14%|█▍        | 46/320 [01:22<08:30,  1.86s/it]"
     ]
    },
    {
     "name": "stdout",
     "output_type": "stream",
     "text": [
      "Resultado verbalizado: ```json\n",
      "{\n",
      "  \"task\": \"Fazer a P1 de Cálculo\",\n",
      "  \"type\": \"generated\"\n",
      "}\n",
      "```\n"
     ]
    },
    {
     "name": "stderr",
     "output_type": "stream",
     "text": [
      " 15%|█▍        | 47/320 [01:24<08:18,  1.83s/it]"
     ]
    },
    {
     "name": "stdout",
     "output_type": "stream",
     "text": [
      "Resultado verbalizado: ```json\n",
      "{\n",
      "  \"task\": \"Fazer o teste 1 de álgebra com Maple\",\n",
      "  \"type\": \"generated\"\n",
      "}\n",
      "```\n"
     ]
    },
    {
     "name": "stderr",
     "output_type": "stream",
     "text": [
      " 15%|█▌        | 48/320 [01:25<07:42,  1.70s/it]"
     ]
    },
    {
     "name": "stdout",
     "output_type": "stream",
     "text": [
      "Resultado verbalizado: ```json\n",
      "{\n",
      "  \"task\": \"Fazer a avaliação 2 de álgebra\",\n",
      "  \"type\": \"generated\"\n",
      "}\n",
      "```\n"
     ]
    },
    {
     "name": "stderr",
     "output_type": "stream",
     "text": [
      " 15%|█▌        | 49/320 [01:27<07:09,  1.58s/it]"
     ]
    },
    {
     "name": "stdout",
     "output_type": "stream",
     "text": [
      "Resultado verbalizado: ```json\n",
      "{\n",
      "  \"task\": \"Fazer a P1 de Álgebra\",\n",
      "  \"type\": \"generated\"\n",
      "}\n",
      "```\n"
     ]
    },
    {
     "name": "stderr",
     "output_type": "stream",
     "text": [
      " 16%|█▌        | 50/320 [01:29<08:15,  1.84s/it]"
     ]
    },
    {
     "name": "stdout",
     "output_type": "stream",
     "text": [
      "Resultado verbalizado: ```json\n",
      "{\n",
      "  \"task\": \"Fazer teste 1 probcomp\",\n",
      "  \"type\": \"generated\"\n",
      "}\n",
      "```\n"
     ]
    },
    {
     "name": "stderr",
     "output_type": "stream",
     "text": [
      " 16%|█▌        | 51/320 [01:31<08:01,  1.79s/it]"
     ]
    },
    {
     "name": "stdout",
     "output_type": "stream",
     "text": [
      "Resultado verbalizado: ```json\n",
      "{\n",
      "  \"task\": \"Fazer a avaliação do laboratório 1 de Cálculo\",\n",
      "  \"type\": \"generated\"\n",
      "}\n",
      "```\n"
     ]
    },
    {
     "name": "stderr",
     "output_type": "stream",
     "text": [
      " 16%|█▋        | 52/320 [01:33<07:48,  1.75s/it]"
     ]
    },
    {
     "name": "stdout",
     "output_type": "stream",
     "text": [
      "Resultado verbalizado: ```json\n",
      "{\n",
      "  \"task\": \"Fazer o trabalho 2 iac\",\n",
      "  \"type\": \"generated\"\n",
      "}\n",
      "```\n"
     ]
    },
    {
     "name": "stderr",
     "output_type": "stream",
     "text": [
      " 17%|█▋        | 53/320 [01:34<07:56,  1.78s/it]"
     ]
    },
    {
     "name": "stdout",
     "output_type": "stream",
     "text": [
      "Resultado verbalizado: ```json\n",
      "{\n",
      "  \"task\": \"Fazer o trabalho 3 de IAC\",\n",
      "  \"type\": \"generated\"\n",
      "}\n",
      "```\n"
     ]
    },
    {
     "name": "stderr",
     "output_type": "stream",
     "text": [
      " 17%|█▋        | 54/320 [01:37<08:24,  1.89s/it]"
     ]
    },
    {
     "name": "stdout",
     "output_type": "stream",
     "text": [
      "Resultado verbalizado: ```json\n",
      "{\n",
      "  \"task\": \"Fazer o trabalho G1 de ProbComp\",\n",
      "  \"type\": \"generated\"\n",
      "}\n",
      "```\n"
     ]
    },
    {
     "name": "stderr",
     "output_type": "stream",
     "text": [
      " 17%|█▋        | 55/320 [01:38<07:53,  1.79s/it]"
     ]
    },
    {
     "name": "stdout",
     "output_type": "stream",
     "text": [
      "Resultado verbalizado: ```json\n",
      "{\n",
      "  \"task\": \"Fazer o teste 2 de probcomp\",\n",
      "  \"type\": \"generated\"\n",
      "}\n",
      "```\n"
     ]
    },
    {
     "name": "stderr",
     "output_type": "stream",
     "text": [
      " 18%|█▊        | 56/320 [01:40<07:23,  1.68s/it]"
     ]
    },
    {
     "name": "stdout",
     "output_type": "stream",
     "text": [
      "Resultado verbalizado: ```json\n",
      "{\n",
      "  \"task\": \"Fazer avaliação 3 de álgebra\",\n",
      "  \"type\": \"generated\"\n",
      "}\n",
      "```\n"
     ]
    },
    {
     "name": "stderr",
     "output_type": "stream",
     "text": [
      " 18%|█▊        | 57/320 [01:41<07:21,  1.68s/it]"
     ]
    },
    {
     "name": "stdout",
     "output_type": "stream",
     "text": [
      "Resultado verbalizado: ```json\n",
      "{\n",
      "  \"task\": \"Fazer a P1 de IAC\",\n",
      "  \"type\": \"generated\"\n",
      "}\n",
      "```\n"
     ]
    },
    {
     "name": "stderr",
     "output_type": "stream",
     "text": [
      " 18%|█▊        | 58/320 [01:43<06:56,  1.59s/it]"
     ]
    },
    {
     "name": "stdout",
     "output_type": "stream",
     "text": [
      "Resultado verbalizado: ```json\n",
      "{\n",
      "  \"task\": \"Fazer a avaliação 4 de álgebra\",\n",
      "  \"type\": \"generated\"\n",
      "}\n",
      "```\n"
     ]
    },
    {
     "name": "stderr",
     "output_type": "stream",
     "text": [
      " 18%|█▊        | 59/320 [01:45<08:08,  1.87s/it]"
     ]
    },
    {
     "name": "stdout",
     "output_type": "stream",
     "text": [
      "Resultado verbalizado: ```json\n",
      "{\n",
      "  \"task\": \"Fazer o teste de Maple Algebra 2\",\n",
      "  \"type\": \"generated\"\n",
      "}\n",
      "```\n"
     ]
    },
    {
     "name": "stderr",
     "output_type": "stream",
     "text": [
      " 19%|█▉        | 60/320 [01:47<08:05,  1.87s/it]"
     ]
    },
    {
     "name": "stdout",
     "output_type": "stream",
     "text": [
      "Resultado verbalizado: ```json\n",
      "{\n",
      "  \"task\": \"Estudar para os exames da semana 6\",\n",
      "  \"type\": \"generated\"\n",
      "}\n",
      "```\n"
     ]
    },
    {
     "name": "stderr",
     "output_type": "stream",
     "text": [
      " 19%|█▉        | 61/320 [01:49<07:48,  1.81s/it]"
     ]
    },
    {
     "name": "stdout",
     "output_type": "stream",
     "text": [
      "Resultado verbalizado: ```json\n",
      "{\n",
      "  \"task\": \"Fazer exames da semana 7\",\n",
      "  \"type\": \"generated\"\n",
      "}\n",
      "```\n"
     ]
    },
    {
     "name": "stderr",
     "output_type": "stream",
     "text": [
      " 19%|█▉        | 62/320 [01:54<12:58,  3.02s/it]"
     ]
    },
    {
     "name": "stdout",
     "output_type": "stream",
     "text": [
      "Resultado verbalizado: ```json\n",
      "{\n",
      "  \"task\": \"Fazer os exames da semana 8\",\n",
      "  \"type\": \"generated\"\n",
      "}\n",
      "```\n"
     ]
    },
    {
     "name": "stderr",
     "output_type": "stream",
     "text": [
      " 20%|█▉        | 63/320 [01:56<11:01,  2.57s/it]"
     ]
    },
    {
     "name": "stdout",
     "output_type": "stream",
     "text": [
      "Resultado verbalizado: ```json\n",
      "{\n",
      "  \"task\": \"Fazer a atividade 2 de cálculo\",\n",
      "  \"type\": \"generated\"\n",
      "}\n",
      "```\n"
     ]
    },
    {
     "name": "stderr",
     "output_type": "stream",
     "text": [
      " 20%|██        | 64/320 [01:58<10:22,  2.43s/it]"
     ]
    },
    {
     "name": "stdout",
     "output_type": "stream",
     "text": [
      "Resultado verbalizado: ```json\n",
      "{\n",
      "  \"task\": \"Estudar para os exames da semana 10\",\n",
      "  \"type\": \"generated\"\n",
      "}\n",
      "```\n"
     ]
    },
    {
     "name": "stderr",
     "output_type": "stream",
     "text": [
      " 20%|██        | 65/320 [02:03<14:05,  3.31s/it]"
     ]
    },
    {
     "name": "stdout",
     "output_type": "stream",
     "text": [
      "Resultado verbalizado: ```json\n",
      "{\n",
      "  \"task\": \"Fazer os exames da semana 9\",\n",
      "  \"type\": \"generated\"\n",
      "}\n",
      "```\n"
     ]
    },
    {
     "name": "stderr",
     "output_type": "stream",
     "text": [
      " 21%|██        | 66/320 [02:05<11:53,  2.81s/it]"
     ]
    },
    {
     "name": "stdout",
     "output_type": "stream",
     "text": [
      "Resultado verbalizado: ```json\n",
      "{\n",
      "  \"task\": \"Fazer os exames da semana 11\",\n",
      "  \"type\": \"generated\"\n",
      "}\n",
      "```\n"
     ]
    },
    {
     "name": "stderr",
     "output_type": "stream",
     "text": [
      " 21%|██        | 67/320 [02:07<10:07,  2.40s/it]"
     ]
    },
    {
     "name": "stdout",
     "output_type": "stream",
     "text": [
      "Resultado verbalizado: ```json\n",
      "{\n",
      "  \"task\": \"Fazer a P2 de cálculo\",\n",
      "  \"type\": \"generated\"\n",
      "}\n",
      "```\n"
     ]
    },
    {
     "name": "stderr",
     "output_type": "stream",
     "text": [
      " 21%|██▏       | 68/320 [02:08<09:22,  2.23s/it]"
     ]
    },
    {
     "name": "stdout",
     "output_type": "stream",
     "text": [
      "Resultado verbalizado: ```json\n",
      "{\n",
      "  \"task\": \"Fazer a avaliação do laboratório 2 de cálculo\",\n",
      "  \"type\": \"generated\"\n",
      "}\n",
      "```\n"
     ]
    },
    {
     "name": "stderr",
     "output_type": "stream",
     "text": [
      " 22%|██▏       | 69/320 [02:10<08:19,  1.99s/it]"
     ]
    },
    {
     "name": "stdout",
     "output_type": "stream",
     "text": [
      "Resultado verbalizado: ```json\n",
      "{\n",
      "  \"task\": \"Fazer a avaliação extra de álgebra\",\n",
      "  \"type\": \"generated\"\n",
      "}\n",
      "```\n"
     ]
    },
    {
     "name": "stderr",
     "output_type": "stream",
     "text": [
      " 22%|██▏       | 70/320 [02:11<07:43,  1.86s/it]"
     ]
    },
    {
     "name": "stdout",
     "output_type": "stream",
     "text": [
      "Resultado verbalizado: ```json\n",
      "{\n",
      "  \"task\": \"Fazer a avaliação extra de álgebra\",\n",
      "  \"type\": \"generated\"\n",
      "}\n",
      "```\n"
     ]
    },
    {
     "name": "stderr",
     "output_type": "stream",
     "text": [
      " 22%|██▏       | 71/320 [02:13<07:10,  1.73s/it]"
     ]
    },
    {
     "name": "stdout",
     "output_type": "stream",
     "text": [
      "Resultado verbalizado: ```json\n",
      "{\n",
      "  \"task\": \"Fazer a avaliação extra de álgebra\",\n",
      "  \"type\": \"generated\"\n",
      "}\n",
      "```\n"
     ]
    },
    {
     "name": "stderr",
     "output_type": "stream",
     "text": [
      " 22%|██▎       | 72/320 [02:15<07:17,  1.76s/it]"
     ]
    },
    {
     "name": "stdout",
     "output_type": "stream",
     "text": [
      "Resultado verbalizado: ```json\n",
      "{\n",
      "  \"task\": \"Fazer a avaliação de álgebra 5\",\n",
      "  \"type\": \"generated\"\n",
      "}\n",
      "```\n"
     ]
    },
    {
     "name": "stderr",
     "output_type": "stream",
     "text": [
      " 23%|██▎       | 73/320 [02:16<07:00,  1.70s/it]"
     ]
    },
    {
     "name": "stdout",
     "output_type": "stream",
     "text": [
      "Resultado verbalizado: ```json\n",
      "{\n",
      "  \"task\": \"Fazer o trabalho 4 de IAC\",\n",
      "  \"type\": \"generated\"\n",
      "}\n",
      "```\n"
     ]
    },
    {
     "name": "stderr",
     "output_type": "stream",
     "text": [
      " 23%|██▎       | 74/320 [02:17<06:26,  1.57s/it]"
     ]
    },
    {
     "name": "stdout",
     "output_type": "stream",
     "text": [
      "Resultado verbalizado: ```json\n",
      "{\n",
      "  \"task\": \"Fazer a avaliação 6 de álgebra\",\n",
      "  \"type\": \"generated\"\n",
      "}\n",
      "```\n"
     ]
    },
    {
     "name": "stderr",
     "output_type": "stream",
     "text": [
      " 23%|██▎       | 75/320 [02:19<06:10,  1.51s/it]"
     ]
    },
    {
     "name": "stdout",
     "output_type": "stream",
     "text": [
      "Resultado verbalizado: ```json\n",
      "{\n",
      "  \"task\": \"Fazer a prova p2 iac\",\n",
      "  \"type\": \"generated\"\n",
      "}\n",
      "```\n"
     ]
    },
    {
     "name": "stderr",
     "output_type": "stream",
     "text": [
      " 24%|██▍       | 76/320 [02:23<08:48,  2.16s/it]"
     ]
    },
    {
     "name": "stdout",
     "output_type": "stream",
     "text": [
      "Resultado verbalizado: ```json\n",
      "{\n",
      "  \"task\": \"Realizar teste e medição da atividade 1\",\n",
      "  \"type\": \"generated\"\n",
      "}\n",
      "```\n"
     ]
    },
    {
     "name": "stderr",
     "output_type": "stream",
     "text": [
      " 24%|██▍       | 77/320 [02:33<19:04,  4.71s/it]"
     ]
    },
    {
     "name": "stdout",
     "output_type": "stream",
     "text": [
      "Resultado verbalizado: None\n"
     ]
    },
    {
     "name": "stderr",
     "output_type": "stream",
     "text": [
      " 24%|██▍       | 78/320 [02:35<15:38,  3.88s/it]"
     ]
    },
    {
     "name": "stdout",
     "output_type": "stream",
     "text": [
      "Resultado verbalizado: ```json\n",
      "{\n",
      "  \"task\": \"Fazer uma atividade teste\",\n",
      "  \"type\": \"generated\"\n",
      "}\n",
      "```\n"
     ]
    },
    {
     "name": "stderr",
     "output_type": "stream",
     "text": [
      " 25%|██▍       | 79/320 [02:37<13:00,  3.24s/it]"
     ]
    },
    {
     "name": "stdout",
     "output_type": "stream",
     "text": [
      "Resultado verbalizado: ```json\n",
      "{\n",
      "  \"task\": \"Fazer o exame poo: p1\",\n",
      "  \"type\": \"generated\"\n",
      "}\n",
      "```\n"
     ]
    },
    {
     "name": "stderr",
     "output_type": "stream",
     "text": [
      " 25%|██▌       | 80/320 [02:40<12:30,  3.13s/it]"
     ]
    },
    {
     "name": "stdout",
     "output_type": "stream",
     "text": [
      "Resultado verbalizado: ```json\n",
      "{\n",
      "  \"task\": \"Testar e medir p1\",\n",
      "  \"type\": \"generated\"\n",
      "}\n",
      "```\n"
     ]
    },
    {
     "name": "stderr",
     "output_type": "stream",
     "text": [
      " 25%|██▌       | 81/320 [02:41<10:43,  2.69s/it]"
     ]
    },
    {
     "name": "stdout",
     "output_type": "stream",
     "text": [
      "Resultado verbalizado: ```json\n",
      "{\n",
      "  \"task\": \"Fazer o trabalho I de POO\",\n",
      "  \"type\": \"generated\"\n",
      "}\n",
      "```\n"
     ]
    },
    {
     "name": "stderr",
     "output_type": "stream",
     "text": [
      " 26%|██▌       | 82/320 [02:44<10:28,  2.64s/it]"
     ]
    },
    {
     "name": "stdout",
     "output_type": "stream",
     "text": [
      "Resultado verbalizado: ```json\n",
      "{\n",
      "  \"task\": \"bd: t2\",\n",
      "  \"type\": \"original\"\n",
      "}\n",
      "```\n"
     ]
    },
    {
     "name": "stderr",
     "output_type": "stream",
     "text": [
      " 26%|██▌       | 83/320 [02:46<10:02,  2.54s/it]"
     ]
    },
    {
     "name": "stdout",
     "output_type": "stream",
     "text": [
      "Resultado verbalizado: ```json\n",
      "{\n",
      "  \"task\": \"so: p1\",\n",
      "  \"type\": \"original\"\n",
      "}\n",
      "```\n"
     ]
    },
    {
     "name": "stderr",
     "output_type": "stream",
     "text": [
      " 26%|██▋       | 84/320 [02:50<10:55,  2.78s/it]"
     ]
    },
    {
     "name": "stdout",
     "output_type": "stream",
     "text": [
      "Resultado verbalizado: ```json\n",
      "{\n",
      "  \"task\": \"Fazer trabalho 1 de banco de dados\",\n",
      "  \"type\": \"generated\"\n",
      "}\n",
      "```\n"
     ]
    },
    {
     "name": "stderr",
     "output_type": "stream",
     "text": [
      " 27%|██▋       | 85/320 [02:51<09:30,  2.43s/it]"
     ]
    },
    {
     "name": "stdout",
     "output_type": "stream",
     "text": [
      "Resultado verbalizado: ```json\n",
      "{\n",
      "  \"task\": \"Fazer o trabalho II de POO\",\n",
      "  \"type\": \"generated\"\n",
      "}\n",
      "```\n"
     ]
    },
    {
     "name": "stderr",
     "output_type": "stream",
     "text": [
      " 27%|██▋       | 86/320 [02:58<14:54,  3.82s/it]"
     ]
    },
    {
     "name": "stdout",
     "output_type": "stream",
     "text": [
      "Resultado verbalizado: ```json\n",
      "{\n",
      "  \"task\": \"Fazer o trabalho 1\",\n",
      "  \"type\": \"generated\"\n",
      "}\n",
      "```\n"
     ]
    },
    {
     "name": "stderr",
     "output_type": "stream",
     "text": [
      " 27%|██▋       | 87/320 [03:01<13:10,  3.39s/it]"
     ]
    },
    {
     "name": "stdout",
     "output_type": "stream",
     "text": [
      "Resultado verbalizado: ```json\n",
      "{\n",
      "  \"task\": \"Fazer bd: t3\",\n",
      "  \"type\": \"generated\"\n",
      "}\n",
      "```\n"
     ]
    },
    {
     "name": "stderr",
     "output_type": "stream",
     "text": [
      " 28%|██▊       | 88/320 [03:02<11:10,  2.89s/it]"
     ]
    },
    {
     "name": "stdout",
     "output_type": "stream",
     "text": [
      "Resultado verbalizado: ```json\n",
      "{\n",
      "  \"task\": \"Fazer o laboratório 5 de Sistemas Operacionais\",\n",
      "  \"type\": \"generated\"\n",
      "}\n",
      "```\n"
     ]
    },
    {
     "name": "stderr",
     "output_type": "stream",
     "text": [
      " 28%|██▊       | 89/320 [03:05<10:30,  2.73s/it]"
     ]
    },
    {
     "name": "stdout",
     "output_type": "stream",
     "text": [
      "Resultado verbalizado: ```json\n",
      "{\n",
      "  \"task\": \"Fazer o trabalho III de POO\",\n",
      "  \"type\": \"generated\"\n",
      "}\n",
      "```\n"
     ]
    },
    {
     "name": "stderr",
     "output_type": "stream",
     "text": [
      " 28%|██▊       | 90/320 [03:06<09:19,  2.43s/it]"
     ]
    },
    {
     "name": "stdout",
     "output_type": "stream",
     "text": [
      "Resultado verbalizado: ```json\n",
      "{\n",
      "  \"task\": \"Fazer o exame bd: t1 g2\",\n",
      "  \"type\": \"generated\"\n",
      "}\n",
      "```\n"
     ]
    },
    {
     "name": "stderr",
     "output_type": "stream",
     "text": [
      " 28%|██▊       | 91/320 [03:08<08:29,  2.22s/it]"
     ]
    },
    {
     "name": "stdout",
     "output_type": "stream",
     "text": [
      "Resultado verbalizado: ```json\n",
      "{\n",
      "  \"task\": \"Fazer o trabalho IV de Programação Orientada a Objetos\",\n",
      "  \"type\": \"generated\"\n",
      "}\n",
      "```\n"
     ]
    },
    {
     "name": "stderr",
     "output_type": "stream",
     "text": [
      " 29%|██▉       | 92/320 [03:11<09:32,  2.51s/it]"
     ]
    },
    {
     "name": "stdout",
     "output_type": "stream",
     "text": [
      "Resultado verbalizado: ```json\n",
      "{\n",
      "  \"task\": \"Fazer a atividade 3 de tms\",\n",
      "  \"type\": \"generated\"\n",
      "}\n",
      "```\n"
     ]
    },
    {
     "name": "stderr",
     "output_type": "stream",
     "text": [
      " 29%|██▉       | 93/320 [03:20<16:52,  4.46s/it]"
     ]
    },
    {
     "name": "stdout",
     "output_type": "stream",
     "text": [
      "Resultado verbalizado: ```json\n",
      "{\n",
      "  \"task\": \"Fazer o so: laboratório 6\",\n",
      "  \"type\": \"generated\"\n",
      "}\n",
      "```\n"
     ]
    },
    {
     "name": "stderr",
     "output_type": "stream",
     "text": [
      " 29%|██▉       | 94/320 [03:22<13:43,  3.64s/it]"
     ]
    },
    {
     "name": "stdout",
     "output_type": "stream",
     "text": [
      "Resultado verbalizado: ```json\n",
      "{\n",
      "  \"task\": \"Fazer o exame tms: p2\",\n",
      "  \"type\": \"generated\"\n",
      "}\n",
      "```\n"
     ]
    },
    {
     "name": "stderr",
     "output_type": "stream",
     "text": [
      " 30%|██▉       | 95/320 [03:25<13:03,  3.48s/it]"
     ]
    },
    {
     "name": "stdout",
     "output_type": "stream",
     "text": [
      "Resultado verbalizado: ```json\n",
      "{\n",
      "  \"task\": \"Fazer o trabalho 2 de banco de dados\",\n",
      "  \"type\": \"generated\"\n",
      "}\n",
      "```\n"
     ]
    },
    {
     "name": "stderr",
     "output_type": "stream",
     "text": [
      " 30%|███       | 96/320 [03:29<13:39,  3.66s/it]"
     ]
    },
    {
     "name": "stdout",
     "output_type": "stream",
     "text": [
      "Resultado verbalizado: ```json\n",
      "{\n",
      "  \"task\": \"Apresentar POO\",\n",
      "  \"type\": \"generated\"\n",
      "}\n",
      "```\n"
     ]
    },
    {
     "name": "stderr",
     "output_type": "stream",
     "text": [
      " 30%|███       | 97/320 [03:31<11:47,  3.17s/it]"
     ]
    },
    {
     "name": "stdout",
     "output_type": "stream",
     "text": [
      "Resultado verbalizado: ```json\n",
      "{\n",
      "  \"task\": \"bd: t2 g2\",\n",
      "  \"type\": \"original\"\n",
      "}\n",
      "```\n"
     ]
    },
    {
     "name": "stderr",
     "output_type": "stream",
     "text": [
      " 31%|███       | 98/320 [03:33<09:54,  2.68s/it]"
     ]
    },
    {
     "name": "stdout",
     "output_type": "stream",
     "text": [
      "Resultado verbalizado: ```json\n",
      "{\n",
      "  \"task\": \"so: p2\",\n",
      "  \"type\": \"original\"\n",
      "}\n",
      "```\n"
     ]
    },
    {
     "name": "stderr",
     "output_type": "stream",
     "text": [
      " 31%|███       | 99/320 [03:34<08:37,  2.34s/it]"
     ]
    },
    {
     "name": "stdout",
     "output_type": "stream",
     "text": [
      "Resultado verbalizado: ```json\n",
      "{\n",
      "  \"task\": \"Fazer o trabalho II de IHC\",\n",
      "  \"type\": \"generated\"\n",
      "}\n",
      "```\n"
     ]
    },
    {
     "name": "stderr",
     "output_type": "stream",
     "text": [
      " 31%|███▏      | 100/320 [03:45<17:09,  4.68s/it]"
     ]
    },
    {
     "name": "stdout",
     "output_type": "stream",
     "text": [
      "Resultado verbalizado: None\n"
     ]
    },
    {
     "name": "stderr",
     "output_type": "stream",
     "text": [
      " 32%|███▏      | 101/320 [03:46<13:44,  3.76s/it]"
     ]
    },
    {
     "name": "stdout",
     "output_type": "stream",
     "text": [
      "Resultado verbalizado: ```json\n",
      "{\n",
      "  \"task\": \"Apresentar IHC\",\n",
      "  \"type\": \"generated\"\n",
      "}\n",
      "```\n"
     ]
    },
    {
     "name": "stderr",
     "output_type": "stream",
     "text": [
      " 32%|███▏      | 102/320 [03:48<11:08,  3.07s/it]"
     ]
    },
    {
     "name": "stdout",
     "output_type": "stream",
     "text": [
      "Resultado verbalizado: ```json\n",
      "{\n",
      "  \"task\": \"Fazer o de-para\",\n",
      "  \"type\": \"generated\"\n",
      "}\n",
      "```\n"
     ]
    },
    {
     "name": "stderr",
     "output_type": "stream",
     "text": [
      " 32%|███▏      | 103/320 [03:50<10:13,  2.83s/it]"
     ]
    },
    {
     "name": "stdout",
     "output_type": "stream",
     "text": [
      "Resultado verbalizado: ```json\n",
      "{\n",
      "  \"task\": \"de/para alternativo\",\n",
      "  \"type\": \"original\"\n",
      "}\n",
      "```\n"
     ]
    },
    {
     "name": "stderr",
     "output_type": "stream",
     "text": [
      " 32%|███▎      | 104/320 [03:52<09:19,  2.59s/it]"
     ]
    },
    {
     "name": "stdout",
     "output_type": "stream",
     "text": [
      "Resultado verbalizado: ```json\n",
      "{\n",
      "  \"task\": \"Fazer a apresentação do CD\",\n",
      "  \"type\": \"generated\"\n",
      "}\n",
      "```\n"
     ]
    },
    {
     "name": "stderr",
     "output_type": "stream",
     "text": [
      " 33%|███▎      | 105/320 [03:54<08:43,  2.43s/it]"
     ]
    },
    {
     "name": "stdout",
     "output_type": "stream",
     "text": [
      "Resultado verbalizado: ```json\n",
      "{\n",
      "  \"task\": \"Fazer a apresentação de pcs\",\n",
      "  \"type\": \"generated\"\n",
      "}\n",
      "```\n"
     ]
    },
    {
     "name": "stderr",
     "output_type": "stream",
     "text": [
      " 33%|███▎      | 106/320 [03:55<07:39,  2.15s/it]"
     ]
    },
    {
     "name": "stdout",
     "output_type": "stream",
     "text": [
      "Resultado verbalizado: ```json\n",
      "{\n",
      "  \"task\": \"Fazer o exame de redes: p1\",\n",
      "  \"type\": \"generated\"\n",
      "}\n",
      "```\n"
     ]
    },
    {
     "name": "stderr",
     "output_type": "stream",
     "text": [
      " 33%|███▎      | 107/320 [03:58<08:06,  2.28s/it]"
     ]
    },
    {
     "name": "stdout",
     "output_type": "stream",
     "text": [
      "Resultado verbalizado: ```json\n",
      "{\n",
      "  \"task\": \"ed: p1\",\n",
      "  \"type\": \"original\"\n",
      "}\n",
      "```\n"
     ]
    },
    {
     "name": "stderr",
     "output_type": "stream",
     "text": [
      " 34%|███▍      | 108/320 [04:00<07:33,  2.14s/it]"
     ]
    },
    {
     "name": "stdout",
     "output_type": "stream",
     "text": [
      "Resultado verbalizado: ```json\n",
      "{\n",
      "  \"task\": \"Apresentar o trabalho de pcs do grupo 2\",\n",
      "  \"type\": \"generated\"\n",
      "}\n",
      "```\n"
     ]
    },
    {
     "name": "stderr",
     "output_type": "stream",
     "text": [
      " 34%|███▍      | 109/320 [04:03<08:56,  2.54s/it]"
     ]
    },
    {
     "name": "stdout",
     "output_type": "stream",
     "text": [
      "Resultado verbalizado: ```json\n",
      "{\n",
      "  \"task\": \"Fazer o trabalho 1 de Redes\",\n",
      "  \"type\": \"generated\"\n",
      "}\n",
      "```\n"
     ]
    },
    {
     "name": "stderr",
     "output_type": "stream",
     "text": [
      " 34%|███▍      | 110/320 [04:05<08:05,  2.31s/it]"
     ]
    },
    {
     "name": "stdout",
     "output_type": "stream",
     "text": [
      "Resultado verbalizado: ```json\n",
      "{\n",
      "  \"task\": \"Apresentar o G2\",\n",
      "  \"type\": \"generated\"\n",
      "}\n",
      "```\n"
     ]
    },
    {
     "name": "stderr",
     "output_type": "stream",
     "text": [
      " 35%|███▍      | 111/320 [04:07<07:27,  2.14s/it]"
     ]
    },
    {
     "name": "stdout",
     "output_type": "stream",
     "text": [
      "Resultado verbalizado: ```json\n",
      "{\n",
      "  \"task\": \"Fazer a prova de redes p2\",\n",
      "  \"type\": \"generated\"\n",
      "}\n",
      "```\n"
     ]
    },
    {
     "name": "stderr",
     "output_type": "stream",
     "text": [
      " 35%|███▌      | 112/320 [04:09<07:37,  2.20s/it]"
     ]
    },
    {
     "name": "stdout",
     "output_type": "stream",
     "text": [
      "Resultado verbalizado: ```json\n",
      "{\n",
      "  \"task\": \"Fazer a prova 2 de ED\",\n",
      "  \"type\": \"generated\"\n",
      "}\n",
      "```\n"
     ]
    },
    {
     "name": "stderr",
     "output_type": "stream",
     "text": [
      " 35%|███▌      | 113/320 [04:11<07:32,  2.18s/it]"
     ]
    },
    {
     "name": "stdout",
     "output_type": "stream",
     "text": [
      "Resultado verbalizado: ```json\n",
      "{\n",
      "  \"task\": \"Fazer a lista 4 de estudo dirigido\",\n",
      "  \"type\": \"generated\"\n",
      "}\n",
      "```\n"
     ]
    },
    {
     "name": "stderr",
     "output_type": "stream",
     "text": [
      " 36%|███▌      | 114/320 [04:22<16:01,  4.67s/it]"
     ]
    },
    {
     "name": "stdout",
     "output_type": "stream",
     "text": [
      "Resultado verbalizado: None\n"
     ]
    },
    {
     "name": "stderr",
     "output_type": "stream",
     "text": [
      " 36%|███▌      | 115/320 [04:23<12:25,  3.63s/it]"
     ]
    },
    {
     "name": "stdout",
     "output_type": "stream",
     "text": [
      "Resultado verbalizado: ```json\n",
      "{\n",
      "  \"task\": \"Apresentar t2 - eda\",\n",
      "  \"type\": \"generated\"\n",
      "}\n",
      "```\n"
     ]
    },
    {
     "name": "stderr",
     "output_type": "stream",
     "text": [
      " 36%|███▋      | 116/320 [04:25<10:26,  3.07s/it]"
     ]
    },
    {
     "name": "stdout",
     "output_type": "stream",
     "text": [
      "Resultado verbalizado: ```json\n",
      "{\n",
      "  \"task\": \"Fazer o exame pf - eda\",\n",
      "  \"type\": \"generated\"\n",
      "}\n",
      "```\n"
     ]
    },
    {
     "name": "stderr",
     "output_type": "stream",
     "text": [
      " 37%|███▋      | 117/320 [04:26<08:52,  2.62s/it]"
     ]
    },
    {
     "name": "stdout",
     "output_type": "stream",
     "text": [
      "Resultado verbalizado: ```json\n",
      "{\n",
      "  \"task\": \"Fazer o exame psr: mp1\",\n",
      "  \"type\": \"generated\"\n",
      "}\n",
      "```\n"
     ]
    },
    {
     "name": "stderr",
     "output_type": "stream",
     "text": [
      " 37%|███▋      | 118/320 [04:28<08:11,  2.44s/it]"
     ]
    },
    {
     "name": "stdout",
     "output_type": "stream",
     "text": [
      "Resultado verbalizado: ```json\n",
      "{\n",
      "  \"task\": \"aa: p1\",\n",
      "  \"type\": \"original\"\n",
      "}\n",
      "```\n"
     ]
    },
    {
     "name": "stderr",
     "output_type": "stream",
     "text": [
      " 37%|███▋      | 119/320 [04:32<08:54,  2.66s/it]"
     ]
    },
    {
     "name": "stdout",
     "output_type": "stream",
     "text": [
      "Resultado verbalizado: ```json\n",
      "{\n",
      "  \"task\": \"als - p1\",\n",
      "  \"type\": \"original\"\n",
      "}\n",
      "```\n"
     ]
    },
    {
     "name": "stderr",
     "output_type": "stream",
     "text": [
      " 38%|███▊      | 120/320 [04:34<08:54,  2.67s/it]"
     ]
    },
    {
     "name": "stdout",
     "output_type": "stream",
     "text": [
      "Resultado verbalizado: ```json\n",
      "{\n",
      "  \"task\": \"Fazer a prova 1 de Probabilidade Computacional\",\n",
      "  \"type\": \"generated\"\n",
      "}\n",
      "```\n"
     ]
    },
    {
     "name": "stderr",
     "output_type": "stream",
     "text": [
      " 38%|███▊      | 121/320 [04:36<07:41,  2.32s/it]"
     ]
    },
    {
     "name": "stdout",
     "output_type": "stream",
     "text": [
      "Resultado verbalizado: ```json\n",
      "{\n",
      "  \"task\": \"aa: p2\",\n",
      "  \"type\": \"original\"\n",
      "}\n",
      "```\n"
     ]
    },
    {
     "name": "stderr",
     "output_type": "stream",
     "text": [
      " 38%|███▊      | 122/320 [04:37<06:43,  2.04s/it]"
     ]
    },
    {
     "name": "stdout",
     "output_type": "stream",
     "text": [
      "Resultado verbalizado: ```json\n",
      "{\n",
      "  \"task\": \"Fazer o trabalho 2 aa\",\n",
      "  \"type\": \"generated\"\n",
      "}\n",
      "```\n"
     ]
    },
    {
     "name": "stderr",
     "output_type": "stream",
     "text": [
      " 38%|███▊      | 123/320 [04:40<07:33,  2.30s/it]"
     ]
    },
    {
     "name": "stdout",
     "output_type": "stream",
     "text": [
      "Resultado verbalizado: ```json\n",
      "{\n",
      "  \"task\": \"Fazer probcomp - t2\",\n",
      "  \"type\": \"generated\"\n",
      "}\n",
      "```\n"
     ]
    },
    {
     "name": "stderr",
     "output_type": "stream",
     "text": [
      " 39%|███▉      | 124/320 [04:42<07:16,  2.23s/it]"
     ]
    },
    {
     "name": "stdout",
     "output_type": "stream",
     "text": [
      "Resultado verbalizado: ```json\n",
      "{\n",
      "  \"task\": \"Fazer o exame als - p2\",\n",
      "  \"type\": \"generated\"\n",
      "}\n",
      "```\n"
     ]
    },
    {
     "name": "stderr",
     "output_type": "stream",
     "text": [
      " 39%|███▉      | 125/320 [04:44<06:33,  2.02s/it]"
     ]
    },
    {
     "name": "stdout",
     "output_type": "stream",
     "text": [
      "Resultado verbalizado: ```json\n",
      "{\n",
      "  \"task\": \"aa: p3\",\n",
      "  \"type\": \"original\"\n",
      "}\n",
      "```\n"
     ]
    },
    {
     "name": "stderr",
     "output_type": "stream",
     "text": [
      " 39%|███▉      | 126/320 [04:45<06:21,  1.97s/it]"
     ]
    },
    {
     "name": "stdout",
     "output_type": "stream",
     "text": [
      "Resultado verbalizado: ```json\n",
      "{\n",
      "  \"task\": \"Apresentar o estágio\",\n",
      "  \"type\": \"generated\"\n",
      "}\n",
      "```\n"
     ]
    },
    {
     "name": "stderr",
     "output_type": "stream",
     "text": [
      " 40%|███▉      | 127/320 [04:48<06:24,  1.99s/it]"
     ]
    },
    {
     "name": "stdout",
     "output_type": "stream",
     "text": [
      "Resultado verbalizado: ```json\n",
      "{\n",
      "  \"task\": \"Fazer o trabalho 3 aa\",\n",
      "  \"type\": \"generated\"\n",
      "}\n",
      "```\n"
     ]
    },
    {
     "name": "stderr",
     "output_type": "stream",
     "text": [
      " 40%|████      | 128/320 [04:50<06:33,  2.05s/it]"
     ]
    },
    {
     "name": "stdout",
     "output_type": "stream",
     "text": [
      "Resultado verbalizado: ```json\n",
      "{\n",
      "  \"task\": \"Fazer a prova de Probcomp - P2\",\n",
      "  \"type\": \"generated\"\n",
      "}\n",
      "```\n"
     ]
    },
    {
     "name": "stderr",
     "output_type": "stream",
     "text": [
      " 40%|████      | 129/320 [04:54<08:21,  2.62s/it]"
     ]
    },
    {
     "name": "stdout",
     "output_type": "stream",
     "text": [
      "Resultado verbalizado: ```json\n",
      "{\n",
      "  \"task\": \"Fazer o trabalho als\",\n",
      "  \"type\": \"generated\"\n",
      "}\n",
      "```\n"
     ]
    },
    {
     "name": "stderr",
     "output_type": "stream",
     "text": [
      " 41%|████      | 130/320 [04:56<07:43,  2.44s/it]"
     ]
    },
    {
     "name": "stdout",
     "output_type": "stream",
     "text": [
      "Resultado verbalizado: ```json\n",
      "{\n",
      "  \"task\": \"Fazer o projeto final PSR\",\n",
      "  \"type\": \"generated\"\n",
      "}\n",
      "```\n"
     ]
    },
    {
     "name": "stderr",
     "output_type": "stream",
     "text": [
      " 41%|████      | 131/320 [04:57<07:03,  2.24s/it]"
     ]
    },
    {
     "name": "stdout",
     "output_type": "stream",
     "text": [
      "Resultado verbalizado: ```json\n",
      "{\n",
      "  \"task\": \"Participar do birusamba de verão\",\n",
      "  \"type\": \"generated\"\n",
      "}\n",
      "```\n"
     ]
    },
    {
     "name": "stderr",
     "output_type": "stream",
     "text": [
      " 41%|████▏     | 132/320 [04:59<06:32,  2.09s/it]"
     ]
    },
    {
     "name": "stdout",
     "output_type": "stream",
     "text": [
      "Resultado verbalizado: ```json\n",
      "{\n",
      "  \"task\": \"Fazer a t2 de cálculo\",\n",
      "  \"type\": \"generated\"\n",
      "}\n",
      "```\n"
     ]
    },
    {
     "name": "stderr",
     "output_type": "stream",
     "text": [
      " 42%|████▏     | 133/320 [05:01<06:25,  2.06s/it]"
     ]
    },
    {
     "name": "stdout",
     "output_type": "stream",
     "text": [
      "Resultado verbalizado: ```json\n",
      "{\n",
      "  \"task\": \"Fazer a P3 de cálculo\",\n",
      "  \"type\": \"generated\"\n",
      "}\n",
      "```\n"
     ]
    },
    {
     "name": "stderr",
     "output_type": "stream",
     "text": [
      " 42%|████▏     | 134/320 [05:03<06:04,  1.96s/it]"
     ]
    },
    {
     "name": "stdout",
     "output_type": "stream",
     "text": [
      "Resultado verbalizado: ```json\n",
      "{\n",
      "  \"task\": \"Consultar o Dr. Bruno\",\n",
      "  \"type\": \"generated\"\n",
      "}\n",
      "```\n"
     ]
    },
    {
     "name": "stderr",
     "output_type": "stream",
     "text": [
      " 42%|████▏     | 135/320 [05:04<05:37,  1.82s/it]"
     ]
    },
    {
     "name": "stdout",
     "output_type": "stream",
     "text": [
      "Resultado verbalizado: ```json\n",
      "{\n",
      "  \"task\": \"Fazer quiropraxia\",\n",
      "  \"type\": \"generated\"\n",
      "}\n",
      "```\n"
     ]
    },
    {
     "name": "stderr",
     "output_type": "stream",
     "text": [
      " 42%|████▎     | 136/320 [05:06<05:27,  1.78s/it]"
     ]
    },
    {
     "name": "stdout",
     "output_type": "stream",
     "text": [
      "Resultado verbalizado: ```json\n",
      "{\n",
      "  \"task\": \"Fazer exame de imagem\",\n",
      "  \"type\": \"generated\"\n",
      "}\n",
      "```\n"
     ]
    },
    {
     "name": "stderr",
     "output_type": "stream",
     "text": [
      " 43%|████▎     | 137/320 [05:08<05:06,  1.67s/it]"
     ]
    },
    {
     "name": "stdout",
     "output_type": "stream",
     "text": [
      "Resultado verbalizado: ```json\n",
      "{\n",
      "  \"task\": \"Consultar o cirurgião\",\n",
      "  \"type\": \"generated\"\n",
      "}\n",
      "```\n"
     ]
    },
    {
     "name": "stderr",
     "output_type": "stream",
     "text": [
      " 43%|████▎     | 138/320 [05:09<05:06,  1.68s/it]"
     ]
    },
    {
     "name": "stdout",
     "output_type": "stream",
     "text": [
      "Resultado verbalizado: ```json\n",
      "{\n",
      "  \"task\": \"Consultar o ortopedista\",\n",
      "  \"type\": \"generated\"\n",
      "}\n",
      "```\n"
     ]
    },
    {
     "name": "stderr",
     "output_type": "stream",
     "text": [
      " 43%|████▎     | 139/320 [05:11<05:02,  1.67s/it]"
     ]
    },
    {
     "name": "stdout",
     "output_type": "stream",
     "text": [
      "Resultado verbalizado: ```json\n",
      "{\n",
      "  \"task\": \"Consultar o dermatologista\",\n",
      "  \"type\": \"generated\"\n",
      "}\n",
      "```\n"
     ]
    },
    {
     "name": "stderr",
     "output_type": "stream",
     "text": [
      " 44%|████▍     | 140/320 [05:13<05:36,  1.87s/it]"
     ]
    },
    {
     "name": "stdout",
     "output_type": "stream",
     "text": [
      "Resultado verbalizado: ```json\n",
      "{\n",
      "  \"task\": \"Fazer exame de sangue\",\n",
      "  \"type\": \"generated\"\n",
      "}\n",
      "```\n"
     ]
    },
    {
     "name": "stderr",
     "output_type": "stream",
     "text": [
      " 44%|████▍     | 141/320 [05:15<05:23,  1.81s/it]"
     ]
    },
    {
     "name": "stdout",
     "output_type": "stream",
     "text": [
      "Resultado verbalizado: ```json\n",
      "{\n",
      "  \"task\": \"Fazer endoscopia\",\n",
      "  \"type\": \"generated\"\n",
      "}\n",
      "```\n"
     ]
    },
    {
     "name": "stderr",
     "output_type": "stream",
     "text": [
      " 44%|████▍     | 142/320 [05:17<05:12,  1.76s/it]"
     ]
    },
    {
     "name": "stdout",
     "output_type": "stream",
     "text": [
      "Resultado verbalizado: ```json\n",
      "{\n",
      "  \"task\": \"Ir ao dentista\",\n",
      "  \"type\": \"generated\"\n",
      "}\n",
      "```\n"
     ]
    },
    {
     "name": "stderr",
     "output_type": "stream",
     "text": [
      " 45%|████▍     | 143/320 [05:18<04:53,  1.66s/it]"
     ]
    },
    {
     "name": "stdout",
     "output_type": "stream",
     "text": [
      "Resultado verbalizado: ```json\n",
      "{\n",
      "  \"task\": \"Fazer exames de imagem\",\n",
      "  \"type\": \"generated\"\n",
      "}\n",
      "```\n"
     ]
    },
    {
     "name": "stderr",
     "output_type": "stream",
     "text": [
      " 45%|████▌     | 144/320 [05:19<04:38,  1.58s/it]"
     ]
    },
    {
     "name": "stdout",
     "output_type": "stream",
     "text": [
      "Resultado verbalizado: ```json\n",
      "{\n",
      "  \"task\": \"Fazer bioimpedância\",\n",
      "  \"type\": \"generated\"\n",
      "}\n",
      "```\n"
     ]
    },
    {
     "name": "stderr",
     "output_type": "stream",
     "text": [
      " 45%|████▌     | 145/320 [05:22<05:32,  1.90s/it]"
     ]
    },
    {
     "name": "stdout",
     "output_type": "stream",
     "text": [
      "Resultado verbalizado: ```json\n",
      "{\n",
      "  \"task\": \"Consultar o oftalmologista\",\n",
      "  \"type\": \"generated\"\n",
      "}\n",
      "```\n"
     ]
    },
    {
     "name": "stderr",
     "output_type": "stream",
     "text": [
      " 46%|████▌     | 146/320 [05:25<06:07,  2.11s/it]"
     ]
    },
    {
     "name": "stdout",
     "output_type": "stream",
     "text": [
      "Resultado verbalizado: ```json\n",
      "{\n",
      "  \"task\": \"livre\",\n",
      "  \"type\": \"original\"\n",
      "}\n",
      "```\n"
     ]
    },
    {
     "name": "stderr",
     "output_type": "stream",
     "text": [
      " 46%|████▌     | 147/320 [05:26<05:39,  1.96s/it]"
     ]
    },
    {
     "name": "stdout",
     "output_type": "stream",
     "text": [
      "Resultado verbalizado: ```json\n",
      "{\n",
      "  \"task\": \"Consultar Viviane Nutri\",\n",
      "  \"type\": \"generated\"\n",
      "}\n",
      "```\n"
     ]
    },
    {
     "name": "stderr",
     "output_type": "stream",
     "text": [
      " 46%|████▋     | 148/320 [05:29<06:25,  2.24s/it]"
     ]
    },
    {
     "name": "stdout",
     "output_type": "stream",
     "text": [
      "Resultado verbalizado: ```json\n",
      "{\n",
      "  \"task\": \"Agendar consulta com dra. Vania\",\n",
      "  \"type\": \"generated\"\n",
      "}\n",
      "```\n"
     ]
    },
    {
     "name": "stderr",
     "output_type": "stream",
     "text": [
      " 47%|████▋     | 149/320 [05:31<05:47,  2.03s/it]"
     ]
    },
    {
     "name": "stdout",
     "output_type": "stream",
     "text": [
      "Resultado verbalizado: ```json\n",
      "{\n",
      "  \"task\": \"Fazer pilates\",\n",
      "  \"type\": \"generated\"\n",
      "}\n",
      "```\n"
     ]
    },
    {
     "name": "stderr",
     "output_type": "stream",
     "text": [
      " 47%|████▋     | 150/320 [05:32<05:15,  1.86s/it]"
     ]
    },
    {
     "name": "stdout",
     "output_type": "stream",
     "text": [
      "Resultado verbalizado: ```json\n",
      "{\n",
      "  \"task\": \"Consultar a nutricionista\",\n",
      "  \"type\": \"generated\"\n",
      "}\n",
      "```\n"
     ]
    },
    {
     "name": "stderr",
     "output_type": "stream",
     "text": [
      " 47%|████▋     | 151/320 [05:33<04:46,  1.69s/it]"
     ]
    },
    {
     "name": "stdout",
     "output_type": "stream",
     "text": [
      "Resultado verbalizado: ```json\n",
      "{\n",
      "  \"task\": \"Jogar Hogwarts Legacy\",\n",
      "  \"type\": \"generated\"\n",
      "}\n",
      "```\n"
     ]
    },
    {
     "name": "stderr",
     "output_type": "stream",
     "text": [
      " 48%|████▊     | 152/320 [05:35<04:41,  1.68s/it]"
     ]
    },
    {
     "name": "stdout",
     "output_type": "stream",
     "text": [
      "Resultado verbalizado: ```json\n",
      "{\n",
      "  \"task\": \"Jogar Minecraft: Legends\",\n",
      "  \"type\": \"generated\"\n",
      "}\n",
      "```\n"
     ]
    },
    {
     "name": "stderr",
     "output_type": "stream",
     "text": [
      " 48%|████▊     | 153/320 [05:36<04:22,  1.57s/it]"
     ]
    },
    {
     "name": "stdout",
     "output_type": "stream",
     "text": [
      "Resultado verbalizado: ```json\n",
      "{\n",
      "  \"task\": \"Jogar Diablo IV\",\n",
      "  \"type\": \"generated\"\n",
      "}\n",
      "```\n"
     ]
    },
    {
     "name": "stderr",
     "output_type": "stream",
     "text": [
      " 48%|████▊     | 154/320 [05:38<04:39,  1.69s/it]"
     ]
    },
    {
     "name": "stdout",
     "output_type": "stream",
     "text": [
      "Resultado verbalizado: ```json\n",
      "{\n",
      "  \"task\": \"Participar da GMTK Gamejam\",\n",
      "  \"type\": \"generated\"\n",
      "}\n",
      "```\n"
     ]
    },
    {
     "name": "stderr",
     "output_type": "stream",
     "text": [
      " 48%|████▊     | 155/320 [05:40<04:18,  1.57s/it]"
     ]
    },
    {
     "name": "stdout",
     "output_type": "stream",
     "text": [
      "Resultado verbalizado: ```json\n",
      "{\n",
      "  \"task\": \"Ir à academia\",\n",
      "  \"type\": \"generated\"\n",
      "}\n",
      "```\n"
     ]
    },
    {
     "name": "stderr",
     "output_type": "stream",
     "text": [
      " 49%|████▉     | 156/320 [05:41<04:11,  1.53s/it]"
     ]
    },
    {
     "name": "stdout",
     "output_type": "stream",
     "text": [
      "Resultado verbalizado: ```json\n",
      "{\n",
      "  \"task\": \"Jogar futevolei\",\n",
      "  \"type\": \"generated\"\n",
      "}\n",
      "```\n"
     ]
    },
    {
     "name": "stderr",
     "output_type": "stream",
     "text": [
      " 49%|████▉     | 157/320 [05:43<04:11,  1.54s/it]"
     ]
    },
    {
     "name": "stdout",
     "output_type": "stream",
     "text": [
      "Resultado verbalizado: ```json\n",
      "{\n",
      "  \"task\": \"Encontrar a academia ideal\",\n",
      "  \"type\": \"generated\"\n",
      "}\n",
      "```\n"
     ]
    },
    {
     "name": "stderr",
     "output_type": "stream",
     "text": [
      " 49%|████▉     | 158/320 [05:44<04:04,  1.51s/it]"
     ]
    },
    {
     "name": "stdout",
     "output_type": "stream",
     "text": [
      "Resultado verbalizado: ```json\n",
      "{\n",
      "  \"task\": \"Fazer muay thai\",\n",
      "  \"type\": \"generated\"\n",
      "}\n",
      "```\n"
     ]
    },
    {
     "name": "stderr",
     "output_type": "stream",
     "text": [
      " 50%|████▉     | 159/320 [05:45<03:49,  1.42s/it]"
     ]
    },
    {
     "name": "stdout",
     "output_type": "stream",
     "text": [
      "Resultado verbalizado: ```json\n",
      "{\n",
      "  \"task\": \"Jogar basquete na PUC\",\n",
      "  \"type\": \"generated\"\n",
      "}\n",
      "```\n"
     ]
    },
    {
     "name": "stderr",
     "output_type": "stream",
     "text": [
      " 50%|█████     | 160/320 [05:47<03:45,  1.41s/it]"
     ]
    },
    {
     "name": "stdout",
     "output_type": "stream",
     "text": [
      "Resultado verbalizado: ```json\n",
      "{\n",
      "  \"task\": \"Fazer spinning\",\n",
      "  \"type\": \"generated\"\n",
      "}\n",
      "```\n"
     ]
    },
    {
     "name": "stderr",
     "output_type": "stream",
     "text": [
      " 50%|█████     | 161/320 [05:48<04:02,  1.53s/it]"
     ]
    },
    {
     "name": "stdout",
     "output_type": "stream",
     "text": [
      "Resultado verbalizado: ```json\n",
      "{\n",
      "  \"task\": \"Fazer a aula da Liane\",\n",
      "  \"type\": \"generated\"\n",
      "}\n",
      "```\n"
     ]
    },
    {
     "name": "stderr",
     "output_type": "stream",
     "text": [
      " 51%|█████     | 162/320 [05:50<04:01,  1.53s/it]"
     ]
    },
    {
     "name": "stdout",
     "output_type": "stream",
     "text": [
      "Resultado verbalizado: ```json\n",
      "{\n",
      "  \"task\": \"Ir à casa do Felipe\",\n",
      "  \"type\": \"generated\"\n",
      "}\n",
      "```\n"
     ]
    },
    {
     "name": "stderr",
     "output_type": "stream",
     "text": [
      " 51%|█████     | 163/320 [05:52<04:07,  1.58s/it]"
     ]
    },
    {
     "name": "stdout",
     "output_type": "stream",
     "text": [
      "Resultado verbalizado: ```json\n",
      "{\n",
      "  \"task\": \"Comemorar o aniversário da minha irmã\",\n",
      "  \"type\": \"generated\"\n",
      "}\n",
      "```\n"
     ]
    },
    {
     "name": "stderr",
     "output_type": "stream",
     "text": [
      " 51%|█████▏    | 164/320 [05:54<04:25,  1.70s/it]"
     ]
    },
    {
     "name": "stdout",
     "output_type": "stream",
     "text": [
      "Resultado verbalizado: ```json\n",
      "{\n",
      "  \"task\": \"Comemorar o aniversário da minha mãe\",\n",
      "  \"type\": \"generated\"\n",
      "}\n",
      "```\n"
     ]
    },
    {
     "name": "stderr",
     "output_type": "stream",
     "text": [
      " 52%|█████▏    | 165/320 [05:55<04:11,  1.62s/it]"
     ]
    },
    {
     "name": "stdout",
     "output_type": "stream",
     "text": [
      "Resultado verbalizado: ```json\n",
      "{\n",
      "  \"task\": \"Comprar PS Plus\",\n",
      "  \"type\": \"generated\"\n",
      "}\n",
      "```\n"
     ]
    },
    {
     "name": "stderr",
     "output_type": "stream",
     "text": [
      " 52%|█████▏    | 166/320 [05:57<04:34,  1.78s/it]"
     ]
    },
    {
     "name": "stdout",
     "output_type": "stream",
     "text": [
      "Resultado verbalizado: ```json\n",
      "{\n",
      "  \"task\": \"Comemorar meu aniversário\",\n",
      "  \"type\": \"generated\"\n",
      "}\n",
      "```\n"
     ]
    },
    {
     "name": "stderr",
     "output_type": "stream",
     "text": [
      " 52%|█████▏    | 167/320 [05:59<04:30,  1.77s/it]"
     ]
    },
    {
     "name": "stdout",
     "output_type": "stream",
     "text": [
      "Resultado verbalizado: ```json\n",
      "{\n",
      "  \"task\": \"Comemorar o aniversário do meu pai\",\n",
      "  \"type\": \"generated\"\n",
      "}\n",
      "```\n"
     ]
    },
    {
     "name": "stderr",
     "output_type": "stream",
     "text": [
      " 52%|█████▎    | 168/320 [06:05<07:25,  2.93s/it]"
     ]
    },
    {
     "name": "stdout",
     "output_type": "stream",
     "text": [
      "Resultado verbalizado: ```json\n",
      "{\n",
      "  \"task\": \"lembrar marie\",\n",
      "  \"type\": \"original\"\n",
      "}\n",
      "```\n"
     ]
    },
    {
     "name": "stderr",
     "output_type": "stream",
     "text": [
      " 53%|█████▎    | 169/320 [06:06<06:32,  2.60s/it]"
     ]
    },
    {
     "name": "stdout",
     "output_type": "stream",
     "text": [
      "Resultado verbalizado: ```json\n",
      "{\n",
      "  \"task\": \"Participar da formatura CSA\",\n",
      "  \"type\": \"generated\"\n",
      "}\n",
      "```\n"
     ]
    },
    {
     "name": "stderr",
     "output_type": "stream",
     "text": [
      " 53%|█████▎    | 170/320 [06:08<05:54,  2.36s/it]"
     ]
    },
    {
     "name": "stdout",
     "output_type": "stream",
     "text": [
      "Resultado verbalizado: ```json\n",
      "{\n",
      "  \"task\": \"help!\",\n",
      "  \"type\": \"original\"\n",
      "}\n",
      "```\n"
     ]
    },
    {
     "name": "stderr",
     "output_type": "stream",
     "text": [
      " 53%|█████▎    | 171/320 [06:10<05:10,  2.09s/it]"
     ]
    },
    {
     "name": "stdout",
     "output_type": "stream",
     "text": [
      "Resultado verbalizado: ```json\n",
      "{\n",
      "  \"task\": \"Assistir aula\",\n",
      "  \"type\": \"generated\"\n",
      "}\n",
      "```\n"
     ]
    },
    {
     "name": "stderr",
     "output_type": "stream",
     "text": [
      " 54%|█████▍    | 172/320 [06:11<04:42,  1.91s/it]"
     ]
    },
    {
     "name": "stdout",
     "output_type": "stream",
     "text": [
      "Resultado verbalizado: ```json\n",
      "{\n",
      "  \"task\": \"Ir ao baile da gaiola\",\n",
      "  \"type\": \"generated\"\n",
      "}\n",
      "```\n"
     ]
    },
    {
     "name": "stderr",
     "output_type": "stream",
     "text": [
      " 54%|█████▍    | 173/320 [06:13<04:31,  1.85s/it]"
     ]
    },
    {
     "name": "stdout",
     "output_type": "stream",
     "text": [
      "Resultado verbalizado: ```json\n",
      "{\n",
      "  \"task\": \"amazonia\",\n",
      "  \"type\": \"original\"\n",
      "}\n",
      "```\n"
     ]
    },
    {
     "name": "stderr",
     "output_type": "stream",
     "text": [
      " 54%|█████▍    | 174/320 [06:14<04:11,  1.73s/it]"
     ]
    },
    {
     "name": "stdout",
     "output_type": "stream",
     "text": [
      "Resultado verbalizado: ```json\n",
      "{\n",
      "  \"task\": \"Comemorar o aniversário de namoro\",\n",
      "  \"type\": \"generated\"\n",
      "}\n",
      "```\n"
     ]
    },
    {
     "name": "stderr",
     "output_type": "stream",
     "text": [
      " 55%|█████▍    | 175/320 [06:18<05:13,  2.16s/it]"
     ]
    },
    {
     "name": "stdout",
     "output_type": "stream",
     "text": [
      "Resultado verbalizado: ```json\n",
      "{\n",
      "  \"task\": \"estudar calculo e ficha 2\",\n",
      "  \"type\": \"original\"\n",
      "}\n",
      "```\n"
     ]
    },
    {
     "name": "stderr",
     "output_type": "stream",
     "text": [
      " 55%|█████▌    | 176/320 [06:19<04:48,  2.00s/it]"
     ]
    },
    {
     "name": "stdout",
     "output_type": "stream",
     "text": [
      "Resultado verbalizado: ```json\n",
      "{\n",
      "  \"task\": \"Jogar a nova season de Rocket League\",\n",
      "  \"type\": \"generated\"\n",
      "}\n",
      "```\n"
     ]
    },
    {
     "name": "stderr",
     "output_type": "stream",
     "text": [
      " 55%|█████▌    | 177/320 [06:20<04:16,  1.79s/it]"
     ]
    },
    {
     "name": "stdout",
     "output_type": "stream",
     "text": [
      "Resultado verbalizado: ```json\n",
      "{\n",
      "  \"task\": \"Fazer compras na Black Friday\",\n",
      "  \"type\": \"generated\"\n",
      "}\n",
      "```\n"
     ]
    },
    {
     "name": "stderr",
     "output_type": "stream",
     "text": [
      " 56%|█████▌    | 178/320 [06:22<04:00,  1.69s/it]"
     ]
    },
    {
     "name": "stdout",
     "output_type": "stream",
     "text": [
      "Resultado verbalizado: ```json\n",
      "{\n",
      "  \"task\": \"Fazer Facetime com Alessandra\",\n",
      "  \"type\": \"generated\"\n",
      "}\n",
      "```\n"
     ]
    },
    {
     "name": "stderr",
     "output_type": "stream",
     "text": [
      " 56%|█████▌    | 179/320 [06:23<03:48,  1.62s/it]"
     ]
    },
    {
     "name": "stdout",
     "output_type": "stream",
     "text": [
      "Resultado verbalizado: ```json\n",
      "{\n",
      "  \"task\": \"Estudar\",\n",
      "  \"type\": \"generated\"\n",
      "}\n",
      "```\n"
     ]
    },
    {
     "name": "stderr",
     "output_type": "stream",
     "text": [
      " 56%|█████▋    | 180/320 [06:33<09:06,  3.90s/it]"
     ]
    },
    {
     "name": "stdout",
     "output_type": "stream",
     "text": [
      "Resultado verbalizado: ```json\n",
      "{\n",
      "  \"task\": \"arrumar\",\n",
      "  \"type\": \"original\"\n",
      "}\n",
      "```\n"
     ]
    },
    {
     "name": "stderr",
     "output_type": "stream",
     "text": [
      " 57%|█████▋    | 181/320 [06:34<07:26,  3.21s/it]"
     ]
    },
    {
     "name": "stdout",
     "output_type": "stream",
     "text": [
      "Resultado verbalizado: ```json\n",
      "{\n",
      "  \"task\": \"Ir ao Barra Shopping\",\n",
      "  \"type\": \"generated\"\n",
      "}\n",
      "```\n"
     ]
    },
    {
     "name": "stderr",
     "output_type": "stream",
     "text": [
      " 57%|█████▋    | 182/320 [06:36<06:20,  2.75s/it]"
     ]
    },
    {
     "name": "stdout",
     "output_type": "stream",
     "text": [
      "Resultado verbalizado: ```json\n",
      "{\n",
      "  \"task\": \"Pagar a fatura de março do Nubank\",\n",
      "  \"type\": \"generated\"\n",
      "}\n",
      "```\n"
     ]
    },
    {
     "name": "stderr",
     "output_type": "stream",
     "text": [
      " 57%|█████▋    | 183/320 [06:38<05:29,  2.41s/it]"
     ]
    },
    {
     "name": "stdout",
     "output_type": "stream",
     "text": [
      "Resultado verbalizado: ```json\n",
      "{\n",
      "  \"task\": \"Almoçar\",\n",
      "  \"type\": \"generated\"\n",
      "}\n",
      "```\n"
     ]
    },
    {
     "name": "stderr",
     "output_type": "stream",
     "text": [
      " 57%|█████▊    | 184/320 [06:39<05:04,  2.24s/it]"
     ]
    },
    {
     "name": "stdout",
     "output_type": "stream",
     "text": [
      "Resultado verbalizado: ```json\n",
      "{\n",
      "  \"task\": \"Aproveitar o feriado\",\n",
      "  \"type\": \"generated\"\n",
      "}\n",
      "```\n"
     ]
    },
    {
     "name": "stderr",
     "output_type": "stream",
     "text": [
      " 58%|█████▊    | 185/320 [06:41<04:26,  1.97s/it]"
     ]
    },
    {
     "name": "stdout",
     "output_type": "stream",
     "text": [
      "Resultado verbalizado: ```json\n",
      "{\n",
      "  \"task\": \"Ir a Itaipava\",\n",
      "  \"type\": \"generated\"\n",
      "}\n",
      "```\n"
     ]
    },
    {
     "name": "stderr",
     "output_type": "stream",
     "text": [
      " 58%|█████▊    | 186/320 [06:42<04:06,  1.84s/it]"
     ]
    },
    {
     "name": "stdout",
     "output_type": "stream",
     "text": [
      "Resultado verbalizado: ```json\n",
      "{\n",
      "  \"task\": \"Comemorar o aniversário\",\n",
      "  \"type\": \"generated\"\n",
      "}\n",
      "```\n"
     ]
    },
    {
     "name": "stderr",
     "output_type": "stream",
     "text": [
      " 58%|█████▊    | 187/320 [06:44<03:43,  1.68s/it]"
     ]
    },
    {
     "name": "stdout",
     "output_type": "stream",
     "text": [
      "Resultado verbalizado: ```json\n",
      "{\n",
      "  \"task\": \"Manter o foco\",\n",
      "  \"type\": \"generated\"\n",
      "}\n",
      "```\n"
     ]
    },
    {
     "name": "stderr",
     "output_type": "stream",
     "text": [
      " 59%|█████▉    | 188/320 [06:45<03:44,  1.70s/it]"
     ]
    },
    {
     "name": "stdout",
     "output_type": "stream",
     "text": [
      "Resultado verbalizado: ```json\n",
      "{\n",
      "  \"task\": \"primo rico\",\n",
      "  \"type\": \"original\"\n",
      "}\n",
      "```\n"
     ]
    },
    {
     "name": "stderr",
     "output_type": "stream",
     "text": [
      " 59%|█████▉    | 189/320 [06:47<03:32,  1.62s/it]"
     ]
    },
    {
     "name": "stdout",
     "output_type": "stream",
     "text": [
      "Resultado verbalizado: ```json\n",
      "{\n",
      "  \"task\": \"Devolver compras da Zara\",\n",
      "  \"type\": \"generated\"\n",
      "}\n",
      "```\n"
     ]
    },
    {
     "name": "stderr",
     "output_type": "stream",
     "text": [
      " 59%|█████▉    | 190/320 [06:49<03:36,  1.67s/it]"
     ]
    },
    {
     "name": "stdout",
     "output_type": "stream",
     "text": [
      "Resultado verbalizado: ```json\n",
      "{\n",
      "  \"task\": \"Fazer a reunião de cronograma do acessório\",\n",
      "  \"type\": \"generated\"\n",
      "}\n",
      "```\n"
     ]
    },
    {
     "name": "stderr",
     "output_type": "stream",
     "text": [
      " 60%|█████▉    | 191/320 [06:50<03:44,  1.74s/it]"
     ]
    },
    {
     "name": "stdout",
     "output_type": "stream",
     "text": [
      "Resultado verbalizado: ```json\n",
      "{\n",
      "  \"task\": \"Fazer corte masculino\",\n",
      "  \"type\": \"generated\"\n",
      "}\n",
      "```\n"
     ]
    },
    {
     "name": "stderr",
     "output_type": "stream",
     "text": [
      " 60%|██████    | 192/320 [06:53<04:02,  1.89s/it]"
     ]
    },
    {
     "name": "stdout",
     "output_type": "stream",
     "text": [
      "Resultado verbalizado: ```json\n",
      "{\n",
      "  \"task\": \"Gravar a comunicação intercriar\",\n",
      "  \"type\": \"generated\"\n",
      "}\n",
      "```\n"
     ]
    },
    {
     "name": "stderr",
     "output_type": "stream",
     "text": [
      " 60%|██████    | 193/320 [06:55<04:26,  2.09s/it]"
     ]
    },
    {
     "name": "stdout",
     "output_type": "stream",
     "text": [
      "Resultado verbalizado: ```json\n",
      "{\n",
      "  \"task\": \"Aproveitar a oportunidade guelt com Felipe Khouri Gameleira\",\n",
      "  \"type\": \"generated\"\n",
      "}\n",
      "```\n"
     ]
    },
    {
     "name": "stderr",
     "output_type": "stream",
     "text": [
      " 61%|██████    | 194/320 [06:57<04:23,  2.09s/it]"
     ]
    },
    {
     "name": "stdout",
     "output_type": "stream",
     "text": [
      "Resultado verbalizado: ```json\n",
      "{\n",
      "  \"task\": \"Fazer o desafio de crash da wwdc-ss\",\n",
      "  \"type\": \"generated\"\n",
      "}\n",
      "```\n"
     ]
    },
    {
     "name": "stderr",
     "output_type": "stream",
     "text": [
      " 61%|██████    | 195/320 [06:59<04:14,  2.04s/it]"
     ]
    },
    {
     "name": "stdout",
     "output_type": "stream",
     "text": [
      "Resultado verbalizado: ```json\n",
      "{\n",
      "  \"task\": \"aldeia\",\n",
      "  \"type\": \"original\"\n",
      "}\n",
      "```\n"
     ]
    },
    {
     "name": "stderr",
     "output_type": "stream",
     "text": [
      " 61%|██████▏   | 196/320 [07:01<03:53,  1.89s/it]"
     ]
    },
    {
     "name": "stdout",
     "output_type": "stream",
     "text": [
      "Resultado verbalizado: ```json\n",
      "{\n",
      "  \"task\": \"Ligar para o checkpoint acessório\",\n",
      "  \"type\": \"generated\"\n",
      "}\n",
      "```\n"
     ]
    },
    {
     "name": "stderr",
     "output_type": "stream",
     "text": [
      " 62%|██████▏   | 197/320 [07:03<03:55,  1.92s/it]"
     ]
    },
    {
     "name": "stdout",
     "output_type": "stream",
     "text": [
      "Resultado verbalizado: ```json\n",
      "{\n",
      "  \"task\": \"Ir para a aldeia no sábado de feriado\",\n",
      "  \"type\": \"generated\"\n",
      "}\n",
      "```\n"
     ]
    },
    {
     "name": "stderr",
     "output_type": "stream",
     "text": [
      " 62%|██████▏   | 198/320 [07:05<03:49,  1.88s/it]"
     ]
    },
    {
     "name": "stdout",
     "output_type": "stream",
     "text": [
      "Resultado verbalizado: ```json\n",
      "{\n",
      "  \"task\": \"Ir à aldeia no sábado\",\n",
      "  \"type\": \"generated\"\n",
      "}\n",
      "```\n"
     ]
    },
    {
     "name": "stderr",
     "output_type": "stream",
     "text": [
      " 62%|██████▏   | 199/320 [07:06<03:36,  1.79s/it]"
     ]
    },
    {
     "name": "stdout",
     "output_type": "stream",
     "text": [
      "Resultado verbalizado: ```json\n",
      "{\n",
      "  \"task\": \"Gravar acessório\",\n",
      "  \"type\": \"generated\"\n",
      "}\n",
      "```\n"
     ]
    },
    {
     "name": "stderr",
     "output_type": "stream",
     "text": [
      " 62%|██████▎   | 200/320 [07:08<03:21,  1.68s/it]"
     ]
    },
    {
     "name": "stdout",
     "output_type": "stream",
     "text": [
      "Resultado verbalizado: ```json\n",
      "{\n",
      "  \"task\": \"fone\",\n",
      "  \"type\": \"original\"\n",
      "}\n",
      "```\n"
     ]
    },
    {
     "name": "stderr",
     "output_type": "stream",
     "text": [
      " 63%|██████▎   | 201/320 [07:10<03:44,  1.89s/it]"
     ]
    },
    {
     "name": "stdout",
     "output_type": "stream",
     "text": [
      "Resultado verbalizado: ```json\n",
      "{\n",
      "  \"task\": \"quadcast\",\n",
      "  \"type\": \"original\"\n",
      "}\n",
      "```\n"
     ]
    },
    {
     "name": "stderr",
     "output_type": "stream",
     "text": [
      " 63%|██████▎   | 202/320 [07:12<03:32,  1.80s/it]"
     ]
    },
    {
     "name": "stdout",
     "output_type": "stream",
     "text": [
      "Resultado verbalizado: ```json\n",
      "{\n",
      "  \"task\": \"Entregar o gmkt jam\",\n",
      "  \"type\": \"generated\"\n",
      "}\n",
      "```\n"
     ]
    },
    {
     "name": "stderr",
     "output_type": "stream",
     "text": [
      " 63%|██████▎   | 203/320 [07:13<03:28,  1.78s/it]"
     ]
    },
    {
     "name": "stdout",
     "output_type": "stream",
     "text": [
      "Resultado verbalizado: ```json\n",
      "{\n",
      "  \"task\": \"Fazer reunião com Outsystems\",\n",
      "  \"type\": \"generated\"\n",
      "}\n",
      "```\n"
     ]
    },
    {
     "name": "stderr",
     "output_type": "stream",
     "text": [
      " 64%|██████▍   | 204/320 [07:16<04:15,  2.20s/it]"
     ]
    },
    {
     "name": "stdout",
     "output_type": "stream",
     "text": [
      "Resultado verbalizado: ```json\n",
      "{\n",
      "  \"task\": \"Fazer o kick off do ensino da WWDC\",\n",
      "  \"type\": \"generated\"\n",
      "}\n",
      "```\n"
     ]
    },
    {
     "name": "stderr",
     "output_type": "stream",
     "text": [
      " 64%|██████▍   | 205/320 [07:18<03:56,  2.06s/it]"
     ]
    },
    {
     "name": "stdout",
     "output_type": "stream",
     "text": [
      "Resultado verbalizado: ```json\n",
      "{\n",
      "  \"task\": \"Dar os primeiros passos para ensinar na WWDC\",\n",
      "  \"type\": \"generated\"\n",
      "}\n",
      "```\n"
     ]
    },
    {
     "name": "stderr",
     "output_type": "stream",
     "text": [
      " 64%|██████▍   | 206/320 [07:20<03:35,  1.89s/it]"
     ]
    },
    {
     "name": "stdout",
     "output_type": "stream",
     "text": [
      "Resultado verbalizado: ```json\n",
      "{\n",
      "  \"task\": \"Fazer a avaliação imobiliária\",\n",
      "  \"type\": \"generated\"\n",
      "}\n",
      "```\n"
     ]
    },
    {
     "name": "stderr",
     "output_type": "stream",
     "text": [
      " 65%|██████▍   | 207/320 [07:21<03:20,  1.78s/it]"
     ]
    },
    {
     "name": "stdout",
     "output_type": "stream",
     "text": [
      "Resultado verbalizado: ```json\n",
      "{\n",
      "  \"task\": \"Fazer o ilearning da WWDC\",\n",
      "  \"type\": \"generated\"\n",
      "}\n",
      "```\n"
     ]
    },
    {
     "name": "stderr",
     "output_type": "stream",
     "text": [
      " 65%|██████▌   | 208/320 [07:23<03:17,  1.76s/it]"
     ]
    },
    {
     "name": "stdout",
     "output_type": "stream",
     "text": [
      "Resultado verbalizado: ```json\n",
      "{\n",
      "  \"task\": \"Fazer mentoria inversu (felipe gameleira)\",\n",
      "  \"type\": \"generated\"\n",
      "}\n",
      "```\n"
     ]
    },
    {
     "name": "stderr",
     "output_type": "stream",
     "text": [
      " 65%|██████▌   | 209/320 [07:30<06:14,  3.38s/it]"
     ]
    },
    {
     "name": "stdout",
     "output_type": "stream",
     "text": [
      "Resultado verbalizado: ```json\n",
      "{\n",
      "  \"task\": \"Descomprimir\",\n",
      "  \"type\": \"generated\"\n",
      "}\n",
      "```\n"
     ]
    },
    {
     "name": "stderr",
     "output_type": "stream",
     "text": [
      " 66%|██████▌   | 210/320 [07:32<05:14,  2.86s/it]"
     ]
    },
    {
     "name": "stdout",
     "output_type": "stream",
     "text": [
      "Resultado verbalizado: ```json\n",
      "{\n",
      "  \"task\": \"Fazer mentoria Inversu com Felipe Gameleira\",\n",
      "  \"type\": \"generated\"\n",
      "}\n",
      "```\n"
     ]
    },
    {
     "name": "stderr",
     "output_type": "stream",
     "text": [
      " 66%|██████▌   | 211/320 [07:34<04:41,  2.58s/it]"
     ]
    },
    {
     "name": "stdout",
     "output_type": "stream",
     "text": [
      "Resultado verbalizado: ```json\n",
      "{\n",
      "  \"task\": \"Fazer uma reserva no Yusha\",\n",
      "  \"type\": \"generated\"\n",
      "}\n",
      "```\n"
     ]
    },
    {
     "name": "stderr",
     "output_type": "stream",
     "text": [
      " 66%|██████▋   | 212/320 [07:35<04:06,  2.29s/it]"
     ]
    },
    {
     "name": "stdout",
     "output_type": "stream",
     "text": [
      "Resultado verbalizado: ```json\n",
      "{\n",
      "  \"task\": \"Entrevistar Felipe para o estágio\",\n",
      "  \"type\": \"generated\"\n",
      "}\n",
      "```\n"
     ]
    },
    {
     "name": "stderr",
     "output_type": "stream",
     "text": [
      " 67%|██████▋   | 213/320 [07:37<03:48,  2.14s/it]"
     ]
    },
    {
     "name": "stdout",
     "output_type": "stream",
     "text": [
      "Resultado verbalizado: ```json\n",
      "{\n",
      "  \"task\": \"Entrevistar Felipe para estágio de desenvolvedor\",\n",
      "  \"type\": \"generated\"\n",
      "}\n",
      "```\n"
     ]
    },
    {
     "name": "stderr",
     "output_type": "stream",
     "text": [
      " 67%|██████▋   | 214/320 [07:42<05:31,  3.12s/it]"
     ]
    },
    {
     "name": "stdout",
     "output_type": "stream",
     "text": [
      "Resultado verbalizado: ```json\n",
      "{\n",
      "  \"task\": \"Estudar cálculo\",\n",
      "  \"type\": \"generated\"\n",
      "}\n",
      "```\n"
     ]
    },
    {
     "name": "stderr",
     "output_type": "stream",
     "text": [
      " 67%|██████▋   | 215/320 [07:44<04:50,  2.77s/it]"
     ]
    },
    {
     "name": "stdout",
     "output_type": "stream",
     "text": [
      "Resultado verbalizado: ```json\n",
      "{\n",
      "  \"task\": \"Ir para o AI Salon no Rio de Janeiro\",\n",
      "  \"type\": \"generated\"\n",
      "}\n",
      "```\n"
     ]
    },
    {
     "name": "stderr",
     "output_type": "stream",
     "text": [
      " 68%|██████▊   | 216/320 [07:45<03:54,  2.26s/it]"
     ]
    },
    {
     "name": "stdout",
     "output_type": "stream",
     "text": [
      "Resultado verbalizado: ```json\n",
      "{\n",
      "  \"task\": \"ia &\",\n",
      "  \"type\": \"original\"\n",
      "}\n",
      "```\n"
     ]
    },
    {
     "name": "stderr",
     "output_type": "stream",
     "text": [
      " 68%|██████▊   | 217/320 [07:50<05:10,  3.01s/it]"
     ]
    },
    {
     "name": "stdout",
     "output_type": "stream",
     "text": [
      "Resultado verbalizado: ```json\n",
      "{\n",
      "  \"task\": \"ai salon rio de janeiro #4\",\n",
      "  \"type\": \"original\"\n",
      "}\n",
      "```\n"
     ]
    },
    {
     "name": "stderr",
     "output_type": "stream",
     "text": [
      " 68%|██████▊   | 218/320 [07:52<04:31,  2.66s/it]"
     ]
    },
    {
     "name": "stdout",
     "output_type": "stream",
     "text": [
      "Resultado verbalizado: ```json\n",
      "{\n",
      "  \"task\": \"Ajustar a matrícula\",\n",
      "  \"type\": \"generated\"\n",
      "}\n",
      "```\n"
     ]
    },
    {
     "name": "stderr",
     "output_type": "stream",
     "text": [
      " 68%|██████▊   | 219/320 [07:54<03:54,  2.32s/it]"
     ]
    },
    {
     "name": "stdout",
     "output_type": "stream",
     "text": [
      "Resultado verbalizado: ```json\n",
      "{\n",
      "  \"task\": \"Fazer ajuste de matrícula II\",\n",
      "  \"type\": \"generated\"\n",
      "}\n",
      "```\n"
     ]
    },
    {
     "name": "stderr",
     "output_type": "stream",
     "text": [
      " 69%|██████▉   | 220/320 [07:55<03:38,  2.18s/it]"
     ]
    },
    {
     "name": "stdout",
     "output_type": "stream",
     "text": [
      "Resultado verbalizado: ```json\n",
      "{\n",
      "  \"task\": \"Voltar às aulas\",\n",
      "  \"type\": \"generated\"\n",
      "}\n",
      "```\n"
     ]
    },
    {
     "name": "stderr",
     "output_type": "stream",
     "text": [
      " 69%|██████▉   | 221/320 [07:57<03:25,  2.08s/it]"
     ]
    },
    {
     "name": "stdout",
     "output_type": "stream",
     "text": [
      "Resultado verbalizado: ```json\n",
      "{\n",
      "  \"task\": \"Estudar programação modular para INF1301\",\n",
      "  \"type\": \"generated\"\n",
      "}\n",
      "```\n"
     ]
    },
    {
     "name": "stderr",
     "output_type": "stream",
     "text": [
      " 69%|██████▉   | 222/320 [07:59<03:07,  1.92s/it]"
     ]
    },
    {
     "name": "stdout",
     "output_type": "stream",
     "text": [
      "Resultado verbalizado: ```json\n",
      "{\n",
      "  \"task\": \"Estudar inf1018 - software basico\",\n",
      "  \"type\": \"generated\"\n",
      "}\n",
      "```\n"
     ]
    },
    {
     "name": "stderr",
     "output_type": "stream",
     "text": [
      " 70%|██████▉   | 223/320 [08:01<03:00,  1.86s/it]"
     ]
    },
    {
     "name": "stdout",
     "output_type": "stream",
     "text": [
      "Resultado verbalizado: ```json\n",
      "{\n",
      "  \"task\": \"Estudar mat1260 - algebra linear 1\",\n",
      "  \"type\": \"generated\"\n",
      "}\n",
      "```\n"
     ]
    },
    {
     "name": "stderr",
     "output_type": "stream",
     "text": [
      " 70%|███████   | 224/320 [08:02<02:49,  1.76s/it]"
     ]
    },
    {
     "name": "stdout",
     "output_type": "stream",
     "text": [
      "Resultado verbalizado: ```json\n",
      "{\n",
      "  \"task\": \"de para\",\n",
      "  \"type\": \"original\"\n",
      "}\n",
      "```\n"
     ]
    },
    {
     "name": "stderr",
     "output_type": "stream",
     "text": [
      " 70%|███████   | 225/320 [08:04<02:44,  1.73s/it]"
     ]
    },
    {
     "name": "stdout",
     "output_type": "stream",
     "text": [
      "Resultado verbalizado: ```json\n",
      "{\n",
      "  \"task\": \"Fazer t1 de álgebra\",\n",
      "  \"type\": \"generated\"\n",
      "}\n",
      "```\n"
     ]
    },
    {
     "name": "stderr",
     "output_type": "stream",
     "text": [
      " 71%|███████   | 226/320 [08:05<02:39,  1.70s/it]"
     ]
    },
    {
     "name": "stdout",
     "output_type": "stream",
     "text": [
      "Resultado verbalizado: ```json\n",
      "{\n",
      "  \"task\": \"Fazer a monitoria de INF1018\",\n",
      "  \"type\": \"generated\"\n",
      "}\n",
      "```\n"
     ]
    },
    {
     "name": "stderr",
     "output_type": "stream",
     "text": [
      " 71%|███████   | 227/320 [08:08<02:50,  1.83s/it]"
     ]
    },
    {
     "name": "stdout",
     "output_type": "stream",
     "text": [
      "Resultado verbalizado: ```json\n",
      "{\n",
      "  \"task\": \"Simular a matrícula\",\n",
      "  \"type\": \"generated\"\n",
      "}\n",
      "```\n"
     ]
    },
    {
     "name": "stderr",
     "output_type": "stream",
     "text": [
      " 71%|███████▏  | 228/320 [08:09<02:40,  1.74s/it]"
     ]
    },
    {
     "name": "stdout",
     "output_type": "stream",
     "text": [
      "Resultado verbalizado: ```json\n",
      "{\n",
      "  \"task\": \"Fazer a matrícula na PUC\",\n",
      "  \"type\": \"generated\"\n",
      "}\n",
      "```\n"
     ]
    },
    {
     "name": "stderr",
     "output_type": "stream",
     "text": [
      " 72%|███████▏  | 229/320 [08:14<03:56,  2.60s/it]"
     ]
    },
    {
     "name": "stdout",
     "output_type": "stream",
     "text": [
      "Resultado verbalizado: ```json\n",
      "{\n",
      "  \"task\": \"Estudar inf1636 - programação orientada a objetos\",\n",
      "  \"type\": \"generated\"\n",
      "}\n",
      "```\n"
     ]
    },
    {
     "name": "stderr",
     "output_type": "stream",
     "text": [
      " 72%|███████▏  | 230/320 [08:16<03:39,  2.44s/it]"
     ]
    },
    {
     "name": "stdout",
     "output_type": "stream",
     "text": [
      "Resultado verbalizado: ```json\n",
      "{\n",
      "  \"task\": \"Estudar inf1027 - teste e medicao de software\",\n",
      "  \"type\": \"generated\"\n",
      "}\n",
      "```\n"
     ]
    },
    {
     "name": "stderr",
     "output_type": "stream",
     "text": [
      " 72%|███████▏  | 231/320 [08:17<03:18,  2.23s/it]"
     ]
    },
    {
     "name": "stdout",
     "output_type": "stream",
     "text": [
      "Resultado verbalizado: ```json\n",
      "{\n",
      "  \"task\": \"Estudar inf1383 - bancos de dados\",\n",
      "  \"type\": \"generated\"\n",
      "}\n",
      "```\n"
     ]
    },
    {
     "name": "stderr",
     "output_type": "stream",
     "text": [
      " 72%|███████▎  | 232/320 [08:20<03:22,  2.30s/it]"
     ]
    },
    {
     "name": "stdout",
     "output_type": "stream",
     "text": [
      "Resultado verbalizado: ```json\n",
      "{\n",
      "  \"task\": \"Estudar inf1316 - sistemas operacionais\",\n",
      "  \"type\": \"generated\"\n",
      "}\n",
      "```\n"
     ]
    },
    {
     "name": "stderr",
     "output_type": "stream",
     "text": [
      " 73%|███████▎  | 233/320 [08:22<03:10,  2.19s/it]"
     ]
    },
    {
     "name": "stdout",
     "output_type": "stream",
     "text": [
      "Resultado verbalizado: ```json\n",
      "{\n",
      "  \"task\": \"Estudar inf1403 - interacao humano computador\",\n",
      "  \"type\": \"generated\"\n",
      "}\n",
      "```\n"
     ]
    },
    {
     "name": "stderr",
     "output_type": "stream",
     "text": [
      " 73%|███████▎  | 234/320 [08:25<03:25,  2.39s/it]"
     ]
    },
    {
     "name": "stdout",
     "output_type": "stream",
     "text": [
      "Resultado verbalizado: ```json\n",
      "{\n",
      "  \"task\": \"Verificar o de/para regimental\",\n",
      "  \"type\": \"generated\"\n",
      "}\n",
      "```\n"
     ]
    },
    {
     "name": "stderr",
     "output_type": "stream",
     "text": [
      " 73%|███████▎  | 235/320 [08:26<03:05,  2.18s/it]"
     ]
    },
    {
     "name": "stdout",
     "output_type": "stream",
     "text": [
      "Resultado verbalizado: ```json\n",
      "{\n",
      "  \"task\": \"Fazer o laboratório 1 de Sistemas Operacionais\",\n",
      "  \"type\": \"generated\"\n",
      "}\n",
      "```\n"
     ]
    },
    {
     "name": "stderr",
     "output_type": "stream",
     "text": [
      " 74%|███████▍  | 236/320 [08:29<03:06,  2.22s/it]"
     ]
    },
    {
     "name": "stdout",
     "output_type": "stream",
     "text": [
      "Resultado verbalizado: ```json\n",
      "{\n",
      "  \"task\": \"Tirar férias na PUC\",\n",
      "  \"type\": \"generated\"\n",
      "}\n",
      "```\n"
     ]
    },
    {
     "name": "stderr",
     "output_type": "stream",
     "text": [
      " 74%|███████▍  | 237/320 [08:30<02:51,  2.06s/it]"
     ]
    },
    {
     "name": "stdout",
     "output_type": "stream",
     "text": [
      "Resultado verbalizado: ```json\n",
      "{\n",
      "  \"task\": \"Estudar inf1032 - ciência de dados\",\n",
      "  \"type\": \"generated\"\n",
      "}\n",
      "```\n"
     ]
    },
    {
     "name": "stderr",
     "output_type": "stream",
     "text": [
      " 74%|███████▍  | 238/320 [08:33<02:51,  2.10s/it]"
     ]
    },
    {
     "name": "stdout",
     "output_type": "stream",
     "text": [
      "Resultado verbalizado: ```json\n",
      "{\n",
      "  \"task\": \"Estudar analisadores léxicos e sintáticos para INF1022.\",\n",
      "  \"type\": \"generated\"\n",
      "}\n",
      "```\n"
     ]
    },
    {
     "name": "stderr",
     "output_type": "stream",
     "text": [
      " 75%|███████▍  | 239/320 [08:35<02:53,  2.15s/it]"
     ]
    },
    {
     "name": "stdout",
     "output_type": "stream",
     "text": [
      "Resultado verbalizado: ```json\n",
      "{\n",
      "  \"task\": \"Estudar inf1640 - redes de computadores\",\n",
      "  \"type\": \"generated\"\n",
      "}\n",
      "```\n"
     ]
    },
    {
     "name": "stderr",
     "output_type": "stream",
     "text": [
      " 75%|███████▌  | 240/320 [08:37<02:42,  2.03s/it]"
     ]
    },
    {
     "name": "stdout",
     "output_type": "stream",
     "text": [
      "Resultado verbalizado: ```json\n",
      "{\n",
      "  \"task\": \"Estudar inf1631 - estruturas discretas\",\n",
      "  \"type\": \"generated\"\n",
      "}\n",
      "```\n"
     ]
    },
    {
     "name": "stderr",
     "output_type": "stream",
     "text": [
      " 75%|███████▌  | 241/320 [08:38<02:33,  1.94s/it]"
     ]
    },
    {
     "name": "stdout",
     "output_type": "stream",
     "text": [
      "Resultado verbalizado: ```json\n",
      "{\n",
      "  \"task\": \"Estudar cre1141 - etica crista\",\n",
      "  \"type\": \"generated\"\n",
      "}\n",
      "```\n"
     ]
    },
    {
     "name": "stderr",
     "output_type": "stream",
     "text": [
      " 76%|███████▌  | 242/320 [08:44<04:03,  3.12s/it]"
     ]
    },
    {
     "name": "stdout",
     "output_type": "stream",
     "text": [
      "Resultado verbalizado: ```json\n",
      "{\n",
      "  \"task\": \"Fazer o projeto e a construção de sistemas para INF1028.\",\n",
      "  \"type\": \"generated\"\n",
      "}\n",
      "```\n"
     ]
    },
    {
     "name": "stderr",
     "output_type": "stream",
     "text": [
      " 76%|███████▌  | 243/320 [08:48<04:17,  3.34s/it]"
     ]
    },
    {
     "name": "stdout",
     "output_type": "stream",
     "text": [
      "Resultado verbalizado: ```json\n",
      "{\n",
      "  \"task\": \"Desenvolver jogos para INF1307\",\n",
      "  \"type\": \"generated\"\n",
      "}\n",
      "```\n"
     ]
    },
    {
     "name": "stderr",
     "output_type": "stream",
     "text": [
      " 76%|███████▋  | 244/320 [08:50<03:42,  2.92s/it]"
     ]
    },
    {
     "name": "stdout",
     "output_type": "stream",
     "text": [
      "Resultado verbalizado: ```json\n",
      "{\n",
      "  \"task\": \"Estudar inf1771 - inteligencia artificial\",\n",
      "  \"type\": \"generated\"\n",
      "}\n",
      "```\n"
     ]
    },
    {
     "name": "stderr",
     "output_type": "stream",
     "text": [
      " 77%|███████▋  | 245/320 [08:53<03:49,  3.05s/it]"
     ]
    },
    {
     "name": "stdout",
     "output_type": "stream",
     "text": [
      "Resultado verbalizado: ```json\n",
      "{\n",
      "  \"task\": \"Estudar inf1010 - estruturas de dados avançadas\",\n",
      "  \"type\": \"generated\"\n",
      "}\n",
      "```\n"
     ]
    },
    {
     "name": "stderr",
     "output_type": "stream",
     "text": [
      " 77%|███████▋  | 246/320 [08:55<03:21,  2.73s/it]"
     ]
    },
    {
     "name": "stdout",
     "output_type": "stream",
     "text": [
      "Resultado verbalizado: ```json\n",
      "{\n",
      "  \"task\": \"Estudar inf1338 - large language models\",\n",
      "  \"type\": \"generated\"\n",
      "}\n",
      "```\n"
     ]
    },
    {
     "name": "stderr",
     "output_type": "stream",
     "text": [
      " 77%|███████▋  | 247/320 [08:57<02:59,  2.46s/it]"
     ]
    },
    {
     "name": "stdout",
     "output_type": "stream",
     "text": [
      "Resultado verbalizado: ```json\n",
      "{\n",
      "  \"task\": \"Estudar análise de algoritmos para INF1721\",\n",
      "  \"type\": \"generated\"\n",
      "}\n",
      "```\n"
     ]
    },
    {
     "name": "stderr",
     "output_type": "stream",
     "text": [
      " 78%|███████▊  | 248/320 [08:59<02:46,  2.31s/it]"
     ]
    },
    {
     "name": "stdout",
     "output_type": "stream",
     "text": [
      "Resultado verbalizado: ```json\n",
      "{\n",
      "  \"task\": \"Estudar inf1036 - probabilidade computacional\",\n",
      "  \"type\": \"generated\"\n",
      "}\n",
      "```\n"
     ]
    },
    {
     "name": "stderr",
     "output_type": "stream",
     "text": [
      " 78%|███████▊  | 249/320 [09:01<02:31,  2.14s/it]"
     ]
    },
    {
     "name": "stdout",
     "output_type": "stream",
     "text": [
      "Resultado verbalizado: ```json\n",
      "{\n",
      "  \"task\": \"Programar sistemas reativos para INF1350\",\n",
      "  \"type\": \"generated\"\n",
      "}\n",
      "```\n"
     ]
    },
    {
     "name": "stderr",
     "output_type": "stream",
     "text": [
      " 78%|███████▊  | 250/320 [09:03<02:29,  2.14s/it]"
     ]
    },
    {
     "name": "stdout",
     "output_type": "stream",
     "text": [
      "Resultado verbalizado: ```json\n",
      "{\n",
      "  \"task\": \"Assistir à aula expositiva de inf1920\",\n",
      "  \"type\": \"generated\"\n",
      "}\n",
      "```\n"
     ]
    },
    {
     "name": "stderr",
     "output_type": "stream",
     "text": [
      " 78%|███████▊  | 251/320 [09:05<02:15,  1.96s/it]"
     ]
    },
    {
     "name": "stdout",
     "output_type": "stream",
     "text": [
      "Resultado verbalizado: ```json\n",
      "{\n",
      "  \"task\": \"Conversar sobre o TCC com Felipe Gameleira\",\n",
      "  \"type\": \"generated\"\n",
      "}\n",
      "```\n"
     ]
    },
    {
     "name": "stderr",
     "output_type": "stream",
     "text": [
      " 79%|███████▉  | 252/320 [09:06<02:05,  1.84s/it]"
     ]
    },
    {
     "name": "stdout",
     "output_type": "stream",
     "text": [
      "Resultado verbalizado: ```json\n",
      "{\n",
      "  \"task\": \"Estudar mat4162 - cálculo ii\",\n",
      "  \"type\": \"generated\"\n",
      "}\n",
      "```\n"
     ]
    },
    {
     "name": "stderr",
     "output_type": "stream",
     "text": [
      " 79%|███████▉  | 253/320 [09:09<02:25,  2.17s/it]"
     ]
    },
    {
     "name": "stdout",
     "output_type": "stream",
     "text": [
      "Resultado verbalizado: ```json\n",
      "{\n",
      "  \"task\": \"Desenvolver uma startup com inteligência artificial para inf1314\",\n",
      "  \"type\": \"generated\"\n",
      "}\n",
      "```\n"
     ]
    },
    {
     "name": "stderr",
     "output_type": "stream",
     "text": [
      " 79%|███████▉  | 254/320 [09:11<02:10,  1.98s/it]"
     ]
    },
    {
     "name": "stdout",
     "output_type": "stream",
     "text": [
      "Resultado verbalizado: ```json\n",
      "{\n",
      "  \"task\": \"Fazer reunião do TCC\",\n",
      "  \"type\": \"generated\"\n",
      "}\n",
      "```\n"
     ]
    },
    {
     "name": "stderr",
     "output_type": "stream",
     "text": [
      " 80%|███████▉  | 255/320 [09:12<01:57,  1.82s/it]"
     ]
    },
    {
     "name": "stdout",
     "output_type": "stream",
     "text": [
      "Resultado verbalizado: ```json\n",
      "{\n",
      "  \"task\": \"Fazer teste de Cálculo II\",\n",
      "  \"type\": \"generated\"\n",
      "}\n",
      "```\n"
     ]
    },
    {
     "name": "stderr",
     "output_type": "stream",
     "text": [
      " 80%|████████  | 256/320 [09:14<02:01,  1.89s/it]"
     ]
    },
    {
     "name": "stdout",
     "output_type": "stream",
     "text": [
      "Resultado verbalizado: ```json\n",
      "{\n",
      "  \"task\": \"Encontrar devs no pilotis\",\n",
      "  \"type\": \"generated\"\n",
      "}\n",
      "```\n"
     ]
    },
    {
     "name": "stderr",
     "output_type": "stream",
     "text": [
      " 80%|████████  | 257/320 [09:16<01:52,  1.78s/it]"
     ]
    },
    {
     "name": "stdout",
     "output_type": "stream",
     "text": [
      "Resultado verbalizado: ```json\n",
      "{\n",
      "  \"task\": \"Comprar ingresso para Harry Potter\",\n",
      "  \"type\": \"generated\"\n",
      "}\n",
      "```\n"
     ]
    },
    {
     "name": "stderr",
     "output_type": "stream",
     "text": [
      " 81%|████████  | 258/320 [09:17<01:51,  1.80s/it]"
     ]
    },
    {
     "name": "stdout",
     "output_type": "stream",
     "text": [
      "Resultado verbalizado: ```json\n",
      "{\n",
      "  \"task\": \"Comemorar o aniversário da Gabi\",\n",
      "  \"type\": \"generated\"\n",
      "}\n",
      "```\n"
     ]
    },
    {
     "name": "stderr",
     "output_type": "stream",
     "text": [
      " 81%|████████  | 259/320 [09:19<01:47,  1.76s/it]"
     ]
    },
    {
     "name": "stdout",
     "output_type": "stream",
     "text": [
      "Resultado verbalizado: ```json\n",
      "{\n",
      "  \"task\": \"nover sofia k\",\n",
      "  \"type\": \"original\"\n",
      "}\n",
      "```\n"
     ]
    },
    {
     "name": "stderr",
     "output_type": "stream",
     "text": [
      " 81%|████████▏ | 260/320 [09:21<01:47,  1.79s/it]"
     ]
    },
    {
     "name": "stdout",
     "output_type": "stream",
     "text": [
      "Resultado verbalizado: ```json\n",
      "{\n",
      "  \"task\": \"thor\",\n",
      "  \"type\": \"original\"\n",
      "}\n",
      "```\n"
     ]
    },
    {
     "name": "stderr",
     "output_type": "stream",
     "text": [
      " 82%|████████▏ | 261/320 [09:23<01:44,  1.77s/it]"
     ]
    },
    {
     "name": "stdout",
     "output_type": "stream",
     "text": [
      "Resultado verbalizado: ```json\n",
      "{\n",
      "  \"task\": \"Assistir The Avengers\",\n",
      "  \"type\": \"generated\"\n",
      "}\n",
      "```\n"
     ]
    },
    {
     "name": "stderr",
     "output_type": "stream",
     "text": [
      " 82%|████████▏ | 262/320 [09:25<01:50,  1.90s/it]"
     ]
    },
    {
     "name": "stdout",
     "output_type": "stream",
     "text": [
      "Resultado verbalizado: ```json\n",
      "{\n",
      "  \"task\": \"Encontrar Rafael Portugal\",\n",
      "  \"type\": \"generated\"\n",
      "}\n",
      "```\n"
     ]
    },
    {
     "name": "stderr",
     "output_type": "stream",
     "text": [
      " 82%|████████▏ | 263/320 [09:26<01:42,  1.79s/it]"
     ]
    },
    {
     "name": "stdout",
     "output_type": "stream",
     "text": [
      "Resultado verbalizado: ```json\n",
      "{\n",
      "  \"task\": \"Comemorar o aniversário da Giovanna Lopes\",\n",
      "  \"type\": \"generated\"\n",
      "}\n",
      "```\n"
     ]
    },
    {
     "name": "stderr",
     "output_type": "stream",
     "text": [
      " 82%|████████▎ | 264/320 [09:33<02:54,  3.12s/it]"
     ]
    },
    {
     "name": "stdout",
     "output_type": "stream",
     "text": [
      "Resultado verbalizado: ```json\n",
      "{\n",
      "  \"task\": \"Fazer o churrasclerigos\",\n",
      "  \"type\": \"generated\"\n",
      "}\n",
      "```\n"
     ]
    },
    {
     "name": "stderr",
     "output_type": "stream",
     "text": [
      " 83%|████████▎ | 265/320 [09:35<02:34,  2.81s/it]"
     ]
    },
    {
     "name": "stdout",
     "output_type": "stream",
     "text": [
      "Resultado verbalizado: ```json\n",
      "{\n",
      "  \"task\": \"Almoçar com a vovó\",\n",
      "  \"type\": \"generated\"\n",
      "}\n",
      "```\n"
     ]
    },
    {
     "name": "stderr",
     "output_type": "stream",
     "text": [
      " 83%|████████▎ | 266/320 [09:37<02:15,  2.52s/it]"
     ]
    },
    {
     "name": "stdout",
     "output_type": "stream",
     "text": [
      "Resultado verbalizado: ```json\n",
      "{\n",
      "  \"task\": \"Aproveitar a santa sexta\",\n",
      "  \"type\": \"generated\"\n",
      "}\n",
      "```\n"
     ]
    },
    {
     "name": "stderr",
     "output_type": "stream",
     "text": [
      " 83%|████████▎ | 267/320 [09:38<01:56,  2.19s/it]"
     ]
    },
    {
     "name": "stdout",
     "output_type": "stream",
     "text": [
      "Resultado verbalizado: ```json\n",
      "{\n",
      "  \"task\": \"Comemorar o aniversário da Gi Fortes\",\n",
      "  \"type\": \"generated\"\n",
      "}\n",
      "```\n"
     ]
    },
    {
     "name": "stderr",
     "output_type": "stream",
     "text": [
      " 84%|████████▍ | 268/320 [09:40<01:45,  2.03s/it]"
     ]
    },
    {
     "name": "stdout",
     "output_type": "stream",
     "text": [
      "Resultado verbalizado: ```json\n",
      "{\n",
      "  \"task\": \"Comemorar o casamento\",\n",
      "  \"type\": \"generated\"\n",
      "}\n",
      "```\n"
     ]
    },
    {
     "name": "stderr",
     "output_type": "stream",
     "text": [
      " 84%|████████▍ | 269/320 [09:41<01:32,  1.82s/it]"
     ]
    },
    {
     "name": "stdout",
     "output_type": "stream",
     "text": [
      "Resultado verbalizado: ```json\n",
      "{\n",
      "  \"task\": \"Ir ao Rock in Rio\",\n",
      "  \"type\": \"generated\"\n",
      "}\n",
      "```\n"
     ]
    },
    {
     "name": "stderr",
     "output_type": "stream",
     "text": [
      " 84%|████████▍ | 270/320 [09:43<01:26,  1.74s/it]"
     ]
    },
    {
     "name": "stdout",
     "output_type": "stream",
     "text": [
      "Resultado verbalizado: ```json\n",
      "{\n",
      "  \"task\": \"Comemorar o aniversário da Amanda\",\n",
      "  \"type\": \"generated\"\n",
      "}\n",
      "```\n"
     ]
    },
    {
     "name": "stderr",
     "output_type": "stream",
     "text": [
      " 85%|████████▍ | 271/320 [09:44<01:21,  1.66s/it]"
     ]
    },
    {
     "name": "stdout",
     "output_type": "stream",
     "text": [
      "Resultado verbalizado: ```json\n",
      "{\n",
      "  \"task\": \"Comemorar o aniversário da Luana Maia\",\n",
      "  \"type\": \"generated\"\n",
      "}\n",
      "```\n"
     ]
    },
    {
     "name": "stderr",
     "output_type": "stream",
     "text": [
      " 85%|████████▌ | 272/320 [09:46<01:24,  1.77s/it]"
     ]
    },
    {
     "name": "stdout",
     "output_type": "stream",
     "text": [
      "Resultado verbalizado: ```json\n",
      "{\n",
      "  \"task\": \"Comemorar o aniversário da Lara\",\n",
      "  \"type\": \"generated\"\n",
      "}\n",
      "```\n"
     ]
    },
    {
     "name": "stderr",
     "output_type": "stream",
     "text": [
      " 85%|████████▌ | 273/320 [09:48<01:19,  1.68s/it]"
     ]
    },
    {
     "name": "stdout",
     "output_type": "stream",
     "text": [
      "Resultado verbalizado: ```json\n",
      "{\n",
      "  \"task\": \"Comemorar o aniversário da mãe\",\n",
      "  \"type\": \"generated\"\n",
      "}\n",
      "```\n"
     ]
    },
    {
     "name": "stderr",
     "output_type": "stream",
     "text": [
      " 86%|████████▌ | 274/320 [09:49<01:15,  1.65s/it]"
     ]
    },
    {
     "name": "stdout",
     "output_type": "stream",
     "text": [
      "Resultado verbalizado: ```json\n",
      "{\n",
      "  \"task\": \"Ir ao ballet com Marina\",\n",
      "  \"type\": \"generated\"\n",
      "}\n",
      "```\n"
     ]
    },
    {
     "name": "stderr",
     "output_type": "stream",
     "text": [
      " 86%|████████▌ | 275/320 [09:51<01:18,  1.74s/it]"
     ]
    },
    {
     "name": "stdout",
     "output_type": "stream",
     "text": [
      "Resultado verbalizado: ```json\n",
      "{\n",
      "  \"task\": \"Assistir ao show do Harry Styles - Love on Tour no Rio de Janeiro\",\n",
      "  \"type\": \"generated\"\n",
      "}\n",
      "```\n"
     ]
    },
    {
     "name": "stderr",
     "output_type": "stream",
     "text": [
      " 86%|████████▋ | 276/320 [09:53<01:13,  1.67s/it]"
     ]
    },
    {
     "name": "stdout",
     "output_type": "stream",
     "text": [
      "Resultado verbalizado: ```json\n",
      "{\n",
      "  \"task\": \"Pular o big jump\",\n",
      "  \"type\": \"generated\"\n",
      "}\n",
      "```\n"
     ]
    },
    {
     "name": "stderr",
     "output_type": "stream",
     "text": [
      " 87%|████████▋ | 277/320 [09:54<01:11,  1.67s/it]"
     ]
    },
    {
     "name": "stdout",
     "output_type": "stream",
     "text": [
      "Resultado verbalizado: ```json\n",
      "{\n",
      "  \"task\": \"Fazer resenha com Felipe\",\n",
      "  \"type\": \"generated\"\n",
      "}\n",
      "```\n"
     ]
    },
    {
     "name": "stderr",
     "output_type": "stream",
     "text": [
      " 87%|████████▋ | 278/320 [09:56<01:08,  1.63s/it]"
     ]
    },
    {
     "name": "stdout",
     "output_type": "stream",
     "text": [
      "Resultado verbalizado: ```json\n",
      "{\n",
      "  \"task\": \"Comemorar o aniversário da Isabella\",\n",
      "  \"type\": \"generated\"\n",
      "}\n",
      "```\n"
     ]
    },
    {
     "name": "stderr",
     "output_type": "stream",
     "text": [
      " 87%|████████▋ | 279/320 [09:58<01:15,  1.85s/it]"
     ]
    },
    {
     "name": "stdout",
     "output_type": "stream",
     "text": [
      "Resultado verbalizado: ```json\n",
      "{\n",
      "  \"task\": \"Comemorar o aniversário\",\n",
      "  \"type\": \"generated\"\n",
      "}\n",
      "```\n"
     ]
    },
    {
     "name": "stderr",
     "output_type": "stream",
     "text": [
      " 88%|████████▊ | 280/320 [10:00<01:09,  1.75s/it]"
     ]
    },
    {
     "name": "stdout",
     "output_type": "stream",
     "text": [
      "Resultado verbalizado: ```json\n",
      "{\n",
      "  \"task\": \"Comemorar o aniversário do Felipe\",\n",
      "  \"type\": \"generated\"\n",
      "}\n",
      "```\n"
     ]
    },
    {
     "name": "stderr",
     "output_type": "stream",
     "text": [
      " 88%|████████▊ | 281/320 [10:01<01:04,  1.65s/it]"
     ]
    },
    {
     "name": "stdout",
     "output_type": "stream",
     "text": [
      "Resultado verbalizado: ```json\n",
      "{\n",
      "  \"task\": \"Comemorar o aniversário da Laura\",\n",
      "  \"type\": \"generated\"\n",
      "}\n",
      "```\n"
     ]
    },
    {
     "name": "stderr",
     "output_type": "stream",
     "text": [
      " 88%|████████▊ | 282/320 [10:03<01:04,  1.69s/it]"
     ]
    },
    {
     "name": "stdout",
     "output_type": "stream",
     "text": [
      "Resultado verbalizado: ```json\n",
      "{\n",
      "  \"task\": \"Comemorar o aniversário da Aninha\",\n",
      "  \"type\": \"generated\"\n",
      "}\n",
      "```\n"
     ]
    },
    {
     "name": "stderr",
     "output_type": "stream",
     "text": [
      " 88%|████████▊ | 283/320 [10:04<00:59,  1.61s/it]"
     ]
    },
    {
     "name": "stdout",
     "output_type": "stream",
     "text": [
      "Resultado verbalizado: ```json\n",
      "{\n",
      "  \"task\": \"Comemorar o aniversário do Rapha\",\n",
      "  \"type\": \"generated\"\n",
      "}\n",
      "```\n"
     ]
    },
    {
     "name": "stderr",
     "output_type": "stream",
     "text": [
      " 89%|████████▉ | 284/320 [10:06<00:58,  1.61s/it]"
     ]
    },
    {
     "name": "stdout",
     "output_type": "stream",
     "text": [
      "Resultado verbalizado: ```json\n",
      "{\n",
      "  \"task\": \"Aproveitar o Prime Day\",\n",
      "  \"type\": \"generated\"\n",
      "}\n",
      "```\n"
     ]
    },
    {
     "name": "stderr",
     "output_type": "stream",
     "text": [
      " 89%|████████▉ | 285/320 [10:08<01:01,  1.74s/it]"
     ]
    },
    {
     "name": "stdout",
     "output_type": "stream",
     "text": [
      "Resultado verbalizado: ```json\n",
      "{\n",
      "  \"task\": \"Comemorar o niver da Julia\",\n",
      "  \"type\": \"generated\"\n",
      "}\n",
      "```\n"
     ]
    },
    {
     "name": "stderr",
     "output_type": "stream",
     "text": [
      " 89%|████████▉ | 286/320 [10:09<00:56,  1.65s/it]"
     ]
    },
    {
     "name": "stdout",
     "output_type": "stream",
     "text": [
      "Resultado verbalizado: ```json\n",
      "{\n",
      "  \"task\": \"Comemorar o aniversário da Carol Benchimol\",\n",
      "  \"type\": \"generated\"\n",
      "}\n",
      "```\n"
     ]
    },
    {
     "name": "stderr",
     "output_type": "stream",
     "text": [
      " 90%|████████▉ | 287/320 [10:15<01:28,  2.69s/it]"
     ]
    },
    {
     "name": "stdout",
     "output_type": "stream",
     "text": [
      "Resultado verbalizado: ```json\n",
      "{\n",
      "  \"task\": \"Participar da festa da Duda Castro\",\n",
      "  \"type\": \"generated\"\n",
      "}\n",
      "```\n"
     ]
    },
    {
     "name": "stderr",
     "output_type": "stream",
     "text": [
      " 90%|█████████ | 288/320 [10:16<01:14,  2.34s/it]"
     ]
    },
    {
     "name": "stdout",
     "output_type": "stream",
     "text": [
      "Resultado verbalizado: ```json\n",
      "{\n",
      "  \"task\": \"Fazer churrasco com Marcos\",\n",
      "  \"type\": \"generated\"\n",
      "}\n",
      "```\n"
     ]
    },
    {
     "name": "stderr",
     "output_type": "stream",
     "text": [
      " 90%|█████████ | 289/320 [10:18<01:06,  2.13s/it]"
     ]
    },
    {
     "name": "stdout",
     "output_type": "stream",
     "text": [
      "Resultado verbalizado: ```json\n",
      "{\n",
      "  \"task\": \"festa re\",\n",
      "  \"type\": \"original\"\n",
      "}\n",
      "```\n"
     ]
    },
    {
     "name": "stderr",
     "output_type": "stream",
     "text": [
      " 91%|█████████ | 290/320 [10:20<01:01,  2.05s/it]"
     ]
    },
    {
     "name": "stdout",
     "output_type": "stream",
     "text": [
      "Resultado verbalizado: ```json\n",
      "{\n",
      "  \"task\": \"Organizar a viagem do secretário\",\n",
      "  \"type\": \"generated\"\n",
      "}\n",
      "```\n"
     ]
    },
    {
     "name": "stderr",
     "output_type": "stream",
     "text": [
      " 91%|█████████ | 291/320 [10:21<00:57,  1.98s/it]"
     ]
    },
    {
     "name": "stdout",
     "output_type": "stream",
     "text": [
      "Resultado verbalizado: ```json\n",
      "{\n",
      "  \"task\": \"Assistir aos Barbixas\",\n",
      "  \"type\": \"generated\"\n",
      "}\n",
      "```\n"
     ]
    },
    {
     "name": "stderr",
     "output_type": "stream",
     "text": [
      " 91%|█████████▏| 292/320 [10:23<00:50,  1.82s/it]"
     ]
    },
    {
     "name": "stdout",
     "output_type": "stream",
     "text": [
      "Resultado verbalizado: ```json\n",
      "{\n",
      "  \"task\": \"Jogar RPG com Goulart\",\n",
      "  \"type\": \"generated\"\n",
      "}\n",
      "```\n"
     ]
    },
    {
     "name": "stderr",
     "output_type": "stream",
     "text": [
      " 92%|█████████▏| 293/320 [10:25<00:48,  1.79s/it]"
     ]
    },
    {
     "name": "stdout",
     "output_type": "stream",
     "text": [
      "Resultado verbalizado: ```json\n",
      "{\n",
      "  \"task\": \"Ir ao churrasco do Caio\",\n",
      "  \"type\": \"generated\"\n",
      "}\n",
      "```\n"
     ]
    },
    {
     "name": "stderr",
     "output_type": "stream",
     "text": [
      " 92%|█████████▏| 294/320 [10:26<00:44,  1.69s/it]"
     ]
    },
    {
     "name": "stdout",
     "output_type": "stream",
     "text": [
      "Resultado verbalizado: ```json\n",
      "{\n",
      "  \"task\": \"Comemorar o aniversário da Millena\",\n",
      "  \"type\": \"generated\"\n",
      "}\n",
      "```\n"
     ]
    },
    {
     "name": "stderr",
     "output_type": "stream",
     "text": [
      " 92%|█████████▏| 295/320 [10:28<00:41,  1.64s/it]"
     ]
    },
    {
     "name": "stdout",
     "output_type": "stream",
     "text": [
      "Resultado verbalizado: ```json\n",
      "{\n",
      "  \"task\": \"Comemorar o aniversário da Lu\",\n",
      "  \"type\": \"generated\"\n",
      "}\n",
      "```\n"
     ]
    },
    {
     "name": "stderr",
     "output_type": "stream",
     "text": [
      " 92%|█████████▎| 296/320 [10:29<00:39,  1.64s/it]"
     ]
    },
    {
     "name": "stdout",
     "output_type": "stream",
     "text": [
      "Resultado verbalizado: ```json\n",
      "{\n",
      "  \"task\": \"Comemorar o aniversário da Caroli\",\n",
      "  \"type\": \"generated\"\n",
      "}\n",
      "```\n"
     ]
    },
    {
     "name": "stderr",
     "output_type": "stream",
     "text": [
      " 93%|█████████▎| 297/320 [10:32<00:43,  1.89s/it]"
     ]
    },
    {
     "name": "stdout",
     "output_type": "stream",
     "text": [
      "Resultado verbalizado: ```json\n",
      "{\n",
      "  \"task\": \"Comemorar o aniversário da Beatriz\",\n",
      "  \"type\": \"generated\"\n",
      "}\n",
      "```\n"
     ]
    },
    {
     "name": "stderr",
     "output_type": "stream",
     "text": [
      " 93%|█████████▎| 298/320 [10:33<00:40,  1.84s/it]"
     ]
    },
    {
     "name": "stdout",
     "output_type": "stream",
     "text": [
      "Resultado verbalizado: ```json\n",
      "{\n",
      "  \"task\": \"Participar da formatura da Renata\",\n",
      "  \"type\": \"generated\"\n",
      "}\n",
      "```\n"
     ]
    },
    {
     "name": "stderr",
     "output_type": "stream",
     "text": [
      " 93%|█████████▎| 299/320 [10:35<00:36,  1.74s/it]"
     ]
    },
    {
     "name": "stdout",
     "output_type": "stream",
     "text": [
      "Resultado verbalizado: ```json\n",
      "{\n",
      "  \"task\": \"Comemorar o aniversário do Lucca\",\n",
      "  \"type\": \"generated\"\n",
      "}\n",
      "```\n"
     ]
    },
    {
     "name": "stderr",
     "output_type": "stream",
     "text": [
      " 94%|█████████▍| 300/320 [10:36<00:33,  1.69s/it]"
     ]
    },
    {
     "name": "stdout",
     "output_type": "stream",
     "text": [
      "Resultado verbalizado: ```json\n",
      "{\n",
      "  \"task\": \"Comemorar o niver do Caio\",\n",
      "  \"type\": \"generated\"\n",
      "}\n",
      "```\n"
     ]
    },
    {
     "name": "stderr",
     "output_type": "stream",
     "text": [
      " 94%|█████████▍| 301/320 [10:39<00:34,  1.83s/it]"
     ]
    },
    {
     "name": "stdout",
     "output_type": "stream",
     "text": [
      "Resultado verbalizado: ```json\n",
      "{\n",
      "  \"task\": \"Fazer churrasco\",\n",
      "  \"type\": \"generated\"\n",
      "}\n",
      "```\n"
     ]
    },
    {
     "name": "stderr",
     "output_type": "stream",
     "text": [
      " 94%|█████████▍| 302/320 [10:41<00:33,  1.86s/it]"
     ]
    },
    {
     "name": "stdout",
     "output_type": "stream",
     "text": [
      "Resultado verbalizado: ```json\n",
      "{\n",
      "  \"task\": \"Trabalhar na Apple Developer Academy\",\n",
      "  \"type\": \"generated\"\n",
      "}\n",
      "```\n"
     ]
    },
    {
     "name": "stderr",
     "output_type": "stream",
     "text": [
      " 95%|█████████▍| 303/320 [10:42<00:30,  1.81s/it]"
     ]
    },
    {
     "name": "stdout",
     "output_type": "stream",
     "text": [
      "Resultado verbalizado: ```json\n",
      "{\n",
      "  \"task\": \"Animar ideias com Keynote\",\n",
      "  \"type\": \"generated\"\n",
      "}\n",
      "```\n"
     ]
    },
    {
     "name": "stderr",
     "output_type": "stream",
     "text": [
      " 95%|█████████▌| 304/320 [10:47<00:41,  2.61s/it]"
     ]
    },
    {
     "name": "stdout",
     "output_type": "stream",
     "text": [
      "Resultado verbalizado: ```json\n",
      "{\n",
      "  \"task\": \"programar cena\",\n",
      "  \"type\": \"original\"\n",
      "}\n",
      "```\n"
     ]
    },
    {
     "name": "stderr",
     "output_type": "stream",
     "text": [
      " 95%|█████████▌| 305/320 [10:48<00:33,  2.22s/it]"
     ]
    },
    {
     "name": "stdout",
     "output_type": "stream",
     "text": [
      "Resultado verbalizado: ```json\n",
      "{\n",
      "  \"task\": \"Fazer o lab\",\n",
      "  \"type\": \"generated\"\n",
      "}\n",
      "```\n"
     ]
    },
    {
     "name": "stderr",
     "output_type": "stream",
     "text": [
      " 96%|█████████▌| 306/320 [10:50<00:28,  2.05s/it]"
     ]
    },
    {
     "name": "stdout",
     "output_type": "stream",
     "text": [
      "Resultado verbalizado: ```json\n",
      "{\n",
      "  \"task\": \"apple\",\n",
      "  \"type\": \"original\"\n",
      "}\n",
      "```\n"
     ]
    },
    {
     "name": "stderr",
     "output_type": "stream",
     "text": [
      " 96%|█████████▌| 307/320 [10:51<00:25,  1.99s/it]"
     ]
    },
    {
     "name": "stdout",
     "output_type": "stream",
     "text": [
      "Resultado verbalizado: ```json\n",
      "{\n",
      "  \"task\": \"Fazer a academy\",\n",
      "  \"type\": \"generated\"\n",
      "}\n",
      "```\n"
     ]
    },
    {
     "name": "stderr",
     "output_type": "stream",
     "text": [
      " 96%|█████████▋| 308/320 [10:54<00:24,  2.01s/it]"
     ]
    },
    {
     "name": "stdout",
     "output_type": "stream",
     "text": [
      "Resultado verbalizado: ```json\n",
      "{\n",
      "  \"task\": \"Acompanhar a WWDC\",\n",
      "  \"type\": \"generated\"\n",
      "}\n",
      "```\n"
     ]
    },
    {
     "name": "stderr",
     "output_type": "stream",
     "text": [
      " 97%|█████████▋| 309/320 [10:55<00:20,  1.88s/it]"
     ]
    },
    {
     "name": "stdout",
     "output_type": "stream",
     "text": [
      "Resultado verbalizado: ```json\n",
      "{\n",
      "  \"task\": \"Fazer reunião com Nick e tio\",\n",
      "  \"type\": \"generated\"\n",
      "}\n",
      "```\n"
     ]
    },
    {
     "name": "stderr",
     "output_type": "stream",
     "text": [
      " 97%|█████████▋| 310/320 [10:57<00:18,  1.86s/it]"
     ]
    },
    {
     "name": "stdout",
     "output_type": "stream",
     "text": [
      "Resultado verbalizado: ```json\n",
      "{\n",
      "  \"task\": \"Fazer o churrasco da academy\",\n",
      "  \"type\": \"generated\"\n",
      "}\n",
      "```\n"
     ]
    },
    {
     "name": "stderr",
     "output_type": "stream",
     "text": [
      " 97%|█████████▋| 311/320 [10:58<00:15,  1.75s/it]"
     ]
    },
    {
     "name": "stdout",
     "output_type": "stream",
     "text": [
      "Resultado verbalizado: ```json\n",
      "{\n",
      "  \"task\": \"Trabalhar no i9\",\n",
      "  \"type\": \"generated\"\n",
      "}\n",
      "```\n"
     ]
    },
    {
     "name": "stderr",
     "output_type": "stream",
     "text": [
      " 98%|█████████▊| 312/320 [11:02<00:18,  2.25s/it]"
     ]
    },
    {
     "name": "stdout",
     "output_type": "stream",
     "text": [
      "Resultado verbalizado: ```json\n",
      "{\n",
      "  \"task\": \"Desenvolver a i9 cultura\",\n",
      "  \"type\": \"generated\"\n",
      "}\n",
      "```\n"
     ]
    },
    {
     "name": "stderr",
     "output_type": "stream",
     "text": [
      " 98%|█████████▊| 313/320 [11:04<00:15,  2.26s/it]"
     ]
    },
    {
     "name": "stdout",
     "output_type": "stream",
     "text": [
      "Resultado verbalizado: ```json\n",
      "{\n",
      "  \"task\": \"Fazer reunião sobre o programa Atlas\",\n",
      "  \"type\": \"generated\"\n",
      "}\n",
      "```\n"
     ]
    },
    {
     "name": "stderr",
     "output_type": "stream",
     "text": [
      " 98%|█████████▊| 314/320 [11:06<00:13,  2.27s/it]"
     ]
    },
    {
     "name": "stdout",
     "output_type": "stream",
     "text": [
      "Resultado verbalizado: ```json\n",
      "{\n",
      "  \"task\": \"ecoa\",\n",
      "  \"type\": \"original\"\n",
      "}\n",
      "```\n"
     ]
    },
    {
     "name": "stderr",
     "output_type": "stream",
     "text": [
      " 98%|█████████▊| 315/320 [11:08<00:10,  2.08s/it]"
     ]
    },
    {
     "name": "stdout",
     "output_type": "stream",
     "text": [
      "Resultado verbalizado: ```json\n",
      "{\n",
      "  \"task\": \"Conversar com Bruno\",\n",
      "  \"type\": \"generated\"\n",
      "}\n",
      "```\n"
     ]
    },
    {
     "name": "stderr",
     "output_type": "stream",
     "text": [
      " 99%|█████████▉| 316/320 [11:10<00:08,  2.01s/it]"
     ]
    },
    {
     "name": "stdout",
     "output_type": "stream",
     "text": [
      "Resultado verbalizado: ```json\n",
      "{\n",
      "  \"task\": \"Fazer a reunião play time com Goulart.\",\n",
      "  \"type\": \"generated\"\n",
      "}\n",
      "```\n"
     ]
    },
    {
     "name": "stderr",
     "output_type": "stream",
     "text": [
      " 99%|█████████▉| 317/320 [11:12<00:05,  1.93s/it]"
     ]
    },
    {
     "name": "stdout",
     "output_type": "stream",
     "text": [
      "Resultado verbalizado: ```json\n",
      "{\n",
      "  \"task\": \"Fazer a reunião Play Time\",\n",
      "  \"type\": \"generated\"\n",
      "}\n",
      "```\n"
     ]
    },
    {
     "name": "stderr",
     "output_type": "stream",
     "text": [
      " 99%|█████████▉| 318/320 [11:13<00:03,  1.78s/it]"
     ]
    },
    {
     "name": "stdout",
     "output_type": "stream",
     "text": [
      "Resultado verbalizado: ```json\n",
      "{\n",
      "  \"task\": \"m3\",\n",
      "  \"type\": \"original\"\n",
      "}\n",
      "```\n"
     ]
    },
    {
     "name": "stderr",
     "output_type": "stream",
     "text": [
      "100%|█████████▉| 319/320 [11:15<00:01,  1.74s/it]"
     ]
    },
    {
     "name": "stdout",
     "output_type": "stream",
     "text": [
      "Resultado verbalizado: ```json\n",
      "{\n",
      "  \"task\": \"Viajar para Petrópolis\",\n",
      "  \"type\": \"generated\"\n",
      "}\n",
      "```\n"
     ]
    },
    {
     "name": "stderr",
     "output_type": "stream",
     "text": [
      "100%|██████████| 320/320 [11:17<00:00,  1.83s/it]"
     ]
    },
    {
     "name": "stdout",
     "output_type": "stream",
     "text": [
      "Resultado verbalizado: ```json\n",
      "{\n",
      "  \"task\": \"Visitar Petrópolis e as torres\",\n",
      "  \"type\": \"generated\"\n",
      "}\n",
      "```\n"
     ]
    },
    {
     "name": "stderr",
     "output_type": "stream",
     "text": [
      "100%|██████████| 320/320 [11:18<00:00,  2.12s/it]"
     ]
    },
    {
     "name": "stdout",
     "output_type": "stream",
     "text": [
      "Resultado verbalizado: ```json\n",
      "{\n",
      "  \"task\": \"Viajar para Petrópolis com Juliana\",\n",
      "  \"type\": \"generated\"\n",
      "}\n",
      "```\n"
     ]
    },
    {
     "name": "stderr",
     "output_type": "stream",
     "text": [
      "\n"
     ]
    }
   ],
   "source": [
    "client = OpenAI(\n",
    "    api_key=os.getenv('GEMINI_API_KEY'),\n",
    "    base_url=os.getenv('GEMINI_BASE_URL')\n",
    ")\n",
    "\n",
    "def verbalize_task(row):\n",
    "    \"\"\"\n",
    "    Verbaliza uma tarefa com base no resumo e no calendário fornecidos.\n",
    "    \"\"\"\n",
    "    try:\n",
    "        response = client.chat.completions.create(\n",
    "            model=\"gemini-2.5-flash\",\n",
    "            temperature=verbalizer_config.get('modelParameters').get('temperature'),\n",
    "            max_tokens=verbalizer_config.get('modelParameters').get('max_tokens'),\n",
    "            messages=[\n",
    "                {\n",
    "                    \"role\": \"system\",\n",
    "                    \"content\": messages[0].get('content').replace(\"{{calendars}}\", str(calendar_unique_list))\n",
    "                },\n",
    "                {\n",
    "                    \"role\": \"user\",\n",
    "                    \"content\": messages[1].get('content').replace(\"{{summary}}\", row['SUMMARY']).replace(\"{{calendar}}\", row['CALENDAR'])\n",
    "                }\n",
    "            ],\n",
    "        )\n",
    "\n",
    "        row['VERBALIZED'] = response.choices[0].message.content\n",
    "        return row\n",
    "    except Exception as e:\n",
    "        row['VERBALIZED'] = None\n",
    "        return row\n",
    "\n",
    "df = df.progress_apply(verbalize_task, axis=1)\n"
   ]
  },
  {
   "cell_type": "markdown",
   "id": "93b22dfd",
   "metadata": {},
   "source": [
    "# Exportar o DataFrame para um arquivo CSV\n"
   ]
  },
  {
   "cell_type": "code",
   "execution_count": 35,
   "id": "4f0843b1",
   "metadata": {},
   "outputs": [],
   "source": [
    "df.to_csv('../data/verbalized_tasks.csv', index=False, encoding='utf-8')"
   ]
  }
 ],
 "metadata": {
  "kernelspec": {
   "display_name": "llm-task-scheduler-py3.13",
   "language": "python",
   "name": "python3"
  },
  "language_info": {
   "codemirror_mode": {
    "name": "ipython",
    "version": 3
   },
   "file_extension": ".py",
   "mimetype": "text/x-python",
   "name": "python",
   "nbconvert_exporter": "python",
   "pygments_lexer": "ipython3",
   "version": "3.13.5"
  }
 },
 "nbformat": 4,
 "nbformat_minor": 5
}
