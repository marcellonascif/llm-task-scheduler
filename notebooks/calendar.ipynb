{
 "cells": [
  {
   "cell_type": "markdown",
   "id": "2a61ca04",
   "metadata": {},
   "source": [
    "### Entendendo os valores unicos da coluna CALENDAR"
   ]
  },
  {
   "cell_type": "code",
   "execution_count": null,
   "id": "63207f0f",
   "metadata": {},
   "outputs": [
    {
     "name": "stdout",
     "output_type": "stream",
     "text": [
      "=== ENTENDENDO OS VALORES ÚNICOS DA COLUNA CALENDAR ===\n",
      "Valores únicos na coluna CALENDAR: ['Alimentação' 'PUC' 'Pessoal' 'Compromisso' 'Saúde' 'Exames' 'Social'\n",
      " 'Games' 'Exercícios' 'RescueTime' 'Rotina' 'Trabalho' 'Viagens']\n",
      "\n",
      "Amostra de linhas com CALENDAR 'Rotina':\n",
      "['Deep Work']\n",
      "Quantidade de linhas com CALENDAR 'Rotina': 46\n",
      "\n",
      "Amostra de linhas com CALENDAR 'RescueTime':\n",
      "['⏱ 1:51' '⏱ 6:35' '⏱ 7:12' '⏱ 0:57' '⏱ 1:14' '⏱ 3:33' '⏱ 6:55' '⏱ 4:30'\n",
      " '⏱ 6:31' '⏱ 7:45' '⏱ 6:23' '⏱ 9:05 🗓 0:18' '⏱ 4:51' '⏱ 3:09' '⏱ 5:47'\n",
      " '⏱ 4:27' '⏱ 5:03' '⏱ 2:01' '⏱ 5:49' '⏱ 3:27' '⏱ 8:02' '⏱ 6:01' '⏱ 8:22'\n",
      " '⏱ 12:34' '⏱ 7:02 🗓 0:14' '⏱ 7:05 🗓 0:36' '⏱ 3:56' '⏱ 4:18' '⏱ 8:31'\n",
      " '⏱ 6:15' '⏱ 4:50' '⏱ 7:44' '⏱ 7:51 🗓 0:15' '⏱ 3:24' '⏱ 2:31' '⏱ 1:44'\n",
      " '⏱ 3:11' '⏱ 0:32' '⏱ 0:03' '⏱ 2:13' '⏱ 3:38' '⏱ 2:41' '⏱ 3:08' '⏱ 1:48']\n",
      "Quantidade de linhas com CALENDAR 'RescueTime': 45\n",
      "\n",
      "Amostra de linhas com CALENDAR 'Compromisso':\n",
      "['Psiquiatra' 'RM' 'P3' 'Zion' 'ZION' 'Autoescola' 'Aula de Violão'\n",
      " 'Cortar cabelo' 'Aula de Música' 'Centro' 'Conversa PUC'\n",
      " 'Auto Escola: Prova Prática' 'Detran' '🎤 Aula de Canto'\n",
      " '🎸 Aula de Guitarra' 'Graduação Muay Thai' 'Visita Rede'\n",
      " 'Mago da Música link' 'Conversa Pedro']\n",
      "Quantidade de linhas com CALENDAR 'Compromisso': 47\n"
     ]
    }
   ],
   "source": [
    "print('=== ENTENDENDO OS VALORES ÚNICOS DA COLUNA CALENDAR ===')\n",
    "print(f\"Valores únicos na coluna CALENDAR: {df['CALENDAR'].unique()}\")\n",
    "\n",
    "# Amostra de linhas com valor 'Rotina'\n",
    "sample_rotina = df[df['CALENDAR'] == 'Rotina']['SUMMARY'].unique()\n",
    "print(f\"\\nAmostra de linhas com CALENDAR 'Rotina':\\n{sample_rotina}\")\n",
    "qtd_rotina = len(df[df['CALENDAR'] == 'Rotina'])\n",
    "print(f\"Quantidade de linhas com CALENDAR 'Rotina': {qtd_rotina}\")\n",
    "\n",
    "sample_rescue_time = df[df['CALENDAR'] == 'RescueTime']['SUMMARY'].unique()\n",
    "print(f\"\\nAmostra de linhas com CALENDAR 'RescueTime':\\n{sample_rescue_time}\")\n",
    "qtd_recue_time = len(df[df['CALENDAR'] == 'RescueTime'])\n",
    "print(f\"Quantidade de linhas com CALENDAR 'RescueTime': {qtd_recue_time}\")\n",
    "\n",
    "unique_compromisso = df[df['CALENDAR'] == 'Compromisso']['SUMMARY'].unique()\n",
    "print(f\"\\nAmostra de linhas com CALENDAR 'Compromisso':\\n{unique_compromisso}\")\n",
    "qtd_compromisso = len(df[df['CALENDAR'] == 'Compromisso'])\n",
    "print(f\"Quantidade de linhas com CALENDAR 'Compromisso': {qtd_compromisso}\")"
   ]
  }
 ],
 "metadata": {
  "language_info": {
   "name": "python"
  }
 },
 "nbformat": 4,
 "nbformat_minor": 5
}
